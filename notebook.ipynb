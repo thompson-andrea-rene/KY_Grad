{
 "cells": [
  {
   "cell_type": "code",
   "execution_count": null,
   "metadata": {},
   "outputs": [],
   "source": [
    "#import packages \n",
    "import pandas as pd\n",
    "import matplotlib.pyplot as plt\n",
    "import numpy as np\n",
    "import plotly.express as px\n"
   ]
  },
  {
   "cell_type": "code",
   "execution_count": 9,
   "metadata": {},
   "outputs": [],
   "source": [
    "#load data\n",
    "data_grad = pd.read_csv(\"data/high school graduation rates.csv\")\n",
    "data_teacher = pd.read_csv(\"data/avgclsrmsal.csv\")"
   ]
  },
  {
   "cell_type": "code",
   "execution_count": 10,
   "metadata": {},
   "outputs": [
    {
     "data": {
      "text/plain": [
       "<bound method NDFrame.head of                      AVERAGE CLASSROOM TEACHER SALARY      Unnamed: 1  \\\n",
       "0                              1989-90 THROUGH 2024-25            NaN   \n",
       "1                                                  NaN            NaN   \n",
       "2                                              Dist No  District name   \n",
       "3                                                  001         ADAIR    \n",
       "4                                                  005         ALLEN    \n",
       "..                                                 ...            ...   \n",
       "190  Annual Salary with expenditures object codes 0...            NaN   \n",
       "191  State Average by District Salary: Each fiscal ...            NaN   \n",
       "192                                                               NaN   \n",
       "193                                                               NaN   \n",
       "194                                                               NaN   \n",
       "\n",
       "    Unnamed: 2 Unnamed: 3 Unnamed: 4 Unnamed: 5 Unnamed: 6 Unnamed: 7  \\\n",
       "0          NaN        NaN        NaN        NaN        NaN        NaN   \n",
       "1          NaN        NaN        NaN        NaN        NaN        NaN   \n",
       "2      1989-90    1990-91    1991-92    1992-93    1993-94    1994-95   \n",
       "3     $25,779    $27,714    $30,002    $30,069    $29,819    $30,971    \n",
       "4     $25,480    $27,825    $29,139    $29,645    $30,635    $31,410    \n",
       "..         ...        ...        ...        ...        ...        ...   \n",
       "190        NaN        NaN        NaN        NaN        NaN        NaN   \n",
       "191        NaN        NaN        NaN        NaN        NaN        NaN   \n",
       "192        NaN        NaN        NaN        NaN        NaN        NaN   \n",
       "193        NaN        NaN        NaN        NaN        NaN        NaN   \n",
       "194        NaN        NaN        NaN        NaN        NaN        NaN   \n",
       "\n",
       "    Unnamed: 8 Unnamed: 9  ... Unnamed: 28 Unnamed: 29 Unnamed: 30  \\\n",
       "0          NaN        NaN  ...         NaN         NaN         NaN   \n",
       "1          NaN        NaN  ...         NaN         NaN         NaN   \n",
       "2      1995-96    1996-97  ...     2015-16     2016-17     2017-18   \n",
       "3     $31,371    $32,233   ...    $47,999     $47,775      $50,925   \n",
       "4     $31,770    $32,364   ...    $50,109     $49,742      $49,817   \n",
       "..         ...        ...  ...         ...         ...         ...   \n",
       "190        NaN        NaN  ...         NaN         NaN         NaN   \n",
       "191        NaN        NaN  ...         NaN         NaN         NaN   \n",
       "192        NaN        NaN  ...         NaN         NaN         NaN   \n",
       "193        NaN        NaN  ...         NaN         NaN         NaN   \n",
       "194        NaN        NaN  ...         NaN         NaN         NaN   \n",
       "\n",
       "    Unnamed: 31 Unnamed: 32 Unnamed: 33 Unnamed: 34 Unnamed: 35 Unnamed: 36  \\\n",
       "0           NaN         NaN         NaN         NaN         NaN         NaN   \n",
       "1           NaN         NaN         NaN         NaN         NaN         NaN   \n",
       "2       2018-19     2019-20     2020-21     2021-22     2022-23     2023-24   \n",
       "3       $51,127     $50,685     $51,120     $50,610     $53,609     $53,316   \n",
       "4       $49,990     $50,617     $52,210     $52,639     $52,625     $53,942   \n",
       "..          ...         ...         ...         ...         ...         ...   \n",
       "190         NaN         NaN         NaN         NaN         NaN         NaN   \n",
       "191         NaN         NaN         NaN         NaN         NaN         NaN   \n",
       "192         NaN         NaN         NaN         NaN         NaN         NaN   \n",
       "193         NaN         NaN         NaN         NaN         NaN         NaN   \n",
       "194         NaN         NaN         NaN         NaN         NaN         NaN   \n",
       "\n",
       "    Unnamed: 37  \n",
       "0           NaN  \n",
       "1           NaN  \n",
       "2       2024-25  \n",
       "3       $54,377  \n",
       "4       $56,471  \n",
       "..          ...  \n",
       "190         NaN  \n",
       "191         NaN  \n",
       "192         NaN  \n",
       "193         NaN  \n",
       "194         NaN  \n",
       "\n",
       "[195 rows x 38 columns]>"
      ]
     },
     "execution_count": 10,
     "metadata": {},
     "output_type": "execute_result"
    }
   ],
   "source": [
    "data_teacher.head"
   ]
  },
  {
   "cell_type": "code",
   "execution_count": 8,
   "metadata": {},
   "outputs": [
    {
     "data": {
      "text/plain": [
       "<bound method NDFrame.head of          LocationType      Location  TimeFrame DataFormat   Data\n",
       "0               State      Kentucky       2003     Number  36379\n",
       "1               State      Kentucky       2004     Number  36551\n",
       "2               State      Kentucky       2005     Number  36982\n",
       "3               State      Kentucky       2006     Number  37083\n",
       "4               State      Kentucky       2007     Number  38364\n",
       "...               ...           ...        ...        ...    ...\n",
       "2473  School District  Woodford Co.       2006    Percent   0.93\n",
       "2474  School District  Woodford Co.       2007    Percent   0.91\n",
       "2475  School District  Woodford Co.       2008    Percent   0.92\n",
       "2476  School District  Woodford Co.       2009     Number    295\n",
       "2477  School District  Woodford Co.       2009    Percent   0.92\n",
       "\n",
       "[2478 rows x 5 columns]>"
      ]
     },
     "execution_count": 8,
     "metadata": {},
     "output_type": "execute_result"
    }
   ],
   "source": [
    "data_grad.head\n"
   ]
  },
  {
   "cell_type": "markdown",
   "metadata": {},
   "source": [
    "1.Project Objective\n",
    "Ojective - Analyze if a higher percentage discount affects the customer rating of a product \n",
    "\n",
    "Data Source - https://www.kaggle.com/datasets/yamrajmusic/blinkit-products-dataset"
   ]
  },
  {
   "cell_type": "markdown",
   "metadata": {},
   "source": []
  }
 ],
 "metadata": {
  "kernelspec": {
   "display_name": "Python 3",
   "language": "python",
   "name": "python3"
  },
  "language_info": {
   "codemirror_mode": {
    "name": "ipython",
    "version": 3
   },
   "file_extension": ".py",
   "mimetype": "text/x-python",
   "name": "python",
   "nbconvert_exporter": "python",
   "pygments_lexer": "ipython3",
   "version": "3.13.1"
  }
 },
 "nbformat": 4,
 "nbformat_minor": 2
}
