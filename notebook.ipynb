{
 "cells": [
  {
   "cell_type": "code",
   "execution_count": 1,
   "metadata": {},
   "outputs": [
    {
     "ename": "ModuleNotFoundError",
     "evalue": "No module named 'pandas'",
     "output_type": "error",
     "traceback": [
      "\u001b[1;31m---------------------------------------------------------------------------\u001b[0m",
      "\u001b[1;31mModuleNotFoundError\u001b[0m                       Traceback (most recent call last)",
      "Cell \u001b[1;32mIn[1], line 2\u001b[0m\n\u001b[0;32m      1\u001b[0m \u001b[38;5;66;03m#import packages \u001b[39;00m\n\u001b[1;32m----> 2\u001b[0m \u001b[38;5;28;01mimport\u001b[39;00m\u001b[38;5;250m \u001b[39m\u001b[38;5;21;01mpandas\u001b[39;00m\u001b[38;5;250m \u001b[39m\u001b[38;5;28;01mas\u001b[39;00m\u001b[38;5;250m \u001b[39m\u001b[38;5;21;01mpd\u001b[39;00m\n\u001b[0;32m      3\u001b[0m \u001b[38;5;28;01mimport\u001b[39;00m\u001b[38;5;250m \u001b[39m\u001b[38;5;21;01mmatplotlib\u001b[39;00m\u001b[38;5;21;01m.\u001b[39;00m\u001b[38;5;21;01mpyplot\u001b[39;00m\u001b[38;5;250m \u001b[39m\u001b[38;5;28;01mas\u001b[39;00m\u001b[38;5;250m \u001b[39m\u001b[38;5;21;01mplt\u001b[39;00m\n\u001b[0;32m      4\u001b[0m \u001b[38;5;28;01mimport\u001b[39;00m\u001b[38;5;250m \u001b[39m\u001b[38;5;21;01mnumpy\u001b[39;00m\u001b[38;5;250m \u001b[39m\u001b[38;5;28;01mas\u001b[39;00m\u001b[38;5;250m \u001b[39m\u001b[38;5;21;01mnp\u001b[39;00m\n",
      "\u001b[1;31mModuleNotFoundError\u001b[0m: No module named 'pandas'"
     ]
    }
   ],
   "source": [
    "#import packages \n",
    "import pandas as pd\n",
    "import matplotlib.pyplot as plt\n",
    "import numpy as np\n",
    "import plotly.express as px\n"
   ]
  },
  {
   "cell_type": "markdown",
   "metadata": {},
   "source": [
    "1. Loading Data\n",
    "    Read in two CSV files "
   ]
  },
  {
   "cell_type": "code",
   "execution_count": 2,
   "metadata": {},
   "outputs": [
    {
     "ename": "NameError",
     "evalue": "name 'pd' is not defined",
     "output_type": "error",
     "traceback": [
      "\u001b[1;31m---------------------------------------------------------------------------\u001b[0m",
      "\u001b[1;31mNameError\u001b[0m                                 Traceback (most recent call last)",
      "Cell \u001b[1;32mIn[2], line 2\u001b[0m\n\u001b[0;32m      1\u001b[0m \u001b[38;5;66;03m#load data\u001b[39;00m\n\u001b[1;32m----> 2\u001b[0m data_grad \u001b[38;5;241m=\u001b[39m \u001b[43mpd\u001b[49m\u001b[38;5;241m.\u001b[39mread_csv(\u001b[38;5;124m\"\u001b[39m\u001b[38;5;124mdata/grad rates.csv\u001b[39m\u001b[38;5;124m\"\u001b[39m)\n\u001b[0;32m      3\u001b[0m data_teacher \u001b[38;5;241m=\u001b[39m pd\u001b[38;5;241m.\u001b[39mread_csv(\u001b[38;5;124m\"\u001b[39m\u001b[38;5;124mdata/avgclsrmsal.csv\u001b[39m\u001b[38;5;124m\"\u001b[39m, header\u001b[38;5;241m=\u001b[39m\u001b[38;5;241m3\u001b[39m)\n",
      "\u001b[1;31mNameError\u001b[0m: name 'pd' is not defined"
     ]
    }
   ],
   "source": [
    "#load data\n",
    "data_grad = pd.read_csv(\"data/grad rates.csv\")\n",
    "data_teacher = pd.read_csv(\"data/avgclsrmsal.csv\", header=3)"
   ]
  },
  {
   "cell_type": "markdown",
   "metadata": {},
   "source": [
    "2. Clean and operate on the data while combining them"
   ]
  },
  {
   "cell_type": "code",
   "execution_count": 3,
   "metadata": {},
   "outputs": [],
   "source": [
    "#Removing data with no information for grad rates\n",
    "data_grad.drop(\"1989-90\", inplace=True, axis=1)\n",
    "data_grad.drop(\"1990-91\", inplace=True, axis=1)\n",
    "data_grad.drop(\"1991-92\", inplace=True, axis=1)\n",
    "data_grad.drop(\"1992-93\", inplace=True, axis=1)\n",
    "data_grad.drop(\"1993-94\", inplace=True, axis=1)\n",
    "data_grad.drop(\"1994-95\", inplace=True, axis=1)\n",
    "data_grad.drop(\"1995-96\", inplace=True, axis=1)\n",
    "data_grad.drop(\"1996-97\", inplace=True, axis=1)\n",
    "data_grad.drop(\"1997-98\", inplace=True, axis=1)\n",
    "data_grad.drop(\"1998-99\", inplace=True, axis=1)\n",
    "data_grad.drop(\"1999-00\", inplace=True, axis=1)\n",
    "data_grad.drop(\"2000-01\", inplace=True, axis=1)\n",
    "data_grad.drop(\"2001-02\", inplace=True, axis=1)\n",
    "data_grad.drop(\"2009-10\", inplace=True, axis=1)\n",
    "data_grad.drop(\"2010-11\", inplace=True, axis=1)\n",
    "data_grad.drop(\"2011-12\", inplace=True, axis=1)\n",
    "data_grad.drop(\"2012-13\", inplace=True, axis=1)\n",
    "data_grad.drop(\"2013-14\", inplace=True, axis=1)\n",
    "data_grad.drop(\"2014-15\", inplace=True, axis=1)\n",
    "data_grad.drop(\"2015-16\", inplace=True, axis=1)\n",
    "data_grad.drop(\"2016-17\", inplace=True, axis=1)\n",
    "data_grad.drop(\"2017-18\", inplace=True, axis=1)\n",
    "data_grad.drop(\"2018-19\", inplace=True, axis=1)\n",
    "data_grad.drop(\"2019-20\", inplace=True, axis=1)\n",
    "data_grad.drop(\"2020-21\", inplace=True, axis=1)\n",
    "data_grad.drop(\"2021-22\", inplace=True, axis=1)\n",
    "data_grad.drop(\"2022-23\", inplace=True, axis=1)\n",
    "data_grad.drop(\"2023-24\", inplace=True, axis=1)\n",
    "data_grad.drop(\"2024-25\", inplace=True, axis=1)\n",
    "data_teacher.drop(\"1989-90\", inplace=True, axis=1)\n",
    "data_teacher.drop(\"1990-91\", inplace=True, axis=1)\n",
    "data_teacher.drop(\"1991-92\", inplace=True, axis=1)\n",
    "data_teacher.drop(\"1992-93\", inplace=True, axis=1)\n",
    "data_teacher.drop(\"1993-94\", inplace=True, axis=1)\n",
    "data_teacher.drop(\"1994-95\", inplace=True, axis=1)\n",
    "data_teacher.drop(\"1995-96\", inplace=True, axis=1)\n",
    "data_teacher.drop(\"1996-97\", inplace=True, axis=1)\n",
    "data_teacher.drop(\"1997-98\", inplace=True, axis=1)\n",
    "data_teacher.drop(\"1998-99\", inplace=True, axis=1)\n",
    "data_teacher.drop(\"1999-00\", inplace=True, axis=1)\n",
    "data_teacher.drop(\"2000-01\", inplace=True, axis=1)\n",
    "data_teacher.drop(\"2001-02\", inplace=True, axis=1)\n",
    "data_teacher.drop(\"2009-10\", inplace=True, axis=1)\n",
    "data_teacher.drop(\"2010-11\", inplace=True, axis=1)\n",
    "data_teacher.drop(\"2011-12\", inplace=True, axis=1)\n",
    "data_teacher.drop(\"2012-13\", inplace=True, axis=1)\n",
    "data_teacher.drop(\"2013-14\", inplace=True, axis=1)\n",
    "data_teacher.drop(\"2014-15\", inplace=True, axis=1)\n",
    "data_teacher.drop(\"2015-16\", inplace=True, axis=1)\n",
    "data_teacher.drop(\"2016-17\", inplace=True, axis=1)\n",
    "data_teacher.drop(\"2017-18\", inplace=True, axis=1)\n",
    "data_teacher.drop(\"2018-19\", inplace=True, axis=1)\n",
    "data_teacher.drop(\"2019-20\", inplace=True, axis=1)\n",
    "data_teacher.drop(\"2020-21\", inplace=True, axis=1)\n",
    "data_teacher.drop(\"2021-22\", inplace=True, axis=1)\n",
    "data_teacher.drop(\"2022-23\", inplace=True, axis=1)\n",
    "data_teacher.drop(\"2023-24\", inplace=True, axis=1)\n",
    "data_teacher.drop(\"2024-25\", inplace=True, axis=1)"
   ]
  },
  {
   "cell_type": "code",
   "execution_count": 4,
   "metadata": {},
   "outputs": [
    {
     "data": {
      "text/html": [
       "<div>\n",
       "<style scoped>\n",
       "    .dataframe tbody tr th:only-of-type {\n",
       "        vertical-align: middle;\n",
       "    }\n",
       "\n",
       "    .dataframe tbody tr th {\n",
       "        vertical-align: top;\n",
       "    }\n",
       "\n",
       "    .dataframe thead th {\n",
       "        text-align: right;\n",
       "    }\n",
       "</style>\n",
       "<table border=\"1\" class=\"dataframe\">\n",
       "  <thead>\n",
       "    <tr style=\"text-align: right;\">\n",
       "      <th></th>\n",
       "      <th>District name</th>\n",
       "      <th>2002-03 _x</th>\n",
       "      <th>2003-04 _x</th>\n",
       "      <th>2004-05_x</th>\n",
       "      <th>2005-06_x</th>\n",
       "      <th>2006-07_x</th>\n",
       "      <th>2007-08_x</th>\n",
       "      <th>2008-09_x</th>\n",
       "      <th>Dist No</th>\n",
       "      <th>2002-03 _y</th>\n",
       "      <th>2003-04 _y</th>\n",
       "      <th>2004-05_y</th>\n",
       "      <th>2005-06_y</th>\n",
       "      <th>2006-07_y</th>\n",
       "      <th>2007-08_y</th>\n",
       "      <th>2008-09_y</th>\n",
       "    </tr>\n",
       "  </thead>\n",
       "  <tbody>\n",
       "    <tr>\n",
       "      <th>0</th>\n",
       "      <td>ADAIR</td>\n",
       "      <td>66.0</td>\n",
       "      <td>74.0</td>\n",
       "      <td>85.0</td>\n",
       "      <td>72.0</td>\n",
       "      <td>83.0</td>\n",
       "      <td>82.0</td>\n",
       "      <td>86.0</td>\n",
       "      <td>001</td>\n",
       "      <td>$37,104</td>\n",
       "      <td>$37,919</td>\n",
       "      <td>$38,923</td>\n",
       "      <td>$40,576</td>\n",
       "      <td>$41,810</td>\n",
       "      <td>$45,964</td>\n",
       "      <td>$47,482</td>\n",
       "    </tr>\n",
       "    <tr>\n",
       "      <th>1</th>\n",
       "      <td>ALLEN</td>\n",
       "      <td>74.0</td>\n",
       "      <td>83.0</td>\n",
       "      <td>83.0</td>\n",
       "      <td>89.0</td>\n",
       "      <td>88.0</td>\n",
       "      <td>83.0</td>\n",
       "      <td>83.0</td>\n",
       "      <td>005</td>\n",
       "      <td>$38,331</td>\n",
       "      <td>$39,540</td>\n",
       "      <td>$40,941</td>\n",
       "      <td>$41,869</td>\n",
       "      <td>$42,610</td>\n",
       "      <td>$46,148</td>\n",
       "      <td>$46,602</td>\n",
       "    </tr>\n",
       "    <tr>\n",
       "      <th>2</th>\n",
       "      <td>ANCHORAGE</td>\n",
       "      <td>NaN</td>\n",
       "      <td>NaN</td>\n",
       "      <td>NaN</td>\n",
       "      <td>NaN</td>\n",
       "      <td>NaN</td>\n",
       "      <td>NaN</td>\n",
       "      <td>NaN</td>\n",
       "      <td>006</td>\n",
       "      <td>$47,635</td>\n",
       "      <td>$50,196</td>\n",
       "      <td>$52,606</td>\n",
       "      <td>$54,529</td>\n",
       "      <td>$56,295</td>\n",
       "      <td>$59,022</td>\n",
       "      <td>$59,157</td>\n",
       "    </tr>\n",
       "    <tr>\n",
       "      <th>3</th>\n",
       "      <td>ANDERSON</td>\n",
       "      <td>88.0</td>\n",
       "      <td>86.0</td>\n",
       "      <td>86.0</td>\n",
       "      <td>86.0</td>\n",
       "      <td>90.0</td>\n",
       "      <td>90.0</td>\n",
       "      <td>89.0</td>\n",
       "      <td>011</td>\n",
       "      <td>$36,464</td>\n",
       "      <td>$37,294</td>\n",
       "      <td>$38,559</td>\n",
       "      <td>$39,489</td>\n",
       "      <td>$41,732</td>\n",
       "      <td>$45,002</td>\n",
       "      <td>$46,263</td>\n",
       "    </tr>\n",
       "    <tr>\n",
       "      <th>4</th>\n",
       "      <td>ASHLAND</td>\n",
       "      <td>86.0</td>\n",
       "      <td>87.0</td>\n",
       "      <td>85.0</td>\n",
       "      <td>84.0</td>\n",
       "      <td>83.0</td>\n",
       "      <td>84.0</td>\n",
       "      <td>88.0</td>\n",
       "      <td>012</td>\n",
       "      <td>$39,913</td>\n",
       "      <td>$41,535</td>\n",
       "      <td>$43,106</td>\n",
       "      <td>$44,472</td>\n",
       "      <td>$45,984</td>\n",
       "      <td>$49,977</td>\n",
       "      <td>$49,723</td>\n",
       "    </tr>\n",
       "  </tbody>\n",
       "</table>\n",
       "</div>"
      ],
      "text/plain": [
       "  District name   2002-03 _x   2003-04 _x  2004-05_x  2005-06_x  2006-07_x  \\\n",
       "0        ADAIR          66.0         74.0       85.0       72.0       83.0   \n",
       "1        ALLEN          74.0         83.0       83.0       89.0       88.0   \n",
       "2     ANCHORAGE          NaN          NaN        NaN        NaN        NaN   \n",
       "3     ANDERSON          88.0         86.0       86.0       86.0       90.0   \n",
       "4       ASHLAND         86.0         87.0       85.0       84.0       83.0   \n",
       "\n",
       "   2007-08_x  2008-09_x Dist No  2002-03 _y  2003-04 _y 2004-05_y 2005-06_y  \\\n",
       "0       82.0       86.0     001     $37,104     $37,919  $38,923   $40,576    \n",
       "1       83.0       83.0     005     $38,331     $39,540  $40,941   $41,869    \n",
       "2        NaN        NaN     006     $47,635     $50,196  $52,606   $54,529    \n",
       "3       90.0       89.0     011     $36,464     $37,294  $38,559   $39,489    \n",
       "4       84.0       88.0     012     $39,913     $41,535  $43,106   $44,472    \n",
       "\n",
       "  2006-07_y 2007-08_y 2008-09_y  \n",
       "0  $41,810    $45,964   $47,482  \n",
       "1  $42,610    $46,148   $46,602  \n",
       "2  $56,295    $59,022   $59,157  \n",
       "3  $41,732    $45,002   $46,263  \n",
       "4  $45,984    $49,977   $49,723  "
      ]
     },
     "execution_count": 4,
     "metadata": {},
     "output_type": "execute_result"
    }
   ],
   "source": [
    "#Merge two data frames\n",
    "merged_df = pd.merge(data_grad, data_teacher, left_on=\"District name\", right_on=\"District name\")\n",
    "merged_df.head(5)"
   ]
  },
  {
   "cell_type": "code",
   "execution_count": 5,
   "metadata": {},
   "outputs": [],
   "source": [
    "#Drop rows that have no graduation rates, due to no high school program in the district \n",
    "merged_df.dropna(inplace = True)\n",
    "\n"
   ]
  },
  {
   "cell_type": "code",
   "execution_count": 6,
   "metadata": {},
   "outputs": [],
   "source": [
    "#Remove dollar signs and commas and covert to numeric values\n",
    "merged_df[' 2002-03 _y'] = merged_df[' 2002-03 _y'].str.replace('[$,]', '', regex=True)\n",
    "merged_df[' 2002-03 _y'] = pd.to_numeric(merged_df[' 2002-03 _y'])\n",
    "merged_df[' 2003-04 _y'] = merged_df[' 2003-04 _y'].str.replace('[$,]', '', regex=True)\n",
    "merged_df[' 2003-04 _y'] = pd.to_numeric(merged_df[' 2003-04 _y'])\n",
    "merged_df['2004-05_y'] = merged_df['2004-05_y'].str.replace('[$,]', '', regex=True)\n",
    "merged_df['2004-05_y'] = pd.to_numeric(merged_df['2004-05_y'])\n",
    "merged_df['2005-06_y'] = merged_df['2005-06_y'].str.replace('[$,]', '', regex=True)\n",
    "merged_df['2005-06_y'] = pd.to_numeric(merged_df['2005-06_y'])\n",
    "merged_df['2006-07_y'] = merged_df['2006-07_y'].str.replace('[$,]', '', regex=True)\n",
    "merged_df['2006-07_y'] = pd.to_numeric(merged_df['2006-07_y'])\n",
    "merged_df['2007-08_y'] = merged_df['2007-08_y'].str.replace('[$,]', '', regex=True)\n",
    "merged_df['2007-08_y'] = pd.to_numeric(merged_df['2007-08_y'])\n",
    "merged_df['2008-09_y'] = merged_df['2008-09_y'].str.replace('[$,]', '', regex=True)\n",
    "merged_df['2008-09_y'] = pd.to_numeric(merged_df['2008-09_y'])"
   ]
  },
  {
   "cell_type": "code",
   "execution_count": 7,
   "metadata": {},
   "outputs": [
    {
     "data": {
      "text/plain": [
       "District name     object\n",
       " 2002-03 _x      float64\n",
       " 2003-04 _x      float64\n",
       "2004-05_x        float64\n",
       "2005-06_x        float64\n",
       "2006-07_x        float64\n",
       "2007-08_x        float64\n",
       "2008-09_x        float64\n",
       "Dist No           object\n",
       " 2002-03 _y        int64\n",
       " 2003-04 _y        int64\n",
       "2004-05_y          int64\n",
       "2005-06_y          int64\n",
       "2006-07_y          int64\n",
       "2007-08_y          int64\n",
       "2008-09_y          int64\n",
       "dtype: object"
      ]
     },
     "execution_count": 7,
     "metadata": {},
     "output_type": "execute_result"
    }
   ],
   "source": [
    "#check data types\n",
    "merged_df.dtypes\n"
   ]
  },
  {
   "cell_type": "code",
   "execution_count": 8,
   "metadata": {},
   "outputs": [
    {
     "data": {
      "text/html": [
       "<div>\n",
       "<style scoped>\n",
       "    .dataframe tbody tr th:only-of-type {\n",
       "        vertical-align: middle;\n",
       "    }\n",
       "\n",
       "    .dataframe tbody tr th {\n",
       "        vertical-align: top;\n",
       "    }\n",
       "\n",
       "    .dataframe thead th {\n",
       "        text-align: right;\n",
       "    }\n",
       "</style>\n",
       "<table border=\"1\" class=\"dataframe\">\n",
       "  <thead>\n",
       "    <tr style=\"text-align: right;\">\n",
       "      <th></th>\n",
       "      <th>2002-03 _x</th>\n",
       "      <th>2003-04 _x</th>\n",
       "      <th>2004-05_x</th>\n",
       "      <th>2005-06_x</th>\n",
       "      <th>2006-07_x</th>\n",
       "      <th>2007-08_x</th>\n",
       "      <th>2008-09_x</th>\n",
       "      <th>2002-03 _y</th>\n",
       "      <th>2003-04 _y</th>\n",
       "      <th>2004-05_y</th>\n",
       "      <th>2005-06_y</th>\n",
       "      <th>2006-07_y</th>\n",
       "      <th>2007-08_y</th>\n",
       "      <th>2008-09_y</th>\n",
       "    </tr>\n",
       "  </thead>\n",
       "  <tbody>\n",
       "    <tr>\n",
       "      <th>count</th>\n",
       "      <td>169.000000</td>\n",
       "      <td>169.000000</td>\n",
       "      <td>169.000000</td>\n",
       "      <td>169.000000</td>\n",
       "      <td>169.000000</td>\n",
       "      <td>169.000000</td>\n",
       "      <td>169.000000</td>\n",
       "      <td>169.000000</td>\n",
       "      <td>169.000000</td>\n",
       "      <td>169.000000</td>\n",
       "      <td>169.000000</td>\n",
       "      <td>169.000000</td>\n",
       "      <td>169.000000</td>\n",
       "      <td>169.000000</td>\n",
       "    </tr>\n",
       "    <tr>\n",
       "      <th>mean</th>\n",
       "      <td>81.857988</td>\n",
       "      <td>83.798817</td>\n",
       "      <td>85.556213</td>\n",
       "      <td>86.289941</td>\n",
       "      <td>87.236686</td>\n",
       "      <td>87.928994</td>\n",
       "      <td>88.065089</td>\n",
       "      <td>37975.088757</td>\n",
       "      <td>39253.059172</td>\n",
       "      <td>40460.437870</td>\n",
       "      <td>41700.254438</td>\n",
       "      <td>42702.928994</td>\n",
       "      <td>46380.195266</td>\n",
       "      <td>46964.153846</td>\n",
       "    </tr>\n",
       "    <tr>\n",
       "      <th>std</th>\n",
       "      <td>8.604606</td>\n",
       "      <td>7.684694</td>\n",
       "      <td>6.758467</td>\n",
       "      <td>6.900135</td>\n",
       "      <td>6.809715</td>\n",
       "      <td>6.395287</td>\n",
       "      <td>6.081923</td>\n",
       "      <td>2134.875724</td>\n",
       "      <td>2269.417737</td>\n",
       "      <td>2372.849502</td>\n",
       "      <td>2442.941521</td>\n",
       "      <td>2554.933068</td>\n",
       "      <td>2578.276379</td>\n",
       "      <td>2578.088795</td>\n",
       "    </tr>\n",
       "    <tr>\n",
       "      <th>min</th>\n",
       "      <td>50.000000</td>\n",
       "      <td>62.000000</td>\n",
       "      <td>66.000000</td>\n",
       "      <td>61.000000</td>\n",
       "      <td>67.000000</td>\n",
       "      <td>70.000000</td>\n",
       "      <td>71.000000</td>\n",
       "      <td>30494.000000</td>\n",
       "      <td>30235.000000</td>\n",
       "      <td>31681.000000</td>\n",
       "      <td>33508.000000</td>\n",
       "      <td>32853.000000</td>\n",
       "      <td>37555.000000</td>\n",
       "      <td>38394.000000</td>\n",
       "    </tr>\n",
       "    <tr>\n",
       "      <th>25%</th>\n",
       "      <td>77.000000</td>\n",
       "      <td>79.000000</td>\n",
       "      <td>81.000000</td>\n",
       "      <td>82.000000</td>\n",
       "      <td>83.000000</td>\n",
       "      <td>84.000000</td>\n",
       "      <td>85.000000</td>\n",
       "      <td>36690.000000</td>\n",
       "      <td>37924.000000</td>\n",
       "      <td>39100.000000</td>\n",
       "      <td>40373.000000</td>\n",
       "      <td>41249.000000</td>\n",
       "      <td>44716.000000</td>\n",
       "      <td>45271.000000</td>\n",
       "    </tr>\n",
       "    <tr>\n",
       "      <th>50%</th>\n",
       "      <td>83.000000</td>\n",
       "      <td>84.000000</td>\n",
       "      <td>86.000000</td>\n",
       "      <td>87.000000</td>\n",
       "      <td>87.000000</td>\n",
       "      <td>88.000000</td>\n",
       "      <td>88.000000</td>\n",
       "      <td>37891.000000</td>\n",
       "      <td>39243.000000</td>\n",
       "      <td>40312.000000</td>\n",
       "      <td>41392.000000</td>\n",
       "      <td>42614.000000</td>\n",
       "      <td>46286.000000</td>\n",
       "      <td>46881.000000</td>\n",
       "    </tr>\n",
       "    <tr>\n",
       "      <th>75%</th>\n",
       "      <td>87.000000</td>\n",
       "      <td>89.000000</td>\n",
       "      <td>91.000000</td>\n",
       "      <td>90.000000</td>\n",
       "      <td>92.000000</td>\n",
       "      <td>91.000000</td>\n",
       "      <td>92.000000</td>\n",
       "      <td>39288.000000</td>\n",
       "      <td>40573.000000</td>\n",
       "      <td>41868.000000</td>\n",
       "      <td>43313.000000</td>\n",
       "      <td>44211.000000</td>\n",
       "      <td>48048.000000</td>\n",
       "      <td>48536.000000</td>\n",
       "    </tr>\n",
       "    <tr>\n",
       "      <th>max</th>\n",
       "      <td>100.000000</td>\n",
       "      <td>100.000000</td>\n",
       "      <td>100.000000</td>\n",
       "      <td>100.000000</td>\n",
       "      <td>100.000000</td>\n",
       "      <td>100.000000</td>\n",
       "      <td>100.000000</td>\n",
       "      <td>45701.000000</td>\n",
       "      <td>46776.000000</td>\n",
       "      <td>48099.000000</td>\n",
       "      <td>49645.000000</td>\n",
       "      <td>51287.000000</td>\n",
       "      <td>55255.000000</td>\n",
       "      <td>55692.000000</td>\n",
       "    </tr>\n",
       "  </tbody>\n",
       "</table>\n",
       "</div>"
      ],
      "text/plain": [
       "        2002-03 _x   2003-04 _x   2004-05_x   2005-06_x   2006-07_x  \\\n",
       "count   169.000000   169.000000  169.000000  169.000000  169.000000   \n",
       "mean     81.857988    83.798817   85.556213   86.289941   87.236686   \n",
       "std       8.604606     7.684694    6.758467    6.900135    6.809715   \n",
       "min      50.000000    62.000000   66.000000   61.000000   67.000000   \n",
       "25%      77.000000    79.000000   81.000000   82.000000   83.000000   \n",
       "50%      83.000000    84.000000   86.000000   87.000000   87.000000   \n",
       "75%      87.000000    89.000000   91.000000   90.000000   92.000000   \n",
       "max     100.000000   100.000000  100.000000  100.000000  100.000000   \n",
       "\n",
       "        2007-08_x   2008-09_x    2002-03 _y    2003-04 _y     2004-05_y  \\\n",
       "count  169.000000  169.000000    169.000000    169.000000    169.000000   \n",
       "mean    87.928994   88.065089  37975.088757  39253.059172  40460.437870   \n",
       "std      6.395287    6.081923   2134.875724   2269.417737   2372.849502   \n",
       "min     70.000000   71.000000  30494.000000  30235.000000  31681.000000   \n",
       "25%     84.000000   85.000000  36690.000000  37924.000000  39100.000000   \n",
       "50%     88.000000   88.000000  37891.000000  39243.000000  40312.000000   \n",
       "75%     91.000000   92.000000  39288.000000  40573.000000  41868.000000   \n",
       "max    100.000000  100.000000  45701.000000  46776.000000  48099.000000   \n",
       "\n",
       "          2005-06_y     2006-07_y     2007-08_y     2008-09_y  \n",
       "count    169.000000    169.000000    169.000000    169.000000  \n",
       "mean   41700.254438  42702.928994  46380.195266  46964.153846  \n",
       "std     2442.941521   2554.933068   2578.276379   2578.088795  \n",
       "min    33508.000000  32853.000000  37555.000000  38394.000000  \n",
       "25%    40373.000000  41249.000000  44716.000000  45271.000000  \n",
       "50%    41392.000000  42614.000000  46286.000000  46881.000000  \n",
       "75%    43313.000000  44211.000000  48048.000000  48536.000000  \n",
       "max    49645.000000  51287.000000  55255.000000  55692.000000  "
      ]
     },
     "execution_count": 8,
     "metadata": {},
     "output_type": "execute_result"
    }
   ],
   "source": [
    "summary_stats = merged_df.describe()\n",
    "summary_stats"
   ]
  },
  {
   "cell_type": "code",
   "execution_count": 9,
   "metadata": {},
   "outputs": [
    {
     "data": {
      "text/html": [
       "<div>\n",
       "<style scoped>\n",
       "    .dataframe tbody tr th:only-of-type {\n",
       "        vertical-align: middle;\n",
       "    }\n",
       "\n",
       "    .dataframe tbody tr th {\n",
       "        vertical-align: top;\n",
       "    }\n",
       "\n",
       "    .dataframe thead th {\n",
       "        text-align: right;\n",
       "    }\n",
       "</style>\n",
       "<table border=\"1\" class=\"dataframe\">\n",
       "  <thead>\n",
       "    <tr style=\"text-align: right;\">\n",
       "      <th></th>\n",
       "      <th>District name</th>\n",
       "      <th>2002-03 _x</th>\n",
       "      <th>2003-04 _x</th>\n",
       "      <th>2004-05_x</th>\n",
       "      <th>2005-06_x</th>\n",
       "      <th>2006-07_x</th>\n",
       "      <th>2007-08_x</th>\n",
       "      <th>2008-09_x</th>\n",
       "      <th>Dist No</th>\n",
       "      <th>2002-03 _y</th>\n",
       "      <th>2003-04 _y</th>\n",
       "      <th>2004-05_y</th>\n",
       "      <th>2005-06_y</th>\n",
       "      <th>2006-07_y</th>\n",
       "      <th>2007-08_y</th>\n",
       "      <th>2008-09_y</th>\n",
       "    </tr>\n",
       "  </thead>\n",
       "  <tbody>\n",
       "    <tr>\n",
       "      <th>0</th>\n",
       "      <td>ADAIR</td>\n",
       "      <td>66.0</td>\n",
       "      <td>74.0</td>\n",
       "      <td>85.0</td>\n",
       "      <td>72.0</td>\n",
       "      <td>83.0</td>\n",
       "      <td>82.0</td>\n",
       "      <td>86.0</td>\n",
       "      <td>001</td>\n",
       "      <td>37104</td>\n",
       "      <td>37919</td>\n",
       "      <td>38923</td>\n",
       "      <td>40576</td>\n",
       "      <td>41810</td>\n",
       "      <td>45964</td>\n",
       "      <td>47482</td>\n",
       "    </tr>\n",
       "    <tr>\n",
       "      <th>1</th>\n",
       "      <td>ALLEN</td>\n",
       "      <td>74.0</td>\n",
       "      <td>83.0</td>\n",
       "      <td>83.0</td>\n",
       "      <td>89.0</td>\n",
       "      <td>88.0</td>\n",
       "      <td>83.0</td>\n",
       "      <td>83.0</td>\n",
       "      <td>005</td>\n",
       "      <td>38331</td>\n",
       "      <td>39540</td>\n",
       "      <td>40941</td>\n",
       "      <td>41869</td>\n",
       "      <td>42610</td>\n",
       "      <td>46148</td>\n",
       "      <td>46602</td>\n",
       "    </tr>\n",
       "    <tr>\n",
       "      <th>3</th>\n",
       "      <td>ANDERSON</td>\n",
       "      <td>88.0</td>\n",
       "      <td>86.0</td>\n",
       "      <td>86.0</td>\n",
       "      <td>86.0</td>\n",
       "      <td>90.0</td>\n",
       "      <td>90.0</td>\n",
       "      <td>89.0</td>\n",
       "      <td>011</td>\n",
       "      <td>36464</td>\n",
       "      <td>37294</td>\n",
       "      <td>38559</td>\n",
       "      <td>39489</td>\n",
       "      <td>41732</td>\n",
       "      <td>45002</td>\n",
       "      <td>46263</td>\n",
       "    </tr>\n",
       "    <tr>\n",
       "      <th>4</th>\n",
       "      <td>ASHLAND</td>\n",
       "      <td>86.0</td>\n",
       "      <td>87.0</td>\n",
       "      <td>85.0</td>\n",
       "      <td>84.0</td>\n",
       "      <td>83.0</td>\n",
       "      <td>84.0</td>\n",
       "      <td>88.0</td>\n",
       "      <td>012</td>\n",
       "      <td>39913</td>\n",
       "      <td>41535</td>\n",
       "      <td>43106</td>\n",
       "      <td>44472</td>\n",
       "      <td>45984</td>\n",
       "      <td>49977</td>\n",
       "      <td>49723</td>\n",
       "    </tr>\n",
       "    <tr>\n",
       "      <th>5</th>\n",
       "      <td>AUGUSTA</td>\n",
       "      <td>100.0</td>\n",
       "      <td>100.0</td>\n",
       "      <td>100.0</td>\n",
       "      <td>100.0</td>\n",
       "      <td>100.0</td>\n",
       "      <td>96.0</td>\n",
       "      <td>100.0</td>\n",
       "      <td>013</td>\n",
       "      <td>31274</td>\n",
       "      <td>30235</td>\n",
       "      <td>31681</td>\n",
       "      <td>33508</td>\n",
       "      <td>32853</td>\n",
       "      <td>37555</td>\n",
       "      <td>38394</td>\n",
       "    </tr>\n",
       "  </tbody>\n",
       "</table>\n",
       "</div>"
      ],
      "text/plain": [
       "  District name   2002-03 _x   2003-04 _x  2004-05_x  2005-06_x  2006-07_x  \\\n",
       "0        ADAIR          66.0         74.0       85.0       72.0       83.0   \n",
       "1        ALLEN          74.0         83.0       83.0       89.0       88.0   \n",
       "3     ANDERSON          88.0         86.0       86.0       86.0       90.0   \n",
       "4       ASHLAND         86.0         87.0       85.0       84.0       83.0   \n",
       "5       AUGUSTA        100.0        100.0      100.0      100.0      100.0   \n",
       "\n",
       "   2007-08_x  2008-09_x Dist No   2002-03 _y   2003-04 _y  2004-05_y  \\\n",
       "0       82.0       86.0     001        37104        37919      38923   \n",
       "1       83.0       83.0     005        38331        39540      40941   \n",
       "3       90.0       89.0     011        36464        37294      38559   \n",
       "4       84.0       88.0     012        39913        41535      43106   \n",
       "5       96.0      100.0     013        31274        30235      31681   \n",
       "\n",
       "   2005-06_y  2006-07_y  2007-08_y  2008-09_y  \n",
       "0      40576      41810      45964      47482  \n",
       "1      41869      42610      46148      46602  \n",
       "3      39489      41732      45002      46263  \n",
       "4      44472      45984      49977      49723  \n",
       "5      33508      32853      37555      38394  "
      ]
     },
     "execution_count": 9,
     "metadata": {},
     "output_type": "execute_result"
    }
   ],
   "source": [
    "#removed districts with no high school programs\n",
    "merged_df.dropna(inplace = True)\n",
    "\n",
    "merged_df.head(5)"
   ]
  },
  {
   "cell_type": "code",
   "execution_count": 10,
   "metadata": {},
   "outputs": [
    {
     "data": {
      "text/plain": [
       "District name    0\n",
       " 2002-03 _x      0\n",
       " 2003-04 _x      0\n",
       "2004-05_x        0\n",
       "2005-06_x        0\n",
       "2006-07_x        0\n",
       "2007-08_x        0\n",
       "2008-09_x        0\n",
       "Dist No          0\n",
       " 2002-03 _y      0\n",
       " 2003-04 _y      0\n",
       "2004-05_y        0\n",
       "2005-06_y        0\n",
       "2006-07_y        0\n",
       "2007-08_y        0\n",
       "2008-09_y        0\n",
       "dtype: int64"
      ]
     },
     "execution_count": 10,
     "metadata": {},
     "output_type": "execute_result"
    }
   ],
   "source": [
    "#Ensure all null values are removed\n",
    "merged_df.isnull().sum()"
   ]
  },
  {
   "cell_type": "code",
   "execution_count": 11,
   "metadata": {},
   "outputs": [
    {
     "data": {
      "text/html": [
       "<div>\n",
       "<style scoped>\n",
       "    .dataframe tbody tr th:only-of-type {\n",
       "        vertical-align: middle;\n",
       "    }\n",
       "\n",
       "    .dataframe tbody tr th {\n",
       "        vertical-align: top;\n",
       "    }\n",
       "\n",
       "    .dataframe thead th {\n",
       "        text-align: right;\n",
       "    }\n",
       "</style>\n",
       "<table border=\"1\" class=\"dataframe\">\n",
       "  <thead>\n",
       "    <tr style=\"text-align: right;\">\n",
       "      <th></th>\n",
       "      <th>District name</th>\n",
       "      <th>2002-03 _x</th>\n",
       "      <th>2003-04 _x</th>\n",
       "      <th>2004-05_x</th>\n",
       "      <th>2005-06_x</th>\n",
       "      <th>2006-07_x</th>\n",
       "      <th>2007-08_x</th>\n",
       "      <th>2008-09_x</th>\n",
       "      <th>Dist No</th>\n",
       "      <th>2002-03 _y</th>\n",
       "      <th>...</th>\n",
       "      <th>2006-07_y</th>\n",
       "      <th>2007-08_y</th>\n",
       "      <th>2008-09_y</th>\n",
       "      <th>ratio_2002-03</th>\n",
       "      <th>ratio_2003-04</th>\n",
       "      <th>ratio_2004-05</th>\n",
       "      <th>ratio_2005-06</th>\n",
       "      <th>ratio_2006-07</th>\n",
       "      <th>ratio_2007-08</th>\n",
       "      <th>ratio_2008-09</th>\n",
       "    </tr>\n",
       "  </thead>\n",
       "  <tbody>\n",
       "    <tr>\n",
       "      <th>0</th>\n",
       "      <td>ADAIR</td>\n",
       "      <td>66.0</td>\n",
       "      <td>74.0</td>\n",
       "      <td>85.0</td>\n",
       "      <td>72.0</td>\n",
       "      <td>83.0</td>\n",
       "      <td>82.0</td>\n",
       "      <td>86.0</td>\n",
       "      <td>001</td>\n",
       "      <td>37104</td>\n",
       "      <td>...</td>\n",
       "      <td>41810</td>\n",
       "      <td>45964</td>\n",
       "      <td>47482</td>\n",
       "      <td>562.181818</td>\n",
       "      <td>512.418919</td>\n",
       "      <td>457.917647</td>\n",
       "      <td>563.555556</td>\n",
       "      <td>503.734940</td>\n",
       "      <td>560.536585</td>\n",
       "      <td>552.116279</td>\n",
       "    </tr>\n",
       "    <tr>\n",
       "      <th>1</th>\n",
       "      <td>ALLEN</td>\n",
       "      <td>74.0</td>\n",
       "      <td>83.0</td>\n",
       "      <td>83.0</td>\n",
       "      <td>89.0</td>\n",
       "      <td>88.0</td>\n",
       "      <td>83.0</td>\n",
       "      <td>83.0</td>\n",
       "      <td>005</td>\n",
       "      <td>38331</td>\n",
       "      <td>...</td>\n",
       "      <td>42610</td>\n",
       "      <td>46148</td>\n",
       "      <td>46602</td>\n",
       "      <td>517.986486</td>\n",
       "      <td>476.385542</td>\n",
       "      <td>493.265060</td>\n",
       "      <td>470.438202</td>\n",
       "      <td>484.204545</td>\n",
       "      <td>556.000000</td>\n",
       "      <td>561.469880</td>\n",
       "    </tr>\n",
       "    <tr>\n",
       "      <th>3</th>\n",
       "      <td>ANDERSON</td>\n",
       "      <td>88.0</td>\n",
       "      <td>86.0</td>\n",
       "      <td>86.0</td>\n",
       "      <td>86.0</td>\n",
       "      <td>90.0</td>\n",
       "      <td>90.0</td>\n",
       "      <td>89.0</td>\n",
       "      <td>011</td>\n",
       "      <td>36464</td>\n",
       "      <td>...</td>\n",
       "      <td>41732</td>\n",
       "      <td>45002</td>\n",
       "      <td>46263</td>\n",
       "      <td>414.363636</td>\n",
       "      <td>433.651163</td>\n",
       "      <td>448.360465</td>\n",
       "      <td>459.174419</td>\n",
       "      <td>463.688889</td>\n",
       "      <td>500.022222</td>\n",
       "      <td>519.808989</td>\n",
       "    </tr>\n",
       "    <tr>\n",
       "      <th>4</th>\n",
       "      <td>ASHLAND</td>\n",
       "      <td>86.0</td>\n",
       "      <td>87.0</td>\n",
       "      <td>85.0</td>\n",
       "      <td>84.0</td>\n",
       "      <td>83.0</td>\n",
       "      <td>84.0</td>\n",
       "      <td>88.0</td>\n",
       "      <td>012</td>\n",
       "      <td>39913</td>\n",
       "      <td>...</td>\n",
       "      <td>45984</td>\n",
       "      <td>49977</td>\n",
       "      <td>49723</td>\n",
       "      <td>464.104651</td>\n",
       "      <td>477.413793</td>\n",
       "      <td>507.129412</td>\n",
       "      <td>529.428571</td>\n",
       "      <td>554.024096</td>\n",
       "      <td>594.964286</td>\n",
       "      <td>565.034091</td>\n",
       "    </tr>\n",
       "    <tr>\n",
       "      <th>5</th>\n",
       "      <td>AUGUSTA</td>\n",
       "      <td>100.0</td>\n",
       "      <td>100.0</td>\n",
       "      <td>100.0</td>\n",
       "      <td>100.0</td>\n",
       "      <td>100.0</td>\n",
       "      <td>96.0</td>\n",
       "      <td>100.0</td>\n",
       "      <td>013</td>\n",
       "      <td>31274</td>\n",
       "      <td>...</td>\n",
       "      <td>32853</td>\n",
       "      <td>37555</td>\n",
       "      <td>38394</td>\n",
       "      <td>312.740000</td>\n",
       "      <td>302.350000</td>\n",
       "      <td>316.810000</td>\n",
       "      <td>335.080000</td>\n",
       "      <td>328.530000</td>\n",
       "      <td>391.197917</td>\n",
       "      <td>383.940000</td>\n",
       "    </tr>\n",
       "  </tbody>\n",
       "</table>\n",
       "<p>5 rows × 23 columns</p>\n",
       "</div>"
      ],
      "text/plain": [
       "  District name   2002-03 _x   2003-04 _x  2004-05_x  2005-06_x  2006-07_x  \\\n",
       "0        ADAIR          66.0         74.0       85.0       72.0       83.0   \n",
       "1        ALLEN          74.0         83.0       83.0       89.0       88.0   \n",
       "3     ANDERSON          88.0         86.0       86.0       86.0       90.0   \n",
       "4       ASHLAND         86.0         87.0       85.0       84.0       83.0   \n",
       "5       AUGUSTA        100.0        100.0      100.0      100.0      100.0   \n",
       "\n",
       "   2007-08_x  2008-09_x Dist No   2002-03 _y  ...  2006-07_y  2007-08_y  \\\n",
       "0       82.0       86.0     001        37104  ...      41810      45964   \n",
       "1       83.0       83.0     005        38331  ...      42610      46148   \n",
       "3       90.0       89.0     011        36464  ...      41732      45002   \n",
       "4       84.0       88.0     012        39913  ...      45984      49977   \n",
       "5       96.0      100.0     013        31274  ...      32853      37555   \n",
       "\n",
       "   2008-09_y  ratio_2002-03  ratio_2003-04  ratio_2004-05  ratio_2005-06  \\\n",
       "0      47482     562.181818     512.418919     457.917647     563.555556   \n",
       "1      46602     517.986486     476.385542     493.265060     470.438202   \n",
       "3      46263     414.363636     433.651163     448.360465     459.174419   \n",
       "4      49723     464.104651     477.413793     507.129412     529.428571   \n",
       "5      38394     312.740000     302.350000     316.810000     335.080000   \n",
       "\n",
       "   ratio_2006-07  ratio_2007-08  ratio_2008-09  \n",
       "0     503.734940     560.536585     552.116279  \n",
       "1     484.204545     556.000000     561.469880  \n",
       "3     463.688889     500.022222     519.808989  \n",
       "4     554.024096     594.964286     565.034091  \n",
       "5     328.530000     391.197917     383.940000  \n",
       "\n",
       "[5 rows x 23 columns]"
      ]
     },
     "execution_count": 11,
     "metadata": {},
     "output_type": "execute_result"
    }
   ],
   "source": [
    "\n",
    "#create a ratio between graduation rate and teacher salary \n",
    "merged_df['ratio_2002-03'] = merged_df[' 2002-03 _y'] / merged_df[' 2002-03 _x']\n",
    "merged_df['ratio_2003-04'] = merged_df[' 2003-04 _y'] / merged_df[' 2003-04 _x']\n",
    "merged_df['ratio_2004-05'] = merged_df['2004-05_y'] / merged_df['2004-05_x']\n",
    "merged_df['ratio_2005-06'] = merged_df['2005-06_y'] / merged_df['2005-06_x']\n",
    "merged_df['ratio_2006-07'] = merged_df['2006-07_y'] / merged_df['2006-07_x']\n",
    "merged_df['ratio_2007-08'] = merged_df['2007-08_y'] / merged_df['2007-08_x']\n",
    "merged_df['ratio_2008-09'] = merged_df['2008-09_y'] / merged_df['2008-09_x']\n",
    "merged_df.head()"
   ]
  },
  {
   "cell_type": "code",
   "execution_count": 12,
   "metadata": {},
   "outputs": [
    {
     "data": {
      "text/html": [
       "<div>\n",
       "<style scoped>\n",
       "    .dataframe tbody tr th:only-of-type {\n",
       "        vertical-align: middle;\n",
       "    }\n",
       "\n",
       "    .dataframe tbody tr th {\n",
       "        vertical-align: top;\n",
       "    }\n",
       "\n",
       "    .dataframe thead th {\n",
       "        text-align: right;\n",
       "    }\n",
       "</style>\n",
       "<table border=\"1\" class=\"dataframe\">\n",
       "  <thead>\n",
       "    <tr style=\"text-align: right;\">\n",
       "      <th></th>\n",
       "      <th>2002-03 _x</th>\n",
       "      <th>2003-04 _x</th>\n",
       "      <th>2004-05_x</th>\n",
       "      <th>2005-06_x</th>\n",
       "      <th>2006-07_x</th>\n",
       "      <th>2007-08_x</th>\n",
       "      <th>2008-09_x</th>\n",
       "      <th>2002-03 _y</th>\n",
       "      <th>2003-04 _y</th>\n",
       "      <th>2004-05_y</th>\n",
       "      <th>...</th>\n",
       "      <th>2006-07_y</th>\n",
       "      <th>2007-08_y</th>\n",
       "      <th>2008-09_y</th>\n",
       "      <th>ratio_2002-03</th>\n",
       "      <th>ratio_2003-04</th>\n",
       "      <th>ratio_2004-05</th>\n",
       "      <th>ratio_2005-06</th>\n",
       "      <th>ratio_2006-07</th>\n",
       "      <th>ratio_2007-08</th>\n",
       "      <th>ratio_2008-09</th>\n",
       "    </tr>\n",
       "  </thead>\n",
       "  <tbody>\n",
       "    <tr>\n",
       "      <th>Column Means</th>\n",
       "      <td>81.857988</td>\n",
       "      <td>83.798817</td>\n",
       "      <td>85.556213</td>\n",
       "      <td>86.289941</td>\n",
       "      <td>87.236686</td>\n",
       "      <td>87.928994</td>\n",
       "      <td>88.065089</td>\n",
       "      <td>37975.088757</td>\n",
       "      <td>39253.059172</td>\n",
       "      <td>40460.43787</td>\n",
       "      <td>...</td>\n",
       "      <td>42702.928994</td>\n",
       "      <td>46380.195266</td>\n",
       "      <td>46964.153846</td>\n",
       "      <td>469.834615</td>\n",
       "      <td>472.549617</td>\n",
       "      <td>475.918519</td>\n",
       "      <td>486.610491</td>\n",
       "      <td>492.69288</td>\n",
       "      <td>530.266089</td>\n",
       "      <td>536.059138</td>\n",
       "    </tr>\n",
       "  </tbody>\n",
       "</table>\n",
       "<p>1 rows × 21 columns</p>\n",
       "</div>"
      ],
      "text/plain": [
       "               2002-03 _x   2003-04 _x  2004-05_x  2005-06_x  2006-07_x  \\\n",
       "Column Means    81.857988    83.798817  85.556213  86.289941  87.236686   \n",
       "\n",
       "              2007-08_x  2008-09_x    2002-03 _y    2003-04 _y    2004-05_y  \\\n",
       "Column Means  87.928994  88.065089  37975.088757  39253.059172  40460.43787   \n",
       "\n",
       "              ...     2006-07_y     2007-08_y     2008-09_y  ratio_2002-03  \\\n",
       "Column Means  ...  42702.928994  46380.195266  46964.153846     469.834615   \n",
       "\n",
       "              ratio_2003-04  ratio_2004-05  ratio_2005-06  ratio_2006-07  \\\n",
       "Column Means     472.549617     475.918519     486.610491      492.69288   \n",
       "\n",
       "              ratio_2007-08  ratio_2008-09  \n",
       "Column Means     530.266089     536.059138  \n",
       "\n",
       "[1 rows x 21 columns]"
      ]
     },
     "execution_count": 12,
     "metadata": {},
     "output_type": "execute_result"
    }
   ],
   "source": [
    "#Calculate the means for the numeric columns\n",
    "means_df = merged_df.select_dtypes(include=np.number).mean().to_frame().transpose()\n",
    "\n",
    "# Rename the index to something descriptive \n",
    "means_df.index = ['Column Means']\n",
    "means_df.head()\n",
    "\n"
   ]
  },
  {
   "cell_type": "markdown",
   "metadata": {},
   "source": [
    "3. Visualize"
   ]
  },
  {
   "cell_type": "code",
   "execution_count": 13,
   "metadata": {},
   "outputs": [
    {
     "data": {
      "image/png": "[encoded data removed]",
      "text/plain": [
       "<Figure size 640x480 with 1 Axes>"
      ]
     },
     "metadata": {},
     "output_type": "display_data"
    }
   ],
   "source": [
    "#Chart for the Mean Teacher Salary over the given years\n",
    "\n",
    "years = [' 2002-03 _y', ' 2003-04 _y', '2004-05_y', '2005-06_y',\n",
    "         '2006-07_y', '2007-08_y', '2008-09_y']\n",
    "\n",
    "mean_salaries = []\n",
    "for year in years:\n",
    "    mean_salaries.append(merged_df[year].mean())\n",
    "\n",
    "\n",
    "plt.plot(years, mean_salaries)\n",
    "plt.xlabel('Years')\n",
    "plt.ylabel('Mean Teacher Salary')\n",
    "plt.title('Mean Teacher Salary over Years')\n",
    "plt.xticks(rotation=45)\n",
    "plt.show()\n"
   ]
  },
  {
   "cell_type": "code",
   "execution_count": 14,
   "metadata": {},
   "outputs": [
    {
     "data": {
      "image/png": "[encoded data removed]",
      "text/plain": [
       "<Figure size 640x480 with 1 Axes>"
      ]
     },
     "metadata": {},
     "output_type": "display_data"
    }
   ],
   "source": [
    "#Chart for the Mean Graduation Rate over the given years\n",
    "years = [col for col in merged_df.columns if '_x' in col]\n",
    "mean_grad_rates = [merged_df[year].mean() for year in years]\n",
    "\n",
    "\n",
    "# Create the plot\n",
    "plt.plot(years, mean_grad_rates)\n",
    "plt.xlabel('Years')\n",
    "plt.ylabel('Mean Graduation Rate')\n",
    "plt.title('Mean Graduation Rate Over Years')\n",
    "plt.xticks(rotation=45, ha='right')  # Rotate x-axis labels for better readability\n",
    "plt.tight_layout()\n",
    "plt.show()\n"
   ]
  },
  {
   "cell_type": "code",
   "execution_count": 15,
   "metadata": {},
   "outputs": [
    {
     "data": {
      "image/png": "[encoded data removed]",
      "text/plain": [
       "<Figure size 1000x600 with 1 Axes>"
      ]
     },
     "metadata": {},
     "output_type": "display_data"
    }
   ],
   "source": [
    "#Chart for the mean of the ratio between graduation and salary \n",
    "\n",
    "ratio_columns = [col for col in means_df.columns if 'ratio' in col]\n",
    "means_df[ratio_columns].plot(kind='bar', figsize=(10, 6))\n",
    "plt.title('Mean Ratios')\n",
    "plt.xlabel('Ratios')\n",
    "plt.ylabel('Mean Values')\n",
    "plt.xticks(rotation=45, ha='right')\n",
    "plt.tight_layout()\n",
    "plt.show()\n"
   ]
  },
  {
   "cell_type": "code",
   "execution_count": 16,
   "metadata": {},
   "outputs": [
    {
     "data": {
      "application/vnd.plotly.v1+json": {
       "config": {
        "plotlyServerURL": "https://plot.ly"
       },
       "data": [
        {
         "hovertemplate": "variable=0<br>index=%{x}<br>value=%{y}<extra></extra>",
         "legendgroup": "0",
         "line": {
          "color": "#636efa",
          "dash": "solid"
         },
         "marker": {
          "symbol": "circle"
         },
         "mode": "lines",
         "name": "0",
         "showlegend": true,
         "type": "scattergl",
         "x": [
          "ratio_2002-03",
          "ratio_2003-04",
          "ratio_2004-05",
          "ratio_2005-06",
          "ratio_2006-07",
          "ratio_2007-08",
          "ratio_2008-09"
         ],
         "xaxis": "x",
         "y": [
          562.1818181818181,
          512.418918918919,
          457.91764705882355,
          563.5555555555555,
          503.73493975903614,
          560.5365853658536,
          552.1162790697674
         ],
         "yaxis": "y"
        },
        {
         "hovertemplate": "variable=1<br>index=%{x}<br>value=%{y}<extra></extra>",
         "legendgroup": "1",
         "line": {
          "color": "#EF553B",
          "dash": "solid"
         },
         "marker": {
          "symbol": "circle"
         },
         "mode": "lines",
         "name": "1",
         "showlegend": true,
         "type": "scattergl",
         "x": [
          "ratio_2002-03",
          "ratio_2003-04",
          "ratio_2004-05",
          "ratio_2005-06",
          "ratio_2006-07",
          "ratio_2007-08",
          "ratio_2008-09"
         ],
         "xaxis": "x",
         "y": [
          517.9864864864865,
          476.3855421686747,
          493.26506024096386,
          470.438202247191,
          484.20454545454544,
          556,
          561.4698795180723
         ],
         "yaxis": "y"
        },
        {
         "hovertemplate": "variable=3<br>index=%{x}<br>value=%{y}<extra></extra>",
         "legendgroup": "3",
         "line": {
          "color": "#00cc96",
          "dash": "solid"
         },
         "marker": {
          "symbol": "circle"
         },
         "mode": "lines",
         "name": "3",
         "showlegend": true,
         "type": "scattergl",
         "x": [
          "ratio_2002-03",
          "ratio_2003-04",
          "ratio_2004-05",
          "ratio_2005-06",
          "ratio_2006-07",
          "ratio_2007-08",
          "ratio_2008-09"
         ],
         "xaxis": "x",
         "y": [
          414.3636363636364,
          433.6511627906977,
          448.36046511627904,
          459.1744186046512,
          463.68888888888887,
          500.02222222222224,
          519.8089887640449
         ],
         "yaxis": "y"
        },
        {
         "hovertemplate": "variable=4<br>index=%{x}<br>value=%{y}<extra></extra>",
         "legendgroup": "4",
         "line": {
          "color": "#ab63fa",
          "dash": "solid"
         },
         "marker": {
          "symbol": "circle"
         },
         "mode": "lines",
         "name": "4",
         "showlegend": true,
         "type": "scattergl",
         "x": [
          "ratio_2002-03",
          "ratio_2003-04",
          "ratio_2004-05",
          "ratio_2005-06",
          "ratio_2006-07",
          "ratio_2007-08",
          "ratio_2008-09"
         ],
         "xaxis": "x",
         "y": [
          464.1046511627907,
          477.41379310344826,
          507.1294117647059,
          529.4285714285714,
          554.0240963855422,
          594.9642857142857,
          565.0340909090909
         ],
         "yaxis": "y"
        },
        {
         "hovertemplate": "variable=5<br>index=%{x}<br>value=%{y}<extra></extra>",
         "legendgroup": "5",
         "line": {
          "color": "#FFA15A",
          "dash": "solid"
         },
         "marker": {
          "symbol": "circle"
         },
         "mode": "lines",
         "name": "5",
         "showlegend": true,
         "type": "scattergl",
         "x": [
          "ratio_2002-03",
          "ratio_2003-04",
          "ratio_2004-05",
          "ratio_2005-06",
          "ratio_2006-07",
          "ratio_2007-08",
          "ratio_2008-09"
         ],
         "xaxis": "x",
         "y": [
          312.74,
          302.35,
          316.81,
          335.08,
          328.53,
          391.1979166666667,
          383.94
         ],
         "yaxis": "y"
        },
        {
         "hovertemplate": "variable=6<br>index=%{x}<br>value=%{y}<extra></extra>",
         "legendgroup": "6",
         "line": {
          "color": "#19d3f3",
          "dash": "solid"
         },
         "marker": {
          "symbol": "circle"
         },
         "mode": "lines",
         "name": "6",
         "showlegend": true,
         "type": "scattergl",
         "x": [
          "ratio_2002-03",
          "ratio_2003-04",
          "ratio_2004-05",
          "ratio_2005-06",
          "ratio_2006-07",
          "ratio_2007-08",
          "ratio_2008-09"
         ],
         "xaxis": "x",
         "y": [
          444.1566265060241,
          441.2298850574713,
          427.94505494505495,
          416.3404255319149,
          429.8152173913044,
          478.989010989011,
          500.0449438202247
         ],
         "yaxis": "y"
        },
        {
         "hovertemplate": "variable=7<br>index=%{x}<br>value=%{y}<extra></extra>",
         "legendgroup": "7",
         "line": {
          "color": "#FF6692",
          "dash": "solid"
         },
         "marker": {
          "symbol": "circle"
         },
         "mode": "lines",
         "name": "7",
         "showlegend": true,
         "type": "scattergl",
         "x": [
          "ratio_2002-03",
          "ratio_2003-04",
          "ratio_2004-05",
          "ratio_2005-06",
          "ratio_2006-07",
          "ratio_2007-08",
          "ratio_2008-09"
         ],
         "xaxis": "x",
         "y": [
          361.86,
          396.46938775510205,
          399.13,
          439.02061855670104,
          426.14,
          469.78,
          510.27659574468083
         ],
         "yaxis": "y"
        },
        {
         "hovertemplate": "variable=8<br>index=%{x}<br>value=%{y}<extra></extra>",
         "legendgroup": "8",
         "line": {
          "color": "#B6E880",
          "dash": "solid"
         },
         "marker": {
          "symbol": "circle"
         },
         "mode": "lines",
         "name": "8",
         "showlegend": true,
         "type": "scattergl",
         "x": [
          "ratio_2002-03",
          "ratio_2003-04",
          "ratio_2004-05",
          "ratio_2005-06",
          "ratio_2006-07",
          "ratio_2007-08",
          "ratio_2008-09"
         ],
         "xaxis": "x",
         "y": [
          568.081081081081,
          462.39784946236557,
          616.7916666666666,
          542.8488372093024,
          521.0978260869565,
          551.9032258064516,
          602.2674418604652
         ],
         "yaxis": "y"
        },
        {
         "hovertemplate": "variable=9<br>index=%{x}<br>value=%{y}<extra></extra>",
         "legendgroup": "9",
         "line": {
          "color": "#FF97FF",
          "dash": "solid"
         },
         "marker": {
          "symbol": "circle"
         },
         "mode": "lines",
         "name": "9",
         "showlegend": true,
         "type": "scattergl",
         "x": [
          "ratio_2002-03",
          "ratio_2003-04",
          "ratio_2004-05",
          "ratio_2005-06",
          "ratio_2006-07",
          "ratio_2007-08",
          "ratio_2008-09"
         ],
         "xaxis": "x",
         "y": [
          469.775,
          477.5925925925926,
          517.7088607594936,
          498.18823529411765,
          548.1538461538462,
          552.7738095238095,
          609.6103896103896
         ],
         "yaxis": "y"
        },
        {
         "hovertemplate": "variable=10<br>index=%{x}<br>value=%{y}<extra></extra>",
         "legendgroup": "10",
         "line": {
          "color": "#FECB52",
          "dash": "solid"
         },
         "marker": {
          "symbol": "circle"
         },
         "mode": "lines",
         "name": "10",
         "showlegend": true,
         "type": "scattergl",
         "x": [
          "ratio_2002-03",
          "ratio_2003-04",
          "ratio_2004-05",
          "ratio_2005-06",
          "ratio_2006-07",
          "ratio_2007-08",
          "ratio_2008-09"
         ],
         "xaxis": "x",
         "y": [
          538.2835820895523,
          512.8194444444445,
          429.28735632183907,
          476.30120481927713,
          459.96590909090907,
          534.4578313253012,
          505.32954545454544
         ],
         "yaxis": "y"
        },
        {
         "hovertemplate": "variable=11<br>index=%{x}<br>value=%{y}<extra></extra>",
         "legendgroup": "11",
         "line": {
          "color": "#636efa",
          "dash": "solid"
         },
         "marker": {
          "symbol": "circle"
         },
         "mode": "lines",
         "name": "11",
         "showlegend": true,
         "type": "scattergl",
         "x": [
          "ratio_2002-03",
          "ratio_2003-04",
          "ratio_2004-05",
          "ratio_2005-06",
          "ratio_2006-07",
          "ratio_2007-08",
          "ratio_2008-09"
         ],
         "xaxis": "x",
         "y": [
          402.5959595959596,
          426.3469387755102,
          429.46938775510205,
          448.2959183673469,
          452.9191919191919,
          490.77777777777777,
          495.6868686868687
         ],
         "yaxis": "y"
        },
        {
         "hovertemplate": "variable=12<br>index=%{x}<br>value=%{y}<extra></extra>",
         "legendgroup": "12",
         "line": {
          "color": "#EF553B",
          "dash": "solid"
         },
         "marker": {
          "symbol": "circle"
         },
         "mode": "lines",
         "name": "12",
         "showlegend": true,
         "type": "scattergl",
         "x": [
          "ratio_2002-03",
          "ratio_2003-04",
          "ratio_2004-05",
          "ratio_2005-06",
          "ratio_2006-07",
          "ratio_2007-08",
          "ratio_2008-09"
         ],
         "xaxis": "x",
         "y": [
          525.3623188405797,
          558.2835820895523,
          520.9066666666666,
          552.7297297297297,
          516.6585365853658,
          576.3875,
          553.1279069767442
         ],
         "yaxis": "y"
        },
        {
         "hovertemplate": "variable=13<br>index=%{x}<br>value=%{y}<extra></extra>",
         "legendgroup": "13",
         "line": {
          "color": "#00cc96",
          "dash": "solid"
         },
         "marker": {
          "symbol": "circle"
         },
         "mode": "lines",
         "name": "13",
         "showlegend": true,
         "type": "scattergl",
         "x": [
          "ratio_2002-03",
          "ratio_2003-04",
          "ratio_2004-05",
          "ratio_2005-06",
          "ratio_2006-07",
          "ratio_2007-08",
          "ratio_2008-09"
         ],
         "xaxis": "x",
         "y": [
          415,
          417.1333333333333,
          430.42857142857144,
          441.505376344086,
          449.5625,
          464.28,
          461.02
         ],
         "yaxis": "y"
        },
        {
         "hovertemplate": "variable=14<br>index=%{x}<br>value=%{y}<extra></extra>",
         "legendgroup": "14",
         "line": {
          "color": "#ab63fa",
          "dash": "solid"
         },
         "marker": {
          "symbol": "circle"
         },
         "mode": "lines",
         "name": "14",
         "showlegend": true,
         "type": "scattergl",
         "x": [
          "ratio_2002-03",
          "ratio_2003-04",
          "ratio_2004-05",
          "ratio_2005-06",
          "ratio_2006-07",
          "ratio_2007-08",
          "ratio_2008-09"
         ],
         "xaxis": "x",
         "y": [
          438.01162790697674,
          467.1309523809524,
          447.7816091954023,
          445.27777777777777,
          452.4782608695652,
          494.6923076923077,
          528.4090909090909
         ],
         "yaxis": "y"
        },
        {
         "hovertemplate": "variable=15<br>index=%{x}<br>value=%{y}<extra></extra>",
         "legendgroup": "15",
         "line": {
          "color": "#FFA15A",
          "dash": "solid"
         },
         "marker": {
          "symbol": "circle"
         },
         "mode": "lines",
         "name": "15",
         "showlegend": true,
         "type": "scattergl",
         "x": [
          "ratio_2002-03",
          "ratio_2003-04",
          "ratio_2004-05",
          "ratio_2005-06",
          "ratio_2006-07",
          "ratio_2007-08",
          "ratio_2008-09"
         ],
         "xaxis": "x",
         "y": [
          440.84615384615387,
          455.3626373626374,
          476.7303370786517,
          499.13793103448273,
          494.0659340659341,
          541.3595505617977,
          546.8539325842696
         ],
         "yaxis": "y"
        },
        {
         "hovertemplate": "variable=16<br>index=%{x}<br>value=%{y}<extra></extra>",
         "legendgroup": "16",
         "line": {
          "color": "#19d3f3",
          "dash": "solid"
         },
         "marker": {
          "symbol": "circle"
         },
         "mode": "lines",
         "name": "16",
         "showlegend": true,
         "type": "scattergl",
         "x": [
          "ratio_2002-03",
          "ratio_2003-04",
          "ratio_2004-05",
          "ratio_2005-06",
          "ratio_2006-07",
          "ratio_2007-08",
          "ratio_2008-09"
         ],
         "xaxis": "x",
         "y": [
          410.84444444444443,
          443.27272727272725,
          444.46666666666664,
          469.97727272727275,
          468.76666666666665,
          515.6404494382023,
          535.3837209302326
         ],
         "yaxis": "y"
        },
        {
         "hovertemplate": "variable=17<br>index=%{x}<br>value=%{y}<extra></extra>",
         "legendgroup": "17",
         "line": {
          "color": "#FF6692",
          "dash": "solid"
         },
         "marker": {
          "symbol": "circle"
         },
         "mode": "lines",
         "name": "17",
         "showlegend": true,
         "type": "scattergl",
         "x": [
          "ratio_2002-03",
          "ratio_2003-04",
          "ratio_2004-05",
          "ratio_2005-06",
          "ratio_2006-07",
          "ratio_2007-08",
          "ratio_2008-09"
         ],
         "xaxis": "x",
         "y": [
          442.91954022988506,
          469.6162790697674,
          458.13186813186815,
          505.4470588235294,
          497.89772727272725,
          519.3296703296703,
          509.8191489361702
         ],
         "yaxis": "y"
        },
        {
         "hovertemplate": "variable=18<br>index=%{x}<br>value=%{y}<extra></extra>",
         "legendgroup": "18",
         "line": {
          "color": "#B6E880",
          "dash": "solid"
         },
         "marker": {
          "symbol": "circle"
         },
         "mode": "lines",
         "name": "18",
         "showlegend": true,
         "type": "scattergl",
         "x": [
          "ratio_2002-03",
          "ratio_2003-04",
          "ratio_2004-05",
          "ratio_2005-06",
          "ratio_2006-07",
          "ratio_2007-08",
          "ratio_2008-09"
         ],
         "xaxis": "x",
         "y": [
          453.6860465116279,
          443.2386363636364,
          455.15909090909093,
          482.43529411764706,
          477.1573033707865,
          490.5531914893617,
          511.6847826086956
         ],
         "yaxis": "y"
        },
        {
         "hovertemplate": "variable=19<br>index=%{x}<br>value=%{y}<extra></extra>",
         "legendgroup": "19",
         "line": {
          "color": "#FF97FF",
          "dash": "solid"
         },
         "marker": {
          "symbol": "circle"
         },
         "mode": "lines",
         "name": "19",
         "showlegend": true,
         "type": "scattergl",
         "x": [
          "ratio_2002-03",
          "ratio_2003-04",
          "ratio_2004-05",
          "ratio_2005-06",
          "ratio_2006-07",
          "ratio_2007-08",
          "ratio_2008-09"
         ],
         "xaxis": "x",
         "y": [
          478.3414634146341,
          454.7613636363636,
          438.9468085106383,
          477.7191011235955,
          471.92391304347825,
          554.1279069767442,
          552.6931818181819
         ],
         "yaxis": "y"
        },
        {
         "hovertemplate": "variable=20<br>index=%{x}<br>value=%{y}<extra></extra>",
         "legendgroup": "20",
         "line": {
          "color": "#FECB52",
          "dash": "solid"
         },
         "marker": {
          "symbol": "circle"
         },
         "mode": "lines",
         "name": "20",
         "showlegend": true,
         "type": "scattergl",
         "x": [
          "ratio_2002-03",
          "ratio_2003-04",
          "ratio_2004-05",
          "ratio_2005-06",
          "ratio_2006-07",
          "ratio_2007-08",
          "ratio_2008-09"
         ],
         "xaxis": "x",
         "y": [
          405.9130434782609,
          447.3333333333333,
          452.9431818181818,
          440.3263157894737,
          531.6582278481013,
          523.7931034482758,
          532.3218390804598
         ],
         "yaxis": "y"
        },
        {
         "hovertemplate": "variable=21<br>index=%{x}<br>value=%{y}<extra></extra>",
         "legendgroup": "21",
         "line": {
          "color": "#636efa",
          "dash": "solid"
         },
         "marker": {
          "symbol": "circle"
         },
         "mode": "lines",
         "name": "21",
         "showlegend": true,
         "type": "scattergl",
         "x": [
          "ratio_2002-03",
          "ratio_2003-04",
          "ratio_2004-05",
          "ratio_2005-06",
          "ratio_2006-07",
          "ratio_2007-08",
          "ratio_2008-09"
         ],
         "xaxis": "x",
         "y": [
          789.44,
          646.3492063492064,
          504.95180722891564,
          531.0246913580247,
          510.8488372093023,
          625.7792207792207,
          605.8
         ],
         "yaxis": "y"
        },
        {
         "hovertemplate": "variable=22<br>index=%{x}<br>value=%{y}<extra></extra>",
         "legendgroup": "22",
         "line": {
          "color": "#EF553B",
          "dash": "solid"
         },
         "marker": {
          "symbol": "circle"
         },
         "mode": "lines",
         "name": "22",
         "showlegend": true,
         "type": "scattergl",
         "x": [
          "ratio_2002-03",
          "ratio_2003-04",
          "ratio_2004-05",
          "ratio_2005-06",
          "ratio_2006-07",
          "ratio_2007-08",
          "ratio_2008-09"
         ],
         "xaxis": "x",
         "y": [
          498.8354430379747,
          459.4831460674157,
          512.560975609756,
          493.4712643678161,
          472.7391304347826,
          541.7790697674419,
          546.5
         ],
         "yaxis": "y"
        },
        {
         "hovertemplate": "variable=23<br>index=%{x}<br>value=%{y}<extra></extra>",
         "legendgroup": "23",
         "line": {
          "color": "#00cc96",
          "dash": "solid"
         },
         "marker": {
          "symbol": "circle"
         },
         "mode": "lines",
         "name": "23",
         "showlegend": true,
         "type": "scattergl",
         "x": [
          "ratio_2002-03",
          "ratio_2003-04",
          "ratio_2004-05",
          "ratio_2005-06",
          "ratio_2006-07",
          "ratio_2007-08",
          "ratio_2008-09"
         ],
         "xaxis": "x",
         "y": [
          513.3703703703703,
          539.3625,
          550.716049382716,
          571.6582278481013,
          565.0370370370371,
          584.1882352941177,
          594.702380952381
         ],
         "yaxis": "y"
        },
        {
         "hovertemplate": "variable=24<br>index=%{x}<br>value=%{y}<extra></extra>",
         "legendgroup": "24",
         "line": {
          "color": "#ab63fa",
          "dash": "solid"
         },
         "marker": {
          "symbol": "circle"
         },
         "mode": "lines",
         "name": "24",
         "showlegend": true,
         "type": "scattergl",
         "x": [
          "ratio_2002-03",
          "ratio_2003-04",
          "ratio_2004-05",
          "ratio_2005-06",
          "ratio_2006-07",
          "ratio_2007-08",
          "ratio_2008-09"
         ],
         "xaxis": "x",
         "y": [
          363.0238095238095,
          355.82954545454544,
          369.6136363636364,
          353.57894736842104,
          371.8144329896907,
          435.32978723404256,
          453.04395604395603
         ],
         "yaxis": "y"
        },
        {
         "hovertemplate": "variable=25<br>index=%{x}<br>value=%{y}<extra></extra>",
         "legendgroup": "25",
         "line": {
          "color": "#FFA15A",
          "dash": "solid"
         },
         "marker": {
          "symbol": "circle"
         },
         "mode": "lines",
         "name": "25",
         "showlegend": true,
         "type": "scattergl",
         "x": [
          "ratio_2002-03",
          "ratio_2003-04",
          "ratio_2004-05",
          "ratio_2005-06",
          "ratio_2006-07",
          "ratio_2007-08",
          "ratio_2008-09"
         ],
         "xaxis": "x",
         "y": [
          441.0449438202247,
          490.25,
          464.032967032967,
          486.6629213483146,
          480.55434782608694,
          547.4651162790698,
          544.1477272727273
         ],
         "yaxis": "y"
        },
        {
         "hovertemplate": "variable=26<br>index=%{x}<br>value=%{y}<extra></extra>",
         "legendgroup": "26",
         "line": {
          "color": "#19d3f3",
          "dash": "solid"
         },
         "marker": {
          "symbol": "circle"
         },
         "mode": "lines",
         "name": "26",
         "showlegend": true,
         "type": "scattergl",
         "x": [
          "ratio_2002-03",
          "ratio_2003-04",
          "ratio_2004-05",
          "ratio_2005-06",
          "ratio_2006-07",
          "ratio_2007-08",
          "ratio_2008-09"
         ],
         "xaxis": "x",
         "y": [
          445.77647058823527,
          427.89130434782606,
          471.36046511627904,
          462.3777777777778,
          490.62068965517244,
          525.7272727272727,
          508.31868131868134
         ],
         "yaxis": "y"
        },
        {
         "hovertemplate": "variable=27<br>index=%{x}<br>value=%{y}<extra></extra>",
         "legendgroup": "27",
         "line": {
          "color": "#FF6692",
          "dash": "solid"
         },
         "marker": {
          "symbol": "circle"
         },
         "mode": "lines",
         "name": "27",
         "showlegend": true,
         "type": "scattergl",
         "x": [
          "ratio_2002-03",
          "ratio_2003-04",
          "ratio_2004-05",
          "ratio_2005-06",
          "ratio_2006-07",
          "ratio_2007-08",
          "ratio_2008-09"
         ],
         "xaxis": "x",
         "y": [
          443.5888888888889,
          443.55434782608694,
          460.0879120879121,
          449.9578947368421,
          457.70526315789476,
          524.7191011235955,
          533.2
         ],
         "yaxis": "y"
        },
        {
         "hovertemplate": "variable=28<br>index=%{x}<br>value=%{y}<extra></extra>",
         "legendgroup": "28",
         "line": {
          "color": "#B6E880",
          "dash": "solid"
         },
         "marker": {
          "symbol": "circle"
         },
         "mode": "lines",
         "name": "28",
         "showlegend": true,
         "type": "scattergl",
         "x": [
          "ratio_2002-03",
          "ratio_2003-04",
          "ratio_2004-05",
          "ratio_2005-06",
          "ratio_2006-07",
          "ratio_2007-08",
          "ratio_2008-09"
         ],
         "xaxis": "x",
         "y": [
          432.2470588235294,
          451.3855421686747,
          455.25581395348837,
          473.6744186046512,
          484.314606741573,
          515.6555555555556,
          587.825
         ],
         "yaxis": "y"
        },
        {
         "hovertemplate": "variable=29<br>index=%{x}<br>value=%{y}<extra></extra>",
         "legendgroup": "29",
         "line": {
          "color": "#FF97FF",
          "dash": "solid"
         },
         "marker": {
          "symbol": "circle"
         },
         "mode": "lines",
         "name": "29",
         "showlegend": true,
         "type": "scattergl",
         "x": [
          "ratio_2002-03",
          "ratio_2003-04",
          "ratio_2004-05",
          "ratio_2005-06",
          "ratio_2006-07",
          "ratio_2007-08",
          "ratio_2008-09"
         ],
         "xaxis": "x",
         "y": [
          493.61842105263156,
          483.26582278481015,
          489.925,
          452.7977528089888,
          458.8901098901099,
          648.9142857142857,
          575.4320987654321
         ],
         "yaxis": "y"
        },
        {
         "hovertemplate": "variable=30<br>index=%{x}<br>value=%{y}<extra></extra>",
         "legendgroup": "30",
         "line": {
          "color": "#FECB52",
          "dash": "solid"
         },
         "marker": {
          "symbol": "circle"
         },
         "mode": "lines",
         "name": "30",
         "showlegend": true,
         "type": "scattergl",
         "x": [
          "ratio_2002-03",
          "ratio_2003-04",
          "ratio_2004-05",
          "ratio_2005-06",
          "ratio_2006-07",
          "ratio_2007-08",
          "ratio_2008-09"
         ],
         "xaxis": "x",
         "y": [
          413.21590909090907,
          441.3975903614458,
          413.9340659340659,
          444.52941176470586,
          468.5925925925926,
          494.7647058823529,
          435.1979166666667
         ],
         "yaxis": "y"
        },
        {
         "hovertemplate": "variable=31<br>index=%{x}<br>value=%{y}<extra></extra>",
         "legendgroup": "31",
         "line": {
          "color": "#636efa",
          "dash": "solid"
         },
         "marker": {
          "symbol": "circle"
         },
         "mode": "lines",
         "name": "31",
         "showlegend": true,
         "type": "scattergl",
         "x": [
          "ratio_2002-03",
          "ratio_2003-04",
          "ratio_2004-05",
          "ratio_2005-06",
          "ratio_2006-07",
          "ratio_2007-08",
          "ratio_2008-09"
         ],
         "xaxis": "x",
         "y": [
          593.7142857142857,
          535.3636363636364,
          499.4418604651163,
          512.0588235294117,
          500.96666666666664,
          554.0689655172414,
          524.2777777777778
         ],
         "yaxis": "y"
        },
        {
         "hovertemplate": "variable=32<br>index=%{x}<br>value=%{y}<extra></extra>",
         "legendgroup": "32",
         "line": {
          "color": "#EF553B",
          "dash": "solid"
         },
         "marker": {
          "symbol": "circle"
         },
         "mode": "lines",
         "name": "32",
         "showlegend": true,
         "type": "scattergl",
         "x": [
          "ratio_2002-03",
          "ratio_2003-04",
          "ratio_2004-05",
          "ratio_2005-06",
          "ratio_2006-07",
          "ratio_2007-08",
          "ratio_2008-09"
         ],
         "xaxis": "x",
         "y": [
          439.17857142857144,
          441.6941176470588,
          479.1604938271605,
          482.5903614457831,
          459.7415730337079,
          497.438202247191,
          501.7888888888889
         ],
         "yaxis": "y"
        },
        {
         "hovertemplate": "variable=33<br>index=%{x}<br>value=%{y}<extra></extra>",
         "legendgroup": "33",
         "line": {
          "color": "#00cc96",
          "dash": "solid"
         },
         "marker": {
          "symbol": "circle"
         },
         "mode": "lines",
         "name": "33",
         "showlegend": true,
         "type": "scattergl",
         "x": [
          "ratio_2002-03",
          "ratio_2003-04",
          "ratio_2004-05",
          "ratio_2005-06",
          "ratio_2006-07",
          "ratio_2007-08",
          "ratio_2008-09"
         ],
         "xaxis": "x",
         "y": [
          461.2682926829268,
          480.2682926829268,
          491.609756097561,
          470.5568181818182,
          479.8636363636364,
          513.8409090909091,
          556.939024390244
         ],
         "yaxis": "y"
        },
        {
         "hovertemplate": "variable=34<br>index=%{x}<br>value=%{y}<extra></extra>",
         "legendgroup": "34",
         "line": {
          "color": "#ab63fa",
          "dash": "solid"
         },
         "marker": {
          "symbol": "circle"
         },
         "mode": "lines",
         "name": "34",
         "showlegend": true,
         "type": "scattergl",
         "x": [
          "ratio_2002-03",
          "ratio_2003-04",
          "ratio_2004-05",
          "ratio_2005-06",
          "ratio_2006-07",
          "ratio_2007-08",
          "ratio_2008-09"
         ],
         "xaxis": "x",
         "y": [
          481.0759493670886,
          457.1744186046512,
          490.1566265060241,
          445.3956043956044,
          492.3764705882353,
          560.2375,
          529.8863636363636
         ],
         "yaxis": "y"
        },
        {
         "hovertemplate": "variable=35<br>index=%{x}<br>value=%{y}<extra></extra>",
         "legendgroup": "35",
         "line": {
          "color": "#FFA15A",
          "dash": "solid"
         },
         "marker": {
          "symbol": "circle"
         },
         "mode": "lines",
         "name": "35",
         "showlegend": true,
         "type": "scattergl",
         "x": [
          "ratio_2002-03",
          "ratio_2003-04",
          "ratio_2004-05",
          "ratio_2005-06",
          "ratio_2006-07",
          "ratio_2007-08",
          "ratio_2008-09"
         ],
         "xaxis": "x",
         "y": [
          507.6,
          503.8076923076923,
          507.8607594936709,
          497.04819277108436,
          526.1875,
          545.3170731707318,
          554.7317073170732
         ],
         "yaxis": "y"
        },
        {
         "hovertemplate": "variable=36<br>index=%{x}<br>value=%{y}<extra></extra>",
         "legendgroup": "36",
         "line": {
          "color": "#19d3f3",
          "dash": "solid"
         },
         "marker": {
          "symbol": "circle"
         },
         "mode": "lines",
         "name": "36",
         "showlegend": true,
         "type": "scattergl",
         "x": [
          "ratio_2002-03",
          "ratio_2003-04",
          "ratio_2004-05",
          "ratio_2005-06",
          "ratio_2006-07",
          "ratio_2007-08",
          "ratio_2008-09"
         ],
         "xaxis": "x",
         "y": [
          556.231884057971,
          557.3285714285714,
          563.6857142857143,
          550.0675675675676,
          516.5875,
          563.1,
          532.5764705882353
         ],
         "yaxis": "y"
        },
        {
         "hovertemplate": "variable=37<br>index=%{x}<br>value=%{y}<extra></extra>",
         "legendgroup": "37",
         "line": {
          "color": "#FF6692",
          "dash": "solid"
         },
         "marker": {
          "symbol": "circle"
         },
         "mode": "lines",
         "name": "37",
         "showlegend": true,
         "type": "scattergl",
         "x": [
          "ratio_2002-03",
          "ratio_2003-04",
          "ratio_2004-05",
          "ratio_2005-06",
          "ratio_2006-07",
          "ratio_2007-08",
          "ratio_2008-09"
         ],
         "xaxis": "x",
         "y": [
          645.051724137931,
          629.1774193548387,
          612.1818181818181,
          570.6351351351351,
          581.171052631579,
          680.2535211267606,
          674.6666666666666
         ],
         "yaxis": "y"
        },
        {
         "hovertemplate": "variable=38<br>index=%{x}<br>value=%{y}<extra></extra>",
         "legendgroup": "38",
         "line": {
          "color": "#B6E880",
          "dash": "solid"
         },
         "marker": {
          "symbol": "circle"
         },
         "mode": "lines",
         "name": "38",
         "showlegend": true,
         "type": "scattergl",
         "x": [
          "ratio_2002-03",
          "ratio_2003-04",
          "ratio_2004-05",
          "ratio_2005-06",
          "ratio_2006-07",
          "ratio_2007-08",
          "ratio_2008-09"
         ],
         "xaxis": "x",
         "y": [
          512.6081081081081,
          525.9866666666667,
          534.6973684210526,
          538.6923076923077,
          507.91764705882355,
          527.1460674157304,
          524.4555555555555
         ],
         "yaxis": "y"
        },
        {
         "hovertemplate": "variable=39<br>index=%{x}<br>value=%{y}<extra></extra>",
         "legendgroup": "39",
         "line": {
          "color": "#FF97FF",
          "dash": "solid"
         },
         "marker": {
          "symbol": "circle"
         },
         "mode": "lines",
         "name": "39",
         "showlegend": true,
         "type": "scattergl",
         "x": [
          "ratio_2002-03",
          "ratio_2003-04",
          "ratio_2004-05",
          "ratio_2005-06",
          "ratio_2006-07",
          "ratio_2007-08",
          "ratio_2008-09"
         ],
         "xaxis": "x",
         "y": [
          344.93,
          366.0752688172043,
          349.7157894736842,
          390.6774193548387,
          370.55,
          422.78,
          450.6170212765957
         ],
         "yaxis": "y"
        },
        {
         "hovertemplate": "variable=40<br>index=%{x}<br>value=%{y}<extra></extra>",
         "legendgroup": "40",
         "line": {
          "color": "#FECB52",
          "dash": "solid"
         },
         "marker": {
          "symbol": "circle"
         },
         "mode": "lines",
         "name": "40",
         "showlegend": true,
         "type": "scattergl",
         "x": [
          "ratio_2002-03",
          "ratio_2003-04",
          "ratio_2004-05",
          "ratio_2005-06",
          "ratio_2006-07",
          "ratio_2007-08",
          "ratio_2008-09"
         ],
         "xaxis": "x",
         "y": [
          421.02197802197804,
          442.0879120879121,
          439.84375,
          443.9795918367347,
          459.08247422680415,
          484.4848484848485,
          488.25
         ],
         "yaxis": "y"
        },
        {
         "hovertemplate": "variable=41<br>index=%{x}<br>value=%{y}<extra></extra>",
         "legendgroup": "41",
         "line": {
          "color": "#636efa",
          "dash": "solid"
         },
         "marker": {
          "symbol": "circle"
         },
         "mode": "lines",
         "name": "41",
         "showlegend": true,
         "type": "scattergl",
         "x": [
          "ratio_2002-03",
          "ratio_2003-04",
          "ratio_2004-05",
          "ratio_2005-06",
          "ratio_2006-07",
          "ratio_2007-08",
          "ratio_2008-09"
         ],
         "xaxis": "x",
         "y": [
          413.34831460674155,
          398.10526315789474,
          402.96907216494844,
          455.6292134831461,
          463.86516853932585,
          528.1666666666666,
          522.8604651162791
         ],
         "yaxis": "y"
        },
        {
         "hovertemplate": "variable=42<br>index=%{x}<br>value=%{y}<extra></extra>",
         "legendgroup": "42",
         "line": {
          "color": "#EF553B",
          "dash": "solid"
         },
         "marker": {
          "symbol": "circle"
         },
         "mode": "lines",
         "name": "42",
         "showlegend": true,
         "type": "scattergl",
         "x": [
          "ratio_2002-03",
          "ratio_2003-04",
          "ratio_2004-05",
          "ratio_2005-06",
          "ratio_2006-07",
          "ratio_2007-08",
          "ratio_2008-09"
         ],
         "xaxis": "x",
         "y": [
          424.4222222222222,
          440.9325842696629,
          461,
          465.77272727272725,
          507.0365853658537,
          545.1686746987951,
          598.1168831168832
         ],
         "yaxis": "y"
        },
        {
         "hovertemplate": "variable=43<br>index=%{x}<br>value=%{y}<extra></extra>",
         "legendgroup": "43",
         "line": {
          "color": "#00cc96",
          "dash": "solid"
         },
         "marker": {
          "symbol": "circle"
         },
         "mode": "lines",
         "name": "43",
         "showlegend": true,
         "type": "scattergl",
         "x": [
          "ratio_2002-03",
          "ratio_2003-04",
          "ratio_2004-05",
          "ratio_2005-06",
          "ratio_2006-07",
          "ratio_2007-08",
          "ratio_2008-09"
         ],
         "xaxis": "x",
         "y": [
          508.52777777777777,
          568.3529411764706,
          487.5,
          516.175,
          549.8026315789474,
          592.8571428571429,
          563.3253012048193
         ],
         "yaxis": "y"
        },
        {
         "hovertemplate": "variable=44<br>index=%{x}<br>value=%{y}<extra></extra>",
         "legendgroup": "44",
         "line": {
          "color": "#ab63fa",
          "dash": "solid"
         },
         "marker": {
          "symbol": "circle"
         },
         "mode": "lines",
         "name": "44",
         "showlegend": true,
         "type": "scattergl",
         "x": [
          "ratio_2002-03",
          "ratio_2003-04",
          "ratio_2004-05",
          "ratio_2005-06",
          "ratio_2006-07",
          "ratio_2007-08",
          "ratio_2008-09"
         ],
         "xaxis": "x",
         "y": [
          451.56470588235294,
          491.9753086419753,
          494.9156626506024,
          466.07954545454544,
          438.8191489361702,
          491.1758241758242,
          515.0340909090909
         ],
         "yaxis": "y"
        },
        {
         "hovertemplate": "variable=45<br>index=%{x}<br>value=%{y}<extra></extra>",
         "legendgroup": "45",
         "line": {
          "color": "#FFA15A",
          "dash": "solid"
         },
         "marker": {
          "symbol": "circle"
         },
         "mode": "lines",
         "name": "45",
         "showlegend": true,
         "type": "scattergl",
         "x": [
          "ratio_2002-03",
          "ratio_2003-04",
          "ratio_2004-05",
          "ratio_2005-06",
          "ratio_2006-07",
          "ratio_2007-08",
          "ratio_2008-09"
         ],
         "xaxis": "x",
         "y": [
          446.16483516483515,
          462.15384615384613,
          452.0842105263158,
          476.6989247311828,
          489.10752688172045,
          525.031914893617,
          531.5425531914893
         ],
         "yaxis": "y"
        },
        {
         "hovertemplate": "variable=46<br>index=%{x}<br>value=%{y}<extra></extra>",
         "legendgroup": "46",
         "line": {
          "color": "#19d3f3",
          "dash": "solid"
         },
         "marker": {
          "symbol": "circle"
         },
         "mode": "lines",
         "name": "46",
         "showlegend": true,
         "type": "scattergl",
         "x": [
          "ratio_2002-03",
          "ratio_2003-04",
          "ratio_2004-05",
          "ratio_2005-06",
          "ratio_2006-07",
          "ratio_2007-08",
          "ratio_2008-09"
         ],
         "xaxis": "x",
         "y": [
          475.0375,
          468.3953488372093,
          502,
          490.7469879518072,
          534.6708860759494,
          508.93333333333334,
          644.6388888888889
         ],
         "yaxis": "y"
        },
        {
         "hovertemplate": "variable=47<br>index=%{x}<br>value=%{y}<extra></extra>",
         "legendgroup": "47",
         "line": {
          "color": "#FF6692",
          "dash": "solid"
         },
         "marker": {
          "symbol": "circle"
         },
         "mode": "lines",
         "name": "47",
         "showlegend": true,
         "type": "scattergl",
         "x": [
          "ratio_2002-03",
          "ratio_2003-04",
          "ratio_2004-05",
          "ratio_2005-06",
          "ratio_2006-07",
          "ratio_2007-08",
          "ratio_2008-09"
         ],
         "xaxis": "x",
         "y": [
          765.9444444444445,
          545.3636363636364,
          550.9615384615385,
          500.0112359550562,
          460.92,
          505.6701030927835,
          560.5111111111111
         ],
         "yaxis": "y"
        },
        {
         "hovertemplate": "variable=49<br>index=%{x}<br>value=%{y}<extra></extra>",
         "legendgroup": "49",
         "line": {
          "color": "#B6E880",
          "dash": "solid"
         },
         "marker": {
          "symbol": "circle"
         },
         "mode": "lines",
         "name": "49",
         "showlegend": true,
         "type": "scattergl",
         "x": [
          "ratio_2002-03",
          "ratio_2003-04",
          "ratio_2004-05",
          "ratio_2005-06",
          "ratio_2006-07",
          "ratio_2007-08",
          "ratio_2008-09"
         ],
         "xaxis": "x",
         "y": [
          444.0238095238095,
          476.55555555555554,
          492.17283950617286,
          516.0246913580247,
          497.0348837209302,
          533.9887640449438,
          561.7647058823529
         ],
         "yaxis": "y"
        },
        {
         "hovertemplate": "variable=50<br>index=%{x}<br>value=%{y}<extra></extra>",
         "legendgroup": "50",
         "line": {
          "color": "#FF97FF",
          "dash": "solid"
         },
         "marker": {
          "symbol": "circle"
         },
         "mode": "lines",
         "name": "50",
         "showlegend": true,
         "type": "scattergl",
         "x": [
          "ratio_2002-03",
          "ratio_2003-04",
          "ratio_2004-05",
          "ratio_2005-06",
          "ratio_2006-07",
          "ratio_2007-08",
          "ratio_2008-09"
         ],
         "xaxis": "x",
         "y": [
          461.5764705882353,
          474.09411764705885,
          490.264367816092,
          492.23333333333335,
          532.6666666666666,
          593.364705882353,
          602.6823529411764
         ],
         "yaxis": "y"
        },
        {
         "hovertemplate": "variable=51<br>index=%{x}<br>value=%{y}<extra></extra>",
         "legendgroup": "51",
         "line": {
          "color": "#FECB52",
          "dash": "solid"
         },
         "marker": {
          "symbol": "circle"
         },
         "mode": "lines",
         "name": "51",
         "showlegend": true,
         "type": "scattergl",
         "x": [
          "ratio_2002-03",
          "ratio_2003-04",
          "ratio_2004-05",
          "ratio_2005-06",
          "ratio_2006-07",
          "ratio_2007-08",
          "ratio_2008-09"
         ],
         "xaxis": "x",
         "y": [
          465.78205128205127,
          474.44303797468353,
          513.8421052631579,
          520.671052631579,
          470.1764705882353,
          550.1923076923077,
          561.7051282051282
         ],
         "yaxis": "y"
        },
        {
         "hovertemplate": "variable=52<br>index=%{x}<br>value=%{y}<extra></extra>",
         "legendgroup": "52",
         "line": {
          "color": "#636efa",
          "dash": "solid"
         },
         "marker": {
          "symbol": "circle"
         },
         "mode": "lines",
         "name": "52",
         "showlegend": true,
         "type": "scattergl",
         "x": [
          "ratio_2002-03",
          "ratio_2003-04",
          "ratio_2004-05",
          "ratio_2005-06",
          "ratio_2006-07",
          "ratio_2007-08",
          "ratio_2008-09"
         ],
         "xaxis": "x",
         "y": [
          428.27906976744185,
          426.5168539325843,
          420.87368421052633,
          470.4942528735632,
          435.5360824742268,
          464.12,
          459.39
         ],
         "yaxis": "y"
        },
        {
         "hovertemplate": "variable=53<br>index=%{x}<br>value=%{y}<extra></extra>",
         "legendgroup": "53",
         "line": {
          "color": "#EF553B",
          "dash": "solid"
         },
         "marker": {
          "symbol": "circle"
         },
         "mode": "lines",
         "name": "53",
         "showlegend": true,
         "type": "scattergl",
         "x": [
          "ratio_2002-03",
          "ratio_2003-04",
          "ratio_2004-05",
          "ratio_2005-06",
          "ratio_2006-07",
          "ratio_2007-08",
          "ratio_2008-09"
         ],
         "xaxis": "x",
         "y": [
          427.55172413793105,
          431.5568181818182,
          451.04395604395603,
          478.1818181818182,
          474.73333333333335,
          525.9772727272727,
          545.6162790697674
         ],
         "yaxis": "y"
        },
        {
         "hovertemplate": "variable=54<br>index=%{x}<br>value=%{y}<extra></extra>",
         "legendgroup": "54",
         "line": {
          "color": "#00cc96",
          "dash": "solid"
         },
         "marker": {
          "symbol": "circle"
         },
         "mode": "lines",
         "name": "54",
         "showlegend": true,
         "type": "scattergl",
         "x": [
          "ratio_2002-03",
          "ratio_2003-04",
          "ratio_2004-05",
          "ratio_2005-06",
          "ratio_2006-07",
          "ratio_2007-08",
          "ratio_2008-09"
         ],
         "xaxis": "x",
         "y": [
          523.1486486486486,
          509.11392405063293,
          503.12048192771084,
          528.4691358024692,
          477.17391304347825,
          513.6043956043956,
          518.0108695652174
         ],
         "yaxis": "y"
        },
        {
         "hovertemplate": "variable=55<br>index=%{x}<br>value=%{y}<extra></extra>",
         "legendgroup": "55",
         "line": {
          "color": "#ab63fa",
          "dash": "solid"
         },
         "marker": {
          "symbol": "circle"
         },
         "mode": "lines",
         "name": "55",
         "showlegend": true,
         "type": "scattergl",
         "x": [
          "ratio_2002-03",
          "ratio_2003-04",
          "ratio_2004-05",
          "ratio_2005-06",
          "ratio_2006-07",
          "ratio_2007-08",
          "ratio_2008-09"
         ],
         "xaxis": "x",
         "y": [
          400.70454545454544,
          398.2391304347826,
          415.4712643678161,
          383.07142857142856,
          400.2474226804124,
          446.91752577319585,
          459.77319587628864
         ],
         "yaxis": "y"
        },
        {
         "hovertemplate": "variable=56<br>index=%{x}<br>value=%{y}<extra></extra>",
         "legendgroup": "56",
         "line": {
          "color": "#FFA15A",
          "dash": "solid"
         },
         "marker": {
          "symbol": "circle"
         },
         "mode": "lines",
         "name": "56",
         "showlegend": true,
         "type": "scattergl",
         "x": [
          "ratio_2002-03",
          "ratio_2003-04",
          "ratio_2004-05",
          "ratio_2005-06",
          "ratio_2006-07",
          "ratio_2007-08",
          "ratio_2008-09"
         ],
         "xaxis": "x",
         "y": [
          547.4533333333334,
          552.4078947368421,
          557.4415584415584,
          556.4177215189874,
          566.0886075949367,
          597.2098765432099,
          586.5357142857143
         ],
         "yaxis": "y"
        },
        {
         "hovertemplate": "variable=57<br>index=%{x}<br>value=%{y}<extra></extra>",
         "legendgroup": "57",
         "line": {
          "color": "#19d3f3",
          "dash": "solid"
         },
         "marker": {
          "symbol": "circle"
         },
         "mode": "lines",
         "name": "57",
         "showlegend": true,
         "type": "scattergl",
         "x": [
          "ratio_2002-03",
          "ratio_2003-04",
          "ratio_2004-05",
          "ratio_2005-06",
          "ratio_2006-07",
          "ratio_2007-08",
          "ratio_2008-09"
         ],
         "xaxis": "x",
         "y": [
          477.126582278481,
          523.6216216216217,
          473.27710843373495,
          504.6375,
          500.4698795180723,
          504.59550561797755,
          490.21505376344084
         ],
         "yaxis": "y"
        },
        {
         "hovertemplate": "variable=58<br>index=%{x}<br>value=%{y}<extra></extra>",
         "legendgroup": "58",
         "line": {
          "color": "#FF6692",
          "dash": "solid"
         },
         "marker": {
          "symbol": "circle"
         },
         "mode": "lines",
         "name": "58",
         "showlegend": true,
         "type": "scattergl",
         "x": [
          "ratio_2002-03",
          "ratio_2003-04",
          "ratio_2004-05",
          "ratio_2005-06",
          "ratio_2006-07",
          "ratio_2007-08",
          "ratio_2008-09"
         ],
         "xaxis": "x",
         "y": [
          500.24,
          515.3866666666667,
          505.0632911392405,
          490.6547619047619,
          507.09411764705885,
          562.1904761904761,
          539.9080459770115
         ],
         "yaxis": "y"
        },
        {
         "hovertemplate": "variable=59<br>index=%{x}<br>value=%{y}<extra></extra>",
         "legendgroup": "59",
         "line": {
          "color": "#B6E880",
          "dash": "solid"
         },
         "marker": {
          "symbol": "circle"
         },
         "mode": "lines",
         "name": "59",
         "showlegend": true,
         "type": "scattergl",
         "x": [
          "ratio_2002-03",
          "ratio_2003-04",
          "ratio_2004-05",
          "ratio_2005-06",
          "ratio_2006-07",
          "ratio_2007-08",
          "ratio_2008-09"
         ],
         "xaxis": "x",
         "y": [
          409.45360824742266,
          463.09473684210525,
          494.7604166666667,
          516.34375,
          521.5816326530612,
          560.3265306122449,
          586.2315789473685
         ],
         "yaxis": "y"
        },
        {
         "hovertemplate": "variable=60<br>index=%{x}<br>value=%{y}<extra></extra>",
         "legendgroup": "60",
         "line": {
          "color": "#FF97FF",
          "dash": "solid"
         },
         "marker": {
          "symbol": "circle"
         },
         "mode": "lines",
         "name": "60",
         "showlegend": true,
         "type": "scattergl",
         "x": [
          "ratio_2002-03",
          "ratio_2003-04",
          "ratio_2004-05",
          "ratio_2005-06",
          "ratio_2006-07",
          "ratio_2007-08",
          "ratio_2008-09"
         ],
         "xaxis": "x",
         "y": [
          472.725,
          470.8313253012048,
          426.3936170212766,
          525.4125,
          449.9247311827957,
          510.6,
          493.4842105263158
         ],
         "yaxis": "y"
        },
        {
         "hovertemplate": "variable=61<br>index=%{x}<br>value=%{y}<extra></extra>",
         "legendgroup": "61",
         "line": {
          "color": "#FECB52",
          "dash": "solid"
         },
         "marker": {
          "symbol": "circle"
         },
         "mode": "lines",
         "name": "61",
         "showlegend": true,
         "type": "scattergl",
         "x": [
          "ratio_2002-03",
          "ratio_2003-04",
          "ratio_2004-05",
          "ratio_2005-06",
          "ratio_2006-07",
          "ratio_2007-08",
          "ratio_2008-09"
         ],
         "xaxis": "x",
         "y": [
          460.2564102564103,
          473.1625,
          488.14102564102564,
          467.6309523809524,
          500.1,
          532.6463414634146,
          508.28735632183907
         ],
         "yaxis": "y"
        },
        {
         "hovertemplate": "variable=62<br>index=%{x}<br>value=%{y}<extra></extra>",
         "legendgroup": "62",
         "line": {
          "color": "#636efa",
          "dash": "solid"
         },
         "marker": {
          "symbol": "circle"
         },
         "mode": "lines",
         "name": "62",
         "showlegend": true,
         "type": "scattergl",
         "x": [
          "ratio_2002-03",
          "ratio_2003-04",
          "ratio_2004-05",
          "ratio_2005-06",
          "ratio_2006-07",
          "ratio_2007-08",
          "ratio_2008-09"
         ],
         "xaxis": "x",
         "y": [
          429.50588235294117,
          451.2625,
          404.5444444444444,
          454.4404761904762,
          439.875,
          447.9468085106383,
          493.38823529411764
         ],
         "yaxis": "y"
        },
        {
         "hovertemplate": "variable=63<br>index=%{x}<br>value=%{y}<extra></extra>",
         "legendgroup": "63",
         "line": {
          "color": "#EF553B",
          "dash": "solid"
         },
         "marker": {
          "symbol": "circle"
         },
         "mode": "lines",
         "name": "63",
         "showlegend": true,
         "type": "scattergl",
         "x": [
          "ratio_2002-03",
          "ratio_2003-04",
          "ratio_2004-05",
          "ratio_2005-06",
          "ratio_2006-07",
          "ratio_2007-08",
          "ratio_2008-09"
         ],
         "xaxis": "x",
         "y": [
          418.13953488372096,
          480,
          434.4111111111111,
          446.3058823529412,
          432,
          428.5,
          452.21875
         ],
         "yaxis": "y"
        },
        {
         "hovertemplate": "variable=64<br>index=%{x}<br>value=%{y}<extra></extra>",
         "legendgroup": "64",
         "line": {
          "color": "#00cc96",
          "dash": "solid"
         },
         "marker": {
          "symbol": "circle"
         },
         "mode": "lines",
         "name": "64",
         "showlegend": true,
         "type": "scattergl",
         "x": [
          "ratio_2002-03",
          "ratio_2003-04",
          "ratio_2004-05",
          "ratio_2005-06",
          "ratio_2006-07",
          "ratio_2007-08",
          "ratio_2008-09"
         ],
         "xaxis": "x",
         "y": [
          468.05405405405406,
          418.7647058823529,
          408.44943820224717,
          438.1954022988506,
          528.2972972972973,
          482.2584269662921,
          617.5416666666666
         ],
         "yaxis": "y"
        },
        {
         "hovertemplate": "variable=65<br>index=%{x}<br>value=%{y}<extra></extra>",
         "legendgroup": "65",
         "line": {
          "color": "#ab63fa",
          "dash": "solid"
         },
         "marker": {
          "symbol": "circle"
         },
         "mode": "lines",
         "name": "65",
         "showlegend": true,
         "type": "scattergl",
         "x": [
          "ratio_2002-03",
          "ratio_2003-04",
          "ratio_2004-05",
          "ratio_2005-06",
          "ratio_2006-07",
          "ratio_2007-08",
          "ratio_2008-09"
         ],
         "xaxis": "x",
         "y": [
          495.13513513513516,
          453.70238095238096,
          528.12,
          498.49397590361446,
          523.0632911392405,
          523.9069767441861,
          539.3837209302326
         ],
         "yaxis": "y"
        },
        {
         "hovertemplate": "variable=66<br>index=%{x}<br>value=%{y}<extra></extra>",
         "legendgroup": "66",
         "line": {
          "color": "#FFA15A",
          "dash": "solid"
         },
         "marker": {
          "symbol": "circle"
         },
         "mode": "lines",
         "name": "66",
         "showlegend": true,
         "type": "scattergl",
         "x": [
          "ratio_2002-03",
          "ratio_2003-04",
          "ratio_2004-05",
          "ratio_2005-06",
          "ratio_2006-07",
          "ratio_2007-08",
          "ratio_2008-09"
         ],
         "xaxis": "x",
         "y": [
          512.5316455696203,
          486.8139534883721,
          498.6162790697674,
          516.7126436781609,
          550.5542168674699,
          617.425,
          626.3375
         ],
         "yaxis": "y"
        },
        {
         "hovertemplate": "variable=67<br>index=%{x}<br>value=%{y}<extra></extra>",
         "legendgroup": "67",
         "line": {
          "color": "#19d3f3",
          "dash": "solid"
         },
         "marker": {
          "symbol": "circle"
         },
         "mode": "lines",
         "name": "67",
         "showlegend": true,
         "type": "scattergl",
         "x": [
          "ratio_2002-03",
          "ratio_2003-04",
          "ratio_2004-05",
          "ratio_2005-06",
          "ratio_2006-07",
          "ratio_2007-08",
          "ratio_2008-09"
         ],
         "xaxis": "x",
         "y": [
          464.43037974683546,
          494.9078947368421,
          497.1012658227848,
          526.5526315789474,
          535.6923076923077,
          557.439024390244,
          574.3086419753087
         ],
         "yaxis": "y"
        },
        {
         "hovertemplate": "variable=68<br>index=%{x}<br>value=%{y}<extra></extra>",
         "legendgroup": "68",
         "line": {
          "color": "#FF6692",
          "dash": "solid"
         },
         "marker": {
          "symbol": "circle"
         },
         "mode": "lines",
         "name": "68",
         "showlegend": true,
         "type": "scattergl",
         "x": [
          "ratio_2002-03",
          "ratio_2003-04",
          "ratio_2004-05",
          "ratio_2005-06",
          "ratio_2006-07",
          "ratio_2007-08",
          "ratio_2008-09"
         ],
         "xaxis": "x",
         "y": [
          473.88607594936707,
          491.6835443037975,
          453.22727272727275,
          470.88505747126436,
          502.2823529411765,
          527.2272727272727,
          522.2666666666667
         ],
         "yaxis": "y"
        },
        {
         "hovertemplate": "variable=69<br>index=%{x}<br>value=%{y}<extra></extra>",
         "legendgroup": "69",
         "line": {
          "color": "#B6E880",
          "dash": "solid"
         },
         "marker": {
          "symbol": "circle"
         },
         "mode": "lines",
         "name": "69",
         "showlegend": true,
         "type": "scattergl",
         "x": [
          "ratio_2002-03",
          "ratio_2003-04",
          "ratio_2004-05",
          "ratio_2005-06",
          "ratio_2006-07",
          "ratio_2007-08",
          "ratio_2008-09"
         ],
         "xaxis": "x",
         "y": [
          478.47435897435895,
          426.18888888888887,
          469.8452380952381,
          470.85057471264366,
          500.5357142857143,
          539.4404761904761,
          553.0365853658536
         ],
         "yaxis": "y"
        },
        {
         "hovertemplate": "variable=70<br>index=%{x}<br>value=%{y}<extra></extra>",
         "legendgroup": "70",
         "line": {
          "color": "#FF97FF",
          "dash": "solid"
         },
         "marker": {
          "symbol": "circle"
         },
         "mode": "lines",
         "name": "70",
         "showlegend": true,
         "type": "scattergl",
         "x": [
          "ratio_2002-03",
          "ratio_2003-04",
          "ratio_2004-05",
          "ratio_2005-06",
          "ratio_2006-07",
          "ratio_2007-08",
          "ratio_2008-09"
         ],
         "xaxis": "x",
         "y": [
          392.6923076923077,
          390.29473684210524,
          409.0851063829787,
          401.8041237113402,
          419.09473684210525,
          448.7628865979381,
          457.2551020408163
         ],
         "yaxis": "y"
        },
        {
         "hovertemplate": "variable=71<br>index=%{x}<br>value=%{y}<extra></extra>",
         "legendgroup": "71",
         "line": {
          "color": "#FECB52",
          "dash": "solid"
         },
         "marker": {
          "symbol": "circle"
         },
         "mode": "lines",
         "name": "71",
         "showlegend": true,
         "type": "scattergl",
         "x": [
          "ratio_2002-03",
          "ratio_2003-04",
          "ratio_2004-05",
          "ratio_2005-06",
          "ratio_2006-07",
          "ratio_2007-08",
          "ratio_2008-09"
         ],
         "xaxis": "x",
         "y": [
          482.46753246753246,
          482.3544303797468,
          479.125,
          464,
          460.81176470588235,
          512.0595238095239,
          513.7058823529412
         ],
         "yaxis": "y"
        },
        {
         "hovertemplate": "variable=72<br>index=%{x}<br>value=%{y}<extra></extra>",
         "legendgroup": "72",
         "line": {
          "color": "#636efa",
          "dash": "solid"
         },
         "marker": {
          "symbol": "circle"
         },
         "mode": "lines",
         "name": "72",
         "showlegend": true,
         "type": "scattergl",
         "x": [
          "ratio_2002-03",
          "ratio_2003-04",
          "ratio_2004-05",
          "ratio_2005-06",
          "ratio_2006-07",
          "ratio_2007-08",
          "ratio_2008-09"
         ],
         "xaxis": "x",
         "y": [
          390.2551020408163,
          398.7,
          421.1530612244898,
          446.98979591836735,
          464.9895833333333,
          487.9896907216495,
          488.2755102040816
         ],
         "yaxis": "y"
        },
        {
         "hovertemplate": "variable=73<br>index=%{x}<br>value=%{y}<extra></extra>",
         "legendgroup": "73",
         "line": {
          "color": "#EF553B",
          "dash": "solid"
         },
         "marker": {
          "symbol": "circle"
         },
         "mode": "lines",
         "name": "73",
         "showlegend": true,
         "type": "scattergl",
         "x": [
          "ratio_2002-03",
          "ratio_2003-04",
          "ratio_2004-05",
          "ratio_2005-06",
          "ratio_2006-07",
          "ratio_2007-08",
          "ratio_2008-09"
         ],
         "xaxis": "x",
         "y": [
          493.25,
          510.22222222222223,
          524.5375,
          558.3461538461538,
          538.2530120481928,
          564.5930232558139,
          562.8977272727273
         ],
         "yaxis": "y"
        },
        {
         "hovertemplate": "variable=74<br>index=%{x}<br>value=%{y}<extra></extra>",
         "legendgroup": "74",
         "line": {
          "color": "#00cc96",
          "dash": "solid"
         },
         "marker": {
          "symbol": "circle"
         },
         "mode": "lines",
         "name": "74",
         "showlegend": true,
         "type": "scattergl",
         "x": [
          "ratio_2002-03",
          "ratio_2003-04",
          "ratio_2004-05",
          "ratio_2005-06",
          "ratio_2006-07",
          "ratio_2007-08",
          "ratio_2008-09"
         ],
         "xaxis": "x",
         "y": [
          514.8,
          575.2028985507246,
          570.9027777777778,
          611.9285714285714,
          644.9402985074627,
          654.8472222222222,
          618.0384615384615
         ],
         "yaxis": "y"
        },
        {
         "hovertemplate": "variable=75<br>index=%{x}<br>value=%{y}<extra></extra>",
         "legendgroup": "75",
         "line": {
          "color": "#ab63fa",
          "dash": "solid"
         },
         "marker": {
          "symbol": "circle"
         },
         "mode": "lines",
         "name": "75",
         "showlegend": true,
         "type": "scattergl",
         "x": [
          "ratio_2002-03",
          "ratio_2003-04",
          "ratio_2004-05",
          "ratio_2005-06",
          "ratio_2006-07",
          "ratio_2007-08",
          "ratio_2008-09"
         ],
         "xaxis": "x",
         "y": [
          498.68,
          417.4673913043478,
          441.43956043956047,
          512.75,
          498.3953488372093,
          567.0128205128206,
          538.9404761904761
         ],
         "yaxis": "y"
        },
        {
         "hovertemplate": "variable=76<br>index=%{x}<br>value=%{y}<extra></extra>",
         "legendgroup": "76",
         "line": {
          "color": "#FFA15A",
          "dash": "solid"
         },
         "marker": {
          "symbol": "circle"
         },
         "mode": "lines",
         "name": "76",
         "showlegend": true,
         "type": "scattergl",
         "x": [
          "ratio_2002-03",
          "ratio_2003-04",
          "ratio_2004-05",
          "ratio_2005-06",
          "ratio_2006-07",
          "ratio_2007-08",
          "ratio_2008-09"
         ],
         "xaxis": "x",
         "y": [
          423.02272727272725,
          431.68888888888887,
          453.21590909090907,
          449.9130434782609,
          456.1195652173913,
          507.8222222222222,
          519.0674157303371
         ],
         "yaxis": "y"
        },
        {
         "hovertemplate": "variable=78<br>index=%{x}<br>value=%{y}<extra></extra>",
         "legendgroup": "78",
         "line": {
          "color": "#19d3f3",
          "dash": "solid"
         },
         "marker": {
          "symbol": "circle"
         },
         "mode": "lines",
         "name": "78",
         "showlegend": true,
         "type": "scattergl",
         "x": [
          "ratio_2002-03",
          "ratio_2003-04",
          "ratio_2004-05",
          "ratio_2005-06",
          "ratio_2006-07",
          "ratio_2007-08",
          "ratio_2008-09"
         ],
         "xaxis": "x",
         "y": [
          434.39285714285717,
          442.2289156626506,
          451.94117647058823,
          452.83720930232556,
          509.2564102564103,
          528.7349397590361,
          510.625
         ],
         "yaxis": "y"
        },
        {
         "hovertemplate": "variable=79<br>index=%{x}<br>value=%{y}<extra></extra>",
         "legendgroup": "79",
         "line": {
          "color": "#FF6692",
          "dash": "solid"
         },
         "marker": {
          "symbol": "circle"
         },
         "mode": "lines",
         "name": "79",
         "showlegend": true,
         "type": "scattergl",
         "x": [
          "ratio_2002-03",
          "ratio_2003-04",
          "ratio_2004-05",
          "ratio_2005-06",
          "ratio_2006-07",
          "ratio_2007-08",
          "ratio_2008-09"
         ],
         "xaxis": "x",
         "y": [
          455.8863636363636,
          413.42424242424244,
          421.05,
          435.7979797979798,
          456.41237113402065,
          488.78,
          491.27
         ],
         "yaxis": "y"
        },
        {
         "hovertemplate": "variable=80<br>index=%{x}<br>value=%{y}<extra></extra>",
         "legendgroup": "80",
         "line": {
          "color": "#B6E880",
          "dash": "solid"
         },
         "marker": {
          "symbol": "circle"
         },
         "mode": "lines",
         "name": "80",
         "showlegend": true,
         "type": "scattergl",
         "x": [
          "ratio_2002-03",
          "ratio_2003-04",
          "ratio_2004-05",
          "ratio_2005-06",
          "ratio_2006-07",
          "ratio_2007-08",
          "ratio_2008-09"
         ],
         "xaxis": "x",
         "y": [
          512.2027027027027,
          501.425,
          507.44444444444446,
          500.08235294117645,
          494.33720930232556,
          570.5731707317074,
          530.9425287356322
         ],
         "yaxis": "y"
        },
        {
         "hovertemplate": "variable=81<br>index=%{x}<br>value=%{y}<extra></extra>",
         "legendgroup": "81",
         "line": {
          "color": "#FF97FF",
          "dash": "solid"
         },
         "marker": {
          "symbol": "circle"
         },
         "mode": "lines",
         "name": "81",
         "showlegend": true,
         "type": "scattergl",
         "x": [
          "ratio_2002-03",
          "ratio_2003-04",
          "ratio_2004-05",
          "ratio_2005-06",
          "ratio_2006-07",
          "ratio_2007-08",
          "ratio_2008-09"
         ],
         "xaxis": "x",
         "y": [
          487.81481481481484,
          515.4683544303797,
          488.8837209302326,
          550.1645569620254,
          538.3086419753087,
          567.609756097561,
          549.8117647058823
         ],
         "yaxis": "y"
        },
        {
         "hovertemplate": "variable=82<br>index=%{x}<br>value=%{y}<extra></extra>",
         "legendgroup": "82",
         "line": {
          "color": "#FECB52",
          "dash": "solid"
         },
         "marker": {
          "symbol": "circle"
         },
         "mode": "lines",
         "name": "82",
         "showlegend": true,
         "type": "scattergl",
         "x": [
          "ratio_2002-03",
          "ratio_2003-04",
          "ratio_2004-05",
          "ratio_2005-06",
          "ratio_2006-07",
          "ratio_2007-08",
          "ratio_2008-09"
         ],
         "xaxis": "x",
         "y": [
          459.9878048780488,
          444.5977011494253,
          433.5842696629214,
          441.65555555555557,
          483.9166666666667,
          496.5888888888889,
          511.9425287356322
         ],
         "yaxis": "y"
        },
        {
         "hovertemplate": "variable=83<br>index=%{x}<br>value=%{y}<extra></extra>",
         "legendgroup": "83",
         "line": {
          "color": "#636efa",
          "dash": "solid"
         },
         "marker": {
          "symbol": "circle"
         },
         "mode": "lines",
         "name": "83",
         "showlegend": true,
         "type": "scattergl",
         "x": [
          "ratio_2002-03",
          "ratio_2003-04",
          "ratio_2004-05",
          "ratio_2005-06",
          "ratio_2006-07",
          "ratio_2007-08",
          "ratio_2008-09"
         ],
         "xaxis": "x",
         "y": [
          443.60714285714283,
          464.3536585365854,
          491.6,
          507.0506329113924,
          487.8433734939759,
          507.88505747126436,
          520.9529411764706
         ],
         "yaxis": "y"
        },
        {
         "hovertemplate": "variable=84<br>index=%{x}<br>value=%{y}<extra></extra>",
         "legendgroup": "84",
         "line": {
          "color": "#EF553B",
          "dash": "solid"
         },
         "marker": {
          "symbol": "circle"
         },
         "mode": "lines",
         "name": "84",
         "showlegend": true,
         "type": "scattergl",
         "x": [
          "ratio_2002-03",
          "ratio_2003-04",
          "ratio_2004-05",
          "ratio_2005-06",
          "ratio_2006-07",
          "ratio_2007-08",
          "ratio_2008-09"
         ],
         "xaxis": "x",
         "y": [
          454.51190476190476,
          505.17721518987344,
          505.85185185185185,
          536.873417721519,
          528.0853658536586,
          593.0875,
          579.6746987951807
         ],
         "yaxis": "y"
        },
        {
         "hovertemplate": "variable=85<br>index=%{x}<br>value=%{y}<extra></extra>",
         "legendgroup": "85",
         "line": {
          "color": "#00cc96",
          "dash": "solid"
         },
         "marker": {
          "symbol": "circle"
         },
         "mode": "lines",
         "name": "85",
         "showlegend": true,
         "type": "scattergl",
         "x": [
          "ratio_2002-03",
          "ratio_2003-04",
          "ratio_2004-05",
          "ratio_2005-06",
          "ratio_2006-07",
          "ratio_2007-08",
          "ratio_2008-09"
         ],
         "xaxis": "x",
         "y": [
          427.3170731707317,
          405.2808988764045,
          401.468085106383,
          407.43,
          436.81,
          476.87,
          533.741935483871
         ],
         "yaxis": "y"
        },
        {
         "hovertemplate": "variable=86<br>index=%{x}<br>value=%{y}<extra></extra>",
         "legendgroup": "86",
         "line": {
          "color": "#ab63fa",
          "dash": "solid"
         },
         "marker": {
          "symbol": "circle"
         },
         "mode": "lines",
         "name": "86",
         "showlegend": true,
         "type": "scattergl",
         "x": [
          "ratio_2002-03",
          "ratio_2003-04",
          "ratio_2004-05",
          "ratio_2005-06",
          "ratio_2006-07",
          "ratio_2007-08",
          "ratio_2008-09"
         ],
         "xaxis": "x",
         "y": [
          662.3333333333334,
          623.68,
          639.4533333333334,
          667.5540540540541,
          702.5616438356165,
          722,
          775.8732394366198
         ],
         "yaxis": "y"
        },
        {
         "hovertemplate": "variable=87<br>index=%{x}<br>value=%{y}<extra></extra>",
         "legendgroup": "87",
         "line": {
          "color": "#FFA15A",
          "dash": "solid"
         },
         "marker": {
          "symbol": "circle"
         },
         "mode": "lines",
         "name": "87",
         "showlegend": true,
         "type": "scattergl",
         "x": [
          "ratio_2002-03",
          "ratio_2003-04",
          "ratio_2004-05",
          "ratio_2005-06",
          "ratio_2006-07",
          "ratio_2007-08",
          "ratio_2008-09"
         ],
         "xaxis": "x",
         "y": [
          365.4226804123711,
          461.075,
          437.44943820224717,
          396.16494845360825,
          385.8,
          448.18947368421055,
          436.19
         ],
         "yaxis": "y"
        },
        {
         "hovertemplate": "variable=88<br>index=%{x}<br>value=%{y}<extra></extra>",
         "legendgroup": "88",
         "line": {
          "color": "#19d3f3",
          "dash": "solid"
         },
         "marker": {
          "symbol": "circle"
         },
         "mode": "lines",
         "name": "88",
         "showlegend": true,
         "type": "scattergl",
         "x": [
          "ratio_2002-03",
          "ratio_2003-04",
          "ratio_2004-05",
          "ratio_2005-06",
          "ratio_2006-07",
          "ratio_2007-08",
          "ratio_2008-09"
         ],
         "xaxis": "x",
         "y": [
          513.8888888888889,
          515.2297297297297,
          502.7564102564103,
          512.6025641025641,
          520.7179487179487,
          521.1904761904761,
          516.8488372093024
         ],
         "yaxis": "y"
        },
        {
         "hovertemplate": "variable=89<br>index=%{x}<br>value=%{y}<extra></extra>",
         "legendgroup": "89",
         "line": {
          "color": "#FF6692",
          "dash": "solid"
         },
         "marker": {
          "symbol": "circle"
         },
         "mode": "lines",
         "name": "89",
         "showlegend": true,
         "type": "scattergl",
         "x": [
          "ratio_2002-03",
          "ratio_2003-04",
          "ratio_2004-05",
          "ratio_2005-06",
          "ratio_2006-07",
          "ratio_2007-08",
          "ratio_2008-09"
         ],
         "xaxis": "x",
         "y": [
          462.1666666666667,
          494.7926829268293,
          460.54945054945057,
          472.44565217391306,
          475.64516129032256,
          511.1489361702128,
          525.1098901098901
         ],
         "yaxis": "y"
        },
        {
         "hovertemplate": "variable=90<br>index=%{x}<br>value=%{y}<extra></extra>",
         "legendgroup": "90",
         "line": {
          "color": "#B6E880",
          "dash": "solid"
         },
         "marker": {
          "symbol": "circle"
         },
         "mode": "lines",
         "name": "90",
         "showlegend": true,
         "type": "scattergl",
         "x": [
          "ratio_2002-03",
          "ratio_2003-04",
          "ratio_2004-05",
          "ratio_2005-06",
          "ratio_2006-07",
          "ratio_2007-08",
          "ratio_2008-09"
         ],
         "xaxis": "x",
         "y": [
          446.57142857142856,
          465.0777777777778,
          499.1264367816092,
          495.6111111111111,
          502.1666666666667,
          561.9418604651163,
          559.8181818181819
         ],
         "yaxis": "y"
        },
        {
         "hovertemplate": "variable=91<br>index=%{x}<br>value=%{y}<extra></extra>",
         "legendgroup": "91",
         "line": {
          "color": "#FF97FF",
          "dash": "solid"
         },
         "marker": {
          "symbol": "circle"
         },
         "mode": "lines",
         "name": "91",
         "showlegend": true,
         "type": "scattergl",
         "x": [
          "ratio_2002-03",
          "ratio_2003-04",
          "ratio_2004-05",
          "ratio_2005-06",
          "ratio_2006-07",
          "ratio_2007-08",
          "ratio_2008-09"
         ],
         "xaxis": "x",
         "y": [
          587.5277777777778,
          542.8481012658228,
          546.7073170731708,
          549.7951807228916,
          578.2926829268292,
          590.080459770115,
          600.1511627906976
         ],
         "yaxis": "y"
        },
        {
         "hovertemplate": "variable=92<br>index=%{x}<br>value=%{y}<extra></extra>",
         "legendgroup": "92",
         "line": {
          "color": "#FECB52",
          "dash": "solid"
         },
         "marker": {
          "symbol": "circle"
         },
         "mode": "lines",
         "name": "92",
         "showlegend": true,
         "type": "scattergl",
         "x": [
          "ratio_2002-03",
          "ratio_2003-04",
          "ratio_2004-05",
          "ratio_2005-06",
          "ratio_2006-07",
          "ratio_2007-08",
          "ratio_2008-09"
         ],
         "xaxis": "x",
         "y": [
          603.8253968253969,
          567.6521739130435,
          518.012987012987,
          531.2337662337662,
          519.8641975308642,
          582.5375,
          627.5394736842105
         ],
         "yaxis": "y"
        },
        {
         "hovertemplate": "variable=93<br>index=%{x}<br>value=%{y}<extra></extra>",
         "legendgroup": "93",
         "line": {
          "color": "#636efa",
          "dash": "solid"
         },
         "marker": {
          "symbol": "circle"
         },
         "mode": "lines",
         "name": "93",
         "showlegend": true,
         "type": "scattergl",
         "x": [
          "ratio_2002-03",
          "ratio_2003-04",
          "ratio_2004-05",
          "ratio_2005-06",
          "ratio_2006-07",
          "ratio_2007-08",
          "ratio_2008-09"
         ],
         "xaxis": "x",
         "y": [
          485.35,
          506.75,
          499.3658536585366,
          496.5113636363636,
          498.27777777777777,
          514.6315789473684,
          517.84375
         ],
         "yaxis": "y"
        },
        {
         "hovertemplate": "variable=94<br>index=%{x}<br>value=%{y}<extra></extra>",
         "legendgroup": "94",
         "line": {
          "color": "#EF553B",
          "dash": "solid"
         },
         "marker": {
          "symbol": "circle"
         },
         "mode": "lines",
         "name": "94",
         "showlegend": true,
         "type": "scattergl",
         "x": [
          "ratio_2002-03",
          "ratio_2003-04",
          "ratio_2004-05",
          "ratio_2005-06",
          "ratio_2006-07",
          "ratio_2007-08",
          "ratio_2008-09"
         ],
         "xaxis": "x",
         "y": [
          547.2222222222222,
          540.3333333333334,
          557.3066666666666,
          539.4875,
          535.3095238095239,
          577.3095238095239,
          571.9642857142857
         ],
         "yaxis": "y"
        },
        {
         "hovertemplate": "variable=95<br>index=%{x}<br>value=%{y}<extra></extra>",
         "legendgroup": "95",
         "line": {
          "color": "#00cc96",
          "dash": "solid"
         },
         "marker": {
          "symbol": "circle"
         },
         "mode": "lines",
         "name": "95",
         "showlegend": true,
         "type": "scattergl",
         "x": [
          "ratio_2002-03",
          "ratio_2003-04",
          "ratio_2004-05",
          "ratio_2005-06",
          "ratio_2006-07",
          "ratio_2007-08",
          "ratio_2008-09"
         ],
         "xaxis": "x",
         "y": [
          479.80263157894734,
          537.5714285714286,
          483.609756097561,
          527.5897435897435,
          509.4074074074074,
          565.35,
          546.3809523809524
         ],
         "yaxis": "y"
        },
        {
         "hovertemplate": "variable=96<br>index=%{x}<br>value=%{y}<extra></extra>",
         "legendgroup": "96",
         "line": {
          "color": "#ab63fa",
          "dash": "solid"
         },
         "marker": {
          "symbol": "circle"
         },
         "mode": "lines",
         "name": "96",
         "showlegend": true,
         "type": "scattergl",
         "x": [
          "ratio_2002-03",
          "ratio_2003-04",
          "ratio_2004-05",
          "ratio_2005-06",
          "ratio_2006-07",
          "ratio_2007-08",
          "ratio_2008-09"
         ],
         "xaxis": "x",
         "y": [
          470.2307692307692,
          425.18888888888887,
          516.2597402597403,
          547.8947368421053,
          528.3703703703703,
          569.170731707317,
          554.453488372093
         ],
         "yaxis": "y"
        },
        {
         "hovertemplate": "variable=97<br>index=%{x}<br>value=%{y}<extra></extra>",
         "legendgroup": "97",
         "line": {
          "color": "#FFA15A",
          "dash": "solid"
         },
         "marker": {
          "symbol": "circle"
         },
         "mode": "lines",
         "name": "97",
         "showlegend": true,
         "type": "scattergl",
         "x": [
          "ratio_2002-03",
          "ratio_2003-04",
          "ratio_2004-05",
          "ratio_2005-06",
          "ratio_2006-07",
          "ratio_2007-08",
          "ratio_2008-09"
         ],
         "xaxis": "x",
         "y": [
          506.2911392405063,
          541.7236842105264,
          537.506329113924,
          563.1168831168832,
          572.2051282051282,
          617.253164556962,
          595.0121951219512
         ],
         "yaxis": "y"
        },
        {
         "hovertemplate": "variable=98<br>index=%{x}<br>value=%{y}<extra></extra>",
         "legendgroup": "98",
         "line": {
          "color": "#19d3f3",
          "dash": "solid"
         },
         "marker": {
          "symbol": "circle"
         },
         "mode": "lines",
         "name": "98",
         "showlegend": true,
         "type": "scattergl",
         "x": [
          "ratio_2002-03",
          "ratio_2003-04",
          "ratio_2004-05",
          "ratio_2005-06",
          "ratio_2006-07",
          "ratio_2007-08",
          "ratio_2008-09"
         ],
         "xaxis": "x",
         "y": [
          493.8831168831169,
          516.1558441558442,
          506.0243902439024,
          518.3214285714286,
          521.6627906976744,
          563.4367816091954,
          566.125
         ],
         "yaxis": "y"
        },
        {
         "hovertemplate": "variable=99<br>index=%{x}<br>value=%{y}<extra></extra>",
         "legendgroup": "99",
         "line": {
          "color": "#FF6692",
          "dash": "solid"
         },
         "marker": {
          "symbol": "circle"
         },
         "mode": "lines",
         "name": "99",
         "showlegend": true,
         "type": "scattergl",
         "x": [
          "ratio_2002-03",
          "ratio_2003-04",
          "ratio_2004-05",
          "ratio_2005-06",
          "ratio_2006-07",
          "ratio_2007-08",
          "ratio_2008-09"
         ],
         "xaxis": "x",
         "y": [
          448.65432098765433,
          458.9268292682927,
          437.8636363636364,
          443.2696629213483,
          470.6823529411765,
          478.29347826086956,
          462.9583333333333
         ],
         "yaxis": "y"
        },
        {
         "hovertemplate": "variable=100<br>index=%{x}<br>value=%{y}<extra></extra>",
         "legendgroup": "100",
         "line": {
          "color": "#B6E880",
          "dash": "solid"
         },
         "marker": {
          "symbol": "circle"
         },
         "mode": "lines",
         "name": "100",
         "showlegend": true,
         "type": "scattergl",
         "x": [
          "ratio_2002-03",
          "ratio_2003-04",
          "ratio_2004-05",
          "ratio_2005-06",
          "ratio_2006-07",
          "ratio_2007-08",
          "ratio_2008-09"
         ],
         "xaxis": "x",
         "y": [
          508.4225352112676,
          516.931506849315,
          508.87012987012986,
          520.3116883116883,
          513.5,
          544.9268292682926,
          532.0813953488372
         ],
         "yaxis": "y"
        },
        {
         "hovertemplate": "variable=101<br>index=%{x}<br>value=%{y}<extra></extra>",
         "legendgroup": "101",
         "line": {
          "color": "#FF97FF",
          "dash": "solid"
         },
         "marker": {
          "symbol": "circle"
         },
         "mode": "lines",
         "name": "101",
         "showlegend": true,
         "type": "scattergl",
         "x": [
          "ratio_2002-03",
          "ratio_2003-04",
          "ratio_2004-05",
          "ratio_2005-06",
          "ratio_2006-07",
          "ratio_2007-08",
          "ratio_2008-09"
         ],
         "xaxis": "x",
         "y": [
          405.70786516853934,
          401.75824175824175,
          482.71604938271605,
          481.61176470588236,
          487.1744186046512,
          510.23333333333335,
          500.7956989247312
         ],
         "yaxis": "y"
        },
        {
         "hovertemplate": "variable=102<br>index=%{x}<br>value=%{y}<extra></extra>",
         "legendgroup": "102",
         "line": {
          "color": "#FECB52",
          "dash": "solid"
         },
         "marker": {
          "symbol": "circle"
         },
         "mode": "lines",
         "name": "102",
         "showlegend": true,
         "type": "scattergl",
         "x": [
          "ratio_2002-03",
          "ratio_2003-04",
          "ratio_2004-05",
          "ratio_2005-06",
          "ratio_2006-07",
          "ratio_2007-08",
          "ratio_2008-09"
         ],
         "xaxis": "x",
         "y": [
          467.3333333333333,
          417.8241758241758,
          444.90909090909093,
          463.2386363636364,
          443.7340425531915,
          489.989010989011,
          485.2608695652174
         ],
         "yaxis": "y"
        },
        {
         "hovertemplate": "variable=103<br>index=%{x}<br>value=%{y}<extra></extra>",
         "legendgroup": "103",
         "line": {
          "color": "#636efa",
          "dash": "solid"
         },
         "marker": {
          "symbol": "circle"
         },
         "mode": "lines",
         "name": "103",
         "showlegend": true,
         "type": "scattergl",
         "x": [
          "ratio_2002-03",
          "ratio_2003-04",
          "ratio_2004-05",
          "ratio_2005-06",
          "ratio_2006-07",
          "ratio_2007-08",
          "ratio_2008-09"
         ],
         "xaxis": "x",
         "y": [
          428.9247311827957,
          426.15625,
          441.5050505050505,
          472.62886597938143,
          504.47872340425533,
          583.032967032967,
          566.9891304347826
         ],
         "yaxis": "y"
        },
        {
         "hovertemplate": "variable=104<br>index=%{x}<br>value=%{y}<extra></extra>",
         "legendgroup": "104",
         "line": {
          "color": "#EF553B",
          "dash": "solid"
         },
         "marker": {
          "symbol": "circle"
         },
         "mode": "lines",
         "name": "104",
         "showlegend": true,
         "type": "scattergl",
         "x": [
          "ratio_2002-03",
          "ratio_2003-04",
          "ratio_2004-05",
          "ratio_2005-06",
          "ratio_2006-07",
          "ratio_2007-08",
          "ratio_2008-09"
         ],
         "xaxis": "x",
         "y": [
          410.80232558139534,
          411.94505494505495,
          428.5217391304348,
          434.55913978494624,
          440.5268817204301,
          448.06,
          497.8478260869565
         ],
         "yaxis": "y"
        },
        {
         "hovertemplate": "variable=105<br>index=%{x}<br>value=%{y}<extra></extra>",
         "legendgroup": "105",
         "line": {
          "color": "#00cc96",
          "dash": "solid"
         },
         "marker": {
          "symbol": "circle"
         },
         "mode": "lines",
         "name": "105",
         "showlegend": true,
         "type": "scattergl",
         "x": [
          "ratio_2002-03",
          "ratio_2003-04",
          "ratio_2004-05",
          "ratio_2005-06",
          "ratio_2006-07",
          "ratio_2007-08",
          "ratio_2008-09"
         ],
         "xaxis": "x",
         "y": [
          448.22727272727275,
          443.57608695652175,
          472.39772727272725,
          478.2584269662921,
          483.86516853932585,
          520.3555555555556,
          538.1590909090909
         ],
         "yaxis": "y"
        },
        {
         "hovertemplate": "variable=106<br>index=%{x}<br>value=%{y}<extra></extra>",
         "legendgroup": "106",
         "line": {
          "color": "#ab63fa",
          "dash": "solid"
         },
         "marker": {
          "symbol": "circle"
         },
         "mode": "lines",
         "name": "106",
         "showlegend": true,
         "type": "scattergl",
         "x": [
          "ratio_2002-03",
          "ratio_2003-04",
          "ratio_2004-05",
          "ratio_2005-06",
          "ratio_2006-07",
          "ratio_2007-08",
          "ratio_2008-09"
         ],
         "xaxis": "x",
         "y": [
          510.9166666666667,
          509.2236842105263,
          493.4567901234568,
          470.69662921348316,
          486.19101123595505,
          515.4395604395604,
          516.6881720430108
         ],
         "yaxis": "y"
        },
        {
         "hovertemplate": "variable=107<br>index=%{x}<br>value=%{y}<extra></extra>",
         "legendgroup": "107",
         "line": {
          "color": "#FFA15A",
          "dash": "solid"
         },
         "marker": {
          "symbol": "circle"
         },
         "mode": "lines",
         "name": "107",
         "showlegend": true,
         "type": "scattergl",
         "x": [
          "ratio_2002-03",
          "ratio_2003-04",
          "ratio_2004-05",
          "ratio_2005-06",
          "ratio_2006-07",
          "ratio_2007-08",
          "ratio_2008-09"
         ],
         "xaxis": "x",
         "y": [
          452.26190476190476,
          484.3703703703704,
          478.78823529411767,
          510.7560975609756,
          504.3720930232558,
          570.4634146341464,
          529.7666666666667
         ],
         "yaxis": "y"
        },
        {
         "hovertemplate": "variable=108<br>index=%{x}<br>value=%{y}<extra></extra>",
         "legendgroup": "108",
         "line": {
          "color": "#19d3f3",
          "dash": "solid"
         },
         "marker": {
          "symbol": "circle"
         },
         "mode": "lines",
         "name": "108",
         "showlegend": true,
         "type": "scattergl",
         "x": [
          "ratio_2002-03",
          "ratio_2003-04",
          "ratio_2004-05",
          "ratio_2005-06",
          "ratio_2006-07",
          "ratio_2007-08",
          "ratio_2008-09"
         ],
         "xaxis": "x",
         "y": [
          475.6024096385542,
          464.438202247191,
          449.25531914893617,
          488.2,
          526.6117647058824,
          528.0879120879121,
          566.8023255813954
         ],
         "yaxis": "y"
        },
        {
         "hovertemplate": "variable=109<br>index=%{x}<br>value=%{y}<extra></extra>",
         "legendgroup": "109",
         "line": {
          "color": "#FF6692",
          "dash": "solid"
         },
         "marker": {
          "symbol": "circle"
         },
         "mode": "lines",
         "name": "109",
         "showlegend": true,
         "type": "scattergl",
         "x": [
          "ratio_2002-03",
          "ratio_2003-04",
          "ratio_2004-05",
          "ratio_2005-06",
          "ratio_2006-07",
          "ratio_2007-08",
          "ratio_2008-09"
         ],
         "xaxis": "x",
         "y": [
          496.0759493670886,
          502.9012345679012,
          535.9615384615385,
          541.9620253164557,
          593.7027027027027,
          553.8023255813954,
          548.1860465116279
         ],
         "yaxis": "y"
        },
        {
         "hovertemplate": "variable=110<br>index=%{x}<br>value=%{y}<extra></extra>",
         "legendgroup": "110",
         "line": {
          "color": "#B6E880",
          "dash": "solid"
         },
         "marker": {
          "symbol": "circle"
         },
         "mode": "lines",
         "name": "110",
         "showlegend": true,
         "type": "scattergl",
         "x": [
          "ratio_2002-03",
          "ratio_2003-04",
          "ratio_2004-05",
          "ratio_2005-06",
          "ratio_2006-07",
          "ratio_2007-08",
          "ratio_2008-09"
         ],
         "xaxis": "x",
         "y": [
          491.01162790697674,
          539.2911392405064,
          528.5783132530121,
          550.1234567901234,
          509.55056179775283,
          558.8977272727273,
          592.452380952381
         ],
         "yaxis": "y"
        },
        {
         "hovertemplate": "variable=111<br>index=%{x}<br>value=%{y}<extra></extra>",
         "legendgroup": "111",
         "line": {
          "color": "#FF97FF",
          "dash": "solid"
         },
         "marker": {
          "symbol": "circle"
         },
         "mode": "lines",
         "name": "111",
         "showlegend": true,
         "type": "scattergl",
         "x": [
          "ratio_2002-03",
          "ratio_2003-04",
          "ratio_2004-05",
          "ratio_2005-06",
          "ratio_2006-07",
          "ratio_2007-08",
          "ratio_2008-09"
         ],
         "xaxis": "x",
         "y": [
          430.5595238095238,
          532.2837837837837,
          481.63529411764705,
          570.6216216216217,
          584.1486486486486,
          558.722891566265,
          505.06451612903226
         ],
         "yaxis": "y"
        },
        {
         "hovertemplate": "variable=112<br>index=%{x}<br>value=%{y}<extra></extra>",
         "legendgroup": "112",
         "line": {
          "color": "#FECB52",
          "dash": "solid"
         },
         "marker": {
          "symbol": "circle"
         },
         "mode": "lines",
         "name": "112",
         "showlegend": true,
         "type": "scattergl",
         "x": [
          "ratio_2002-03",
          "ratio_2003-04",
          "ratio_2004-05",
          "ratio_2005-06",
          "ratio_2006-07",
          "ratio_2007-08",
          "ratio_2008-09"
         ],
         "xaxis": "x",
         "y": [
          474.34065934065933,
          488.94505494505495,
          492.5806451612903,
          500.1808510638298,
          528.0879120879121,
          564.065934065934,
          579.8444444444444
         ],
         "yaxis": "y"
        },
        {
         "hovertemplate": "variable=113<br>index=%{x}<br>value=%{y}<extra></extra>",
         "legendgroup": "113",
         "line": {
          "color": "#636efa",
          "dash": "solid"
         },
         "marker": {
          "symbol": "circle"
         },
         "mode": "lines",
         "name": "113",
         "showlegend": true,
         "type": "scattergl",
         "x": [
          "ratio_2002-03",
          "ratio_2003-04",
          "ratio_2004-05",
          "ratio_2005-06",
          "ratio_2006-07",
          "ratio_2007-08",
          "ratio_2008-09"
         ],
         "xaxis": "x",
         "y": [
          519.6052631578947,
          457.3863636363636,
          459.7173913043478,
          506.17045454545456,
          652.5857142857143,
          611.95,
          584.6
         ],
         "yaxis": "y"
        },
        {
         "hovertemplate": "variable=114<br>index=%{x}<br>value=%{y}<extra></extra>",
         "legendgroup": "114",
         "line": {
          "color": "#EF553B",
          "dash": "solid"
         },
         "marker": {
          "symbol": "circle"
         },
         "mode": "lines",
         "name": "114",
         "showlegend": true,
         "type": "scattergl",
         "x": [
          "ratio_2002-03",
          "ratio_2003-04",
          "ratio_2004-05",
          "ratio_2005-06",
          "ratio_2006-07",
          "ratio_2007-08",
          "ratio_2008-09"
         ],
         "xaxis": "x",
         "y": [
          423.8,
          397.5268817204301,
          407.79347826086956,
          431.12359550561797,
          451.0348837209302,
          466.64044943820227,
          438.8404255319149
         ],
         "yaxis": "y"
        },
        {
         "hovertemplate": "variable=115<br>index=%{x}<br>value=%{y}<extra></extra>",
         "legendgroup": "115",
         "line": {
          "color": "#00cc96",
          "dash": "solid"
         },
         "marker": {
          "symbol": "circle"
         },
         "mode": "lines",
         "name": "115",
         "showlegend": true,
         "type": "scattergl",
         "x": [
          "ratio_2002-03",
          "ratio_2003-04",
          "ratio_2004-05",
          "ratio_2005-06",
          "ratio_2006-07",
          "ratio_2007-08",
          "ratio_2008-09"
         ],
         "xaxis": "x",
         "y": [
          491.5432098765432,
          497.31325301204816,
          478.13793103448273,
          496.80232558139534,
          493.17045454545456,
          525.7111111111111,
          535.8333333333334
         ],
         "yaxis": "y"
        },
        {
         "hovertemplate": "variable=116<br>index=%{x}<br>value=%{y}<extra></extra>",
         "legendgroup": "116",
         "line": {
          "color": "#ab63fa",
          "dash": "solid"
         },
         "marker": {
          "symbol": "circle"
         },
         "mode": "lines",
         "name": "116",
         "showlegend": true,
         "type": "scattergl",
         "x": [
          "ratio_2002-03",
          "ratio_2003-04",
          "ratio_2004-05",
          "ratio_2005-06",
          "ratio_2006-07",
          "ratio_2007-08",
          "ratio_2008-09"
         ],
         "xaxis": "x",
         "y": [
          473.27027027027026,
          478.55263157894734,
          451.71084337349396,
          426.6263736263736,
          472.88235294117646,
          516.9883720930233,
          560.625
         ],
         "yaxis": "y"
        },
        {
         "hovertemplate": "variable=117<br>index=%{x}<br>value=%{y}<extra></extra>",
         "legendgroup": "117",
         "line": {
          "color": "#FFA15A",
          "dash": "solid"
         },
         "marker": {
          "symbol": "circle"
         },
         "mode": "lines",
         "name": "117",
         "showlegend": true,
         "type": "scattergl",
         "x": [
          "ratio_2002-03",
          "ratio_2003-04",
          "ratio_2004-05",
          "ratio_2005-06",
          "ratio_2006-07",
          "ratio_2007-08",
          "ratio_2008-09"
         ],
         "xaxis": "x",
         "y": [
          392.72340425531917,
          422.4673913043478,
          421.70526315789476,
          437.5531914893617,
          473.36559139784947,
          554.7558139534884,
          511.968085106383
         ],
         "yaxis": "y"
        },
        {
         "hovertemplate": "variable=118<br>index=%{x}<br>value=%{y}<extra></extra>",
         "legendgroup": "118",
         "line": {
          "color": "#19d3f3",
          "dash": "solid"
         },
         "marker": {
          "symbol": "circle"
         },
         "mode": "lines",
         "name": "118",
         "showlegend": true,
         "type": "scattergl",
         "x": [
          "ratio_2002-03",
          "ratio_2003-04",
          "ratio_2004-05",
          "ratio_2005-06",
          "ratio_2006-07",
          "ratio_2007-08",
          "ratio_2008-09"
         ],
         "xaxis": "x",
         "y": [
          479.06849315068496,
          407.95454545454544,
          421.0681818181818,
          434.6363636363636,
          441.6292134831461,
          513.25,
          529.9878048780488
         ],
         "yaxis": "y"
        },
        {
         "hovertemplate": "variable=119<br>index=%{x}<br>value=%{y}<extra></extra>",
         "legendgroup": "119",
         "line": {
          "color": "#FF6692",
          "dash": "solid"
         },
         "marker": {
          "symbol": "circle"
         },
         "mode": "lines",
         "name": "119",
         "showlegend": true,
         "type": "scattergl",
         "x": [
          "ratio_2002-03",
          "ratio_2003-04",
          "ratio_2004-05",
          "ratio_2005-06",
          "ratio_2006-07",
          "ratio_2007-08",
          "ratio_2008-09"
         ],
         "xaxis": "x",
         "y": [
          590.3283582089553,
          548.2837837837837,
          541.3376623376623,
          693.0327868852459,
          593.3013698630137,
          613.974025974026,
          583.3333333333334
         ],
         "yaxis": "y"
        },
        {
         "hovertemplate": "variable=120<br>index=%{x}<br>value=%{y}<extra></extra>",
         "legendgroup": "120",
         "line": {
          "color": "#B6E880",
          "dash": "solid"
         },
         "marker": {
          "symbol": "circle"
         },
         "mode": "lines",
         "name": "120",
         "showlegend": true,
         "type": "scattergl",
         "x": [
          "ratio_2002-03",
          "ratio_2003-04",
          "ratio_2004-05",
          "ratio_2005-06",
          "ratio_2006-07",
          "ratio_2007-08",
          "ratio_2008-09"
         ],
         "xaxis": "x",
         "y": [
          435.2738095238095,
          428.82954545454544,
          456.61176470588236,
          451.0919540229885,
          463.09302325581393,
          490.85555555555555,
          497.0769230769231
         ],
         "yaxis": "y"
        },
        {
         "hovertemplate": "variable=121<br>index=%{x}<br>value=%{y}<extra></extra>",
         "legendgroup": "121",
         "line": {
          "color": "#FF97FF",
          "dash": "solid"
         },
         "marker": {
          "symbol": "circle"
         },
         "mode": "lines",
         "name": "121",
         "showlegend": true,
         "type": "scattergl",
         "x": [
          "ratio_2002-03",
          "ratio_2003-04",
          "ratio_2004-05",
          "ratio_2005-06",
          "ratio_2006-07",
          "ratio_2007-08",
          "ratio_2008-09"
         ],
         "xaxis": "x",
         "y": [
          486.0886075949367,
          467.5357142857143,
          467.42528735632186,
          500.43373493975906,
          499.8588235294118,
          563.2439024390244,
          563.925925925926
         ],
         "yaxis": "y"
        },
        {
         "hovertemplate": "variable=122<br>index=%{x}<br>value=%{y}<extra></extra>",
         "legendgroup": "122",
         "line": {
          "color": "#FECB52",
          "dash": "solid"
         },
         "marker": {
          "symbol": "circle"
         },
         "mode": "lines",
         "name": "122",
         "showlegend": true,
         "type": "scattergl",
         "x": [
          "ratio_2002-03",
          "ratio_2003-04",
          "ratio_2004-05",
          "ratio_2005-06",
          "ratio_2006-07",
          "ratio_2007-08",
          "ratio_2008-09"
         ],
         "xaxis": "x",
         "y": [
          421.12345679012344,
          449.725,
          512.3918918918919,
          423.6666666666667,
          460.6896551724138,
          511.2352941176471,
          547.3809523809524
         ],
         "yaxis": "y"
        },
        {
         "hovertemplate": "variable=123<br>index=%{x}<br>value=%{y}<extra></extra>",
         "legendgroup": "123",
         "line": {
          "color": "#636efa",
          "dash": "solid"
         },
         "marker": {
          "symbol": "circle"
         },
         "mode": "lines",
         "name": "123",
         "showlegend": true,
         "type": "scattergl",
         "x": [
          "ratio_2002-03",
          "ratio_2003-04",
          "ratio_2004-05",
          "ratio_2005-06",
          "ratio_2006-07",
          "ratio_2007-08",
          "ratio_2008-09"
         ],
         "xaxis": "x",
         "y": [
          441.28205128205127,
          434.96385542168673,
          489.02597402597405,
          485.5125,
          481.5595238095238,
          520.8,
          517.0114942528736
         ],
         "yaxis": "y"
        },
        {
         "hovertemplate": "variable=124<br>index=%{x}<br>value=%{y}<extra></extra>",
         "legendgroup": "124",
         "line": {
          "color": "#EF553B",
          "dash": "solid"
         },
         "marker": {
          "symbol": "circle"
         },
         "mode": "lines",
         "name": "124",
         "showlegend": true,
         "type": "scattergl",
         "x": [
          "ratio_2002-03",
          "ratio_2003-04",
          "ratio_2004-05",
          "ratio_2005-06",
          "ratio_2006-07",
          "ratio_2007-08",
          "ratio_2008-09"
         ],
         "xaxis": "x",
         "y": [
          472.26506024096386,
          475.2470588235294,
          473.89772727272725,
          503.7471264367816,
          504.15909090909093,
          546.9772727272727,
          581.7619047619048
         ],
         "yaxis": "y"
        },
        {
         "hovertemplate": "variable=125<br>index=%{x}<br>value=%{y}<extra></extra>",
         "legendgroup": "125",
         "line": {
          "color": "#00cc96",
          "dash": "solid"
         },
         "marker": {
          "symbol": "circle"
         },
         "mode": "lines",
         "name": "125",
         "showlegend": true,
         "type": "scattergl",
         "x": [
          "ratio_2002-03",
          "ratio_2003-04",
          "ratio_2004-05",
          "ratio_2005-06",
          "ratio_2006-07",
          "ratio_2007-08",
          "ratio_2008-09"
         ],
         "xaxis": "x",
         "y": [
          372.949494949495,
          385.8556701030928,
          402.15625,
          405.08247422680415,
          419.78125,
          473.7340425531915,
          480.752688172043
         ],
         "yaxis": "y"
        },
        {
         "hovertemplate": "variable=126<br>index=%{x}<br>value=%{y}<extra></extra>",
         "legendgroup": "126",
         "line": {
          "color": "#ab63fa",
          "dash": "solid"
         },
         "marker": {
          "symbol": "circle"
         },
         "mode": "lines",
         "name": "126",
         "showlegend": true,
         "type": "scattergl",
         "x": [
          "ratio_2002-03",
          "ratio_2003-04",
          "ratio_2004-05",
          "ratio_2005-06",
          "ratio_2006-07",
          "ratio_2007-08",
          "ratio_2008-09"
         ],
         "xaxis": "x",
         "y": [
          445.7241379310345,
          451.40449438202245,
          466.55056179775283,
          492.97752808988764,
          499.96629213483146,
          513.25,
          532.5212765957447
         ],
         "yaxis": "y"
        },
        {
         "hovertemplate": "variable=127<br>index=%{x}<br>value=%{y}<extra></extra>",
         "legendgroup": "127",
         "line": {
          "color": "#FFA15A",
          "dash": "solid"
         },
         "marker": {
          "symbol": "circle"
         },
         "mode": "lines",
         "name": "127",
         "showlegend": true,
         "type": "scattergl",
         "x": [
          "ratio_2002-03",
          "ratio_2003-04",
          "ratio_2004-05",
          "ratio_2005-06",
          "ratio_2006-07",
          "ratio_2007-08",
          "ratio_2008-09"
         ],
         "xaxis": "x",
         "y": [
          473.18390804597703,
          533.9146341463414,
          539.9156626506024,
          551.8470588235294,
          596.3827160493827,
          590.685393258427,
          724.5616438356165
         ],
         "yaxis": "y"
        },
        {
         "hovertemplate": "variable=128<br>index=%{x}<br>value=%{y}<extra></extra>",
         "legendgroup": "128",
         "line": {
          "color": "#19d3f3",
          "dash": "solid"
         },
         "marker": {
          "symbol": "circle"
         },
         "mode": "lines",
         "name": "128",
         "showlegend": true,
         "type": "scattergl",
         "x": [
          "ratio_2002-03",
          "ratio_2003-04",
          "ratio_2004-05",
          "ratio_2005-06",
          "ratio_2006-07",
          "ratio_2007-08",
          "ratio_2008-09"
         ],
         "xaxis": "x",
         "y": [
          437.1294117647059,
          455.4404761904762,
          465.9047619047619,
          466.09411764705885,
          488.1219512195122,
          513.8095238095239,
          517.219512195122
         ],
         "yaxis": "y"
        },
        {
         "hovertemplate": "variable=129<br>index=%{x}<br>value=%{y}<extra></extra>",
         "legendgroup": "129",
         "line": {
          "color": "#FF6692",
          "dash": "solid"
         },
         "marker": {
          "symbol": "circle"
         },
         "mode": "lines",
         "name": "129",
         "showlegend": true,
         "type": "scattergl",
         "x": [
          "ratio_2002-03",
          "ratio_2003-04",
          "ratio_2004-05",
          "ratio_2005-06",
          "ratio_2006-07",
          "ratio_2007-08",
          "ratio_2008-09"
         ],
         "xaxis": "x",
         "y": [
          419.7752808988764,
          458.09302325581393,
          452.81111111111113,
          486.63953488372096,
          475.3626373626374,
          506.0989010989011,
          535.0344827586207
         ],
         "yaxis": "y"
        },
        {
         "hovertemplate": "variable=130<br>index=%{x}<br>value=%{y}<extra></extra>",
         "legendgroup": "130",
         "line": {
          "color": "#B6E880",
          "dash": "solid"
         },
         "marker": {
          "symbol": "circle"
         },
         "mode": "lines",
         "name": "130",
         "showlegend": true,
         "type": "scattergl",
         "x": [
          "ratio_2002-03",
          "ratio_2003-04",
          "ratio_2004-05",
          "ratio_2005-06",
          "ratio_2006-07",
          "ratio_2007-08",
          "ratio_2008-09"
         ],
         "xaxis": "x",
         "y": [
          421.80645161290323,
          432.79347826086956,
          436.56382978723406,
          436.0105263157895,
          445.78125,
          487.3191489361702,
          490.1578947368421
         ],
         "yaxis": "y"
        },
        {
         "hovertemplate": "variable=131<br>index=%{x}<br>value=%{y}<extra></extra>",
         "legendgroup": "131",
         "line": {
          "color": "#FF97FF",
          "dash": "solid"
         },
         "marker": {
          "symbol": "circle"
         },
         "mode": "lines",
         "name": "131",
         "showlegend": true,
         "type": "scattergl",
         "x": [
          "ratio_2002-03",
          "ratio_2003-04",
          "ratio_2004-05",
          "ratio_2005-06",
          "ratio_2006-07",
          "ratio_2007-08",
          "ratio_2008-09"
         ],
         "xaxis": "x",
         "y": [
          530.7162162162163,
          530.1447368421053,
          554.88,
          560.8026315789474,
          522.6219512195122,
          518.4888888888889,
          535.1797752808989
         ],
         "yaxis": "y"
        },
        {
         "hovertemplate": "variable=132<br>index=%{x}<br>value=%{y}<extra></extra>",
         "legendgroup": "132",
         "line": {
          "color": "#FECB52",
          "dash": "solid"
         },
         "marker": {
          "symbol": "circle"
         },
         "mode": "lines",
         "name": "132",
         "showlegend": true,
         "type": "scattergl",
         "x": [
          "ratio_2002-03",
          "ratio_2003-04",
          "ratio_2004-05",
          "ratio_2005-06",
          "ratio_2006-07",
          "ratio_2007-08",
          "ratio_2008-09"
         ],
         "xaxis": "x",
         "y": [
          480.7261904761905,
          456.5056179775281,
          467.9111111111111,
          496.57471264367814,
          523.1190476190476,
          563.8588235294118,
          584.7710843373494
         ],
         "yaxis": "y"
        },
        {
         "hovertemplate": "variable=133<br>index=%{x}<br>value=%{y}<extra></extra>",
         "legendgroup": "133",
         "line": {
          "color": "#636efa",
          "dash": "solid"
         },
         "marker": {
          "symbol": "circle"
         },
         "mode": "lines",
         "name": "133",
         "showlegend": true,
         "type": "scattergl",
         "x": [
          "ratio_2002-03",
          "ratio_2003-04",
          "ratio_2004-05",
          "ratio_2005-06",
          "ratio_2006-07",
          "ratio_2007-08",
          "ratio_2008-09"
         ],
         "xaxis": "x",
         "y": [
          485.32911392405066,
          543.4594594594595,
          501.2530120481928,
          460.8863636363636,
          487.48275862068965,
          530.1627906976744,
          530.3863636363636
         ],
         "yaxis": "y"
        },
        {
         "hovertemplate": "variable=134<br>index=%{x}<br>value=%{y}<extra></extra>",
         "legendgroup": "134",
         "line": {
          "color": "#EF553B",
          "dash": "solid"
         },
         "marker": {
          "symbol": "circle"
         },
         "mode": "lines",
         "name": "134",
         "showlegend": true,
         "type": "scattergl",
         "x": [
          "ratio_2002-03",
          "ratio_2003-04",
          "ratio_2004-05",
          "ratio_2005-06",
          "ratio_2006-07",
          "ratio_2007-08",
          "ratio_2008-09"
         ],
         "xaxis": "x",
         "y": [
          589.9285714285714,
          569.2297297297297,
          562.0909090909091,
          564.2911392405064,
          580.6794871794872,
          566.046511627907,
          566.7011494252873
         ],
         "yaxis": "y"
        },
        {
         "hovertemplate": "variable=135<br>index=%{x}<br>value=%{y}<extra></extra>",
         "legendgroup": "135",
         "line": {
          "color": "#00cc96",
          "dash": "solid"
         },
         "marker": {
          "symbol": "circle"
         },
         "mode": "lines",
         "name": "135",
         "showlegend": true,
         "type": "scattergl",
         "x": [
          "ratio_2002-03",
          "ratio_2003-04",
          "ratio_2004-05",
          "ratio_2005-06",
          "ratio_2006-07",
          "ratio_2007-08",
          "ratio_2008-09"
         ],
         "xaxis": "x",
         "y": [
          502.0779220779221,
          435.7191011235955,
          455.83529411764704,
          449.5274725274725,
          464.85869565217394,
          497.1041666666667,
          489.0612244897959
         ],
         "yaxis": "y"
        },
        {
         "hovertemplate": "variable=136<br>index=%{x}<br>value=%{y}<extra></extra>",
         "legendgroup": "136",
         "line": {
          "color": "#ab63fa",
          "dash": "solid"
         },
         "marker": {
          "symbol": "circle"
         },
         "mode": "lines",
         "name": "136",
         "showlegend": true,
         "type": "scattergl",
         "x": [
          "ratio_2002-03",
          "ratio_2003-04",
          "ratio_2004-05",
          "ratio_2005-06",
          "ratio_2006-07",
          "ratio_2007-08",
          "ratio_2008-09"
         ],
         "xaxis": "x",
         "y": [
          375.5274725274725,
          388.32954545454544,
          439.10843373493975,
          421.6741573033708,
          389.68,
          445.59375,
          487.2134831460674
         ],
         "yaxis": "y"
        },
        {
         "hovertemplate": "variable=137<br>index=%{x}<br>value=%{y}<extra></extra>",
         "legendgroup": "137",
         "line": {
          "color": "#FFA15A",
          "dash": "solid"
         },
         "marker": {
          "symbol": "circle"
         },
         "mode": "lines",
         "name": "137",
         "showlegend": true,
         "type": "scattergl",
         "x": [
          "ratio_2002-03",
          "ratio_2003-04",
          "ratio_2004-05",
          "ratio_2005-06",
          "ratio_2006-07",
          "ratio_2007-08",
          "ratio_2008-09"
         ],
         "xaxis": "x",
         "y": [
          403.2967032967033,
          420.13186813186815,
          444.86516853932585,
          441.3804347826087,
          488.9761904761905,
          487.39130434782606,
          507.1758241758242
         ],
         "yaxis": "y"
        },
        {
         "hovertemplate": "variable=138<br>index=%{x}<br>value=%{y}<extra></extra>",
         "legendgroup": "138",
         "line": {
          "color": "#19d3f3",
          "dash": "solid"
         },
         "marker": {
          "symbol": "circle"
         },
         "mode": "lines",
         "name": "138",
         "showlegend": true,
         "type": "scattergl",
         "x": [
          "ratio_2002-03",
          "ratio_2003-04",
          "ratio_2004-05",
          "ratio_2005-06",
          "ratio_2006-07",
          "ratio_2007-08",
          "ratio_2008-09"
         ],
         "xaxis": "x",
         "y": [
          572.2794117647059,
          525.8589743589744,
          535.1392405063291,
          505.8837209302326,
          503.1123595505618,
          551.4943820224719,
          549.5111111111111
         ],
         "yaxis": "y"
        },
        {
         "hovertemplate": "variable=139<br>index=%{x}<br>value=%{y}<extra></extra>",
         "legendgroup": "139",
         "line": {
          "color": "#FF6692",
          "dash": "solid"
         },
         "marker": {
          "symbol": "circle"
         },
         "mode": "lines",
         "name": "139",
         "showlegend": true,
         "type": "scattergl",
         "x": [
          "ratio_2002-03",
          "ratio_2003-04",
          "ratio_2004-05",
          "ratio_2005-06",
          "ratio_2006-07",
          "ratio_2007-08",
          "ratio_2008-09"
         ],
         "xaxis": "x",
         "y": [
          480.64285714285717,
          500.4756097560976,
          518.1463414634146,
          508.24418604651163,
          526.8,
          608.1604938271605,
          612.170731707317
         ],
         "yaxis": "y"
        },
        {
         "hovertemplate": "variable=140<br>index=%{x}<br>value=%{y}<extra></extra>",
         "legendgroup": "140",
         "line": {
          "color": "#B6E880",
          "dash": "solid"
         },
         "marker": {
          "symbol": "circle"
         },
         "mode": "lines",
         "name": "140",
         "showlegend": true,
         "type": "scattergl",
         "x": [
          "ratio_2002-03",
          "ratio_2003-04",
          "ratio_2004-05",
          "ratio_2005-06",
          "ratio_2006-07",
          "ratio_2007-08",
          "ratio_2008-09"
         ],
         "xaxis": "x",
         "y": [
          531.1084337349398,
          510.4835164835165,
          522.8152173913044,
          528.1382978723404,
          607.8214285714286,
          600.5978260869565,
          587.3440860215054
         ],
         "yaxis": "y"
        },
        {
         "hovertemplate": "variable=141<br>index=%{x}<br>value=%{y}<extra></extra>",
         "legendgroup": "141",
         "line": {
          "color": "#FF97FF",
          "dash": "solid"
         },
         "marker": {
          "symbol": "circle"
         },
         "mode": "lines",
         "name": "141",
         "showlegend": true,
         "type": "scattergl",
         "x": [
          "ratio_2002-03",
          "ratio_2003-04",
          "ratio_2004-05",
          "ratio_2005-06",
          "ratio_2006-07",
          "ratio_2007-08",
          "ratio_2008-09"
         ],
         "xaxis": "x",
         "y": [
          474.8235294117647,
          502.0843373493976,
          523.2682926829268,
          466.95454545454544,
          551.4054054054054,
          474.14736842105265,
          461.3673469387755
         ],
         "yaxis": "y"
        },
        {
         "hovertemplate": "variable=142<br>index=%{x}<br>value=%{y}<extra></extra>",
         "legendgroup": "142",
         "line": {
          "color": "#FECB52",
          "dash": "solid"
         },
         "marker": {
          "symbol": "circle"
         },
         "mode": "lines",
         "name": "142",
         "showlegend": true,
         "type": "scattergl",
         "x": [
          "ratio_2002-03",
          "ratio_2003-04",
          "ratio_2004-05",
          "ratio_2005-06",
          "ratio_2006-07",
          "ratio_2007-08",
          "ratio_2008-09"
         ],
         "xaxis": "x",
         "y": [
          545.1323529411765,
          566.0298507462686,
          521.5866666666667,
          512.4556962025316,
          492.6024096385542,
          514.9540229885057,
          530.6551724137931
         ],
         "yaxis": "y"
        },
        {
         "hovertemplate": "variable=144<br>index=%{x}<br>value=%{y}<extra></extra>",
         "legendgroup": "144",
         "line": {
          "color": "#636efa",
          "dash": "solid"
         },
         "marker": {
          "symbol": "circle"
         },
         "mode": "lines",
         "name": "144",
         "showlegend": true,
         "type": "scattergl",
         "x": [
          "ratio_2002-03",
          "ratio_2003-04",
          "ratio_2004-05",
          "ratio_2005-06",
          "ratio_2006-07",
          "ratio_2007-08",
          "ratio_2008-09"
         ],
         "xaxis": "x",
         "y": [
          471.39240506329116,
          472.9634146341463,
          476.144578313253,
          495.04819277108436,
          487.78823529411767,
          526.7058823529412,
          530.6279069767442
         ],
         "yaxis": "y"
        },
        {
         "hovertemplate": "variable=145<br>index=%{x}<br>value=%{y}<extra></extra>",
         "legendgroup": "145",
         "line": {
          "color": "#EF553B",
          "dash": "solid"
         },
         "marker": {
          "symbol": "circle"
         },
         "mode": "lines",
         "name": "145",
         "showlegend": true,
         "type": "scattergl",
         "x": [
          "ratio_2002-03",
          "ratio_2003-04",
          "ratio_2004-05",
          "ratio_2005-06",
          "ratio_2006-07",
          "ratio_2007-08",
          "ratio_2008-09"
         ],
         "xaxis": "x",
         "y": [
          388.93939393939394,
          414.59375,
          426.7319587628866,
          458.9263157894737,
          459.3645833333333,
          489.77,
          545.1086956521739
         ],
         "yaxis": "y"
        },
        {
         "hovertemplate": "variable=146<br>index=%{x}<br>value=%{y}<extra></extra>",
         "legendgroup": "146",
         "line": {
          "color": "#00cc96",
          "dash": "solid"
         },
         "marker": {
          "symbol": "circle"
         },
         "mode": "lines",
         "name": "146",
         "showlegend": true,
         "type": "scattergl",
         "x": [
          "ratio_2002-03",
          "ratio_2003-04",
          "ratio_2004-05",
          "ratio_2005-06",
          "ratio_2006-07",
          "ratio_2007-08",
          "ratio_2008-09"
         ],
         "xaxis": "x",
         "y": [
          424.609756097561,
          451.70512820512823,
          483.14666666666665,
          414.64444444444445,
          476.6829268292683,
          567.171052631579,
          518.2441860465116
         ],
         "yaxis": "y"
        },
        {
         "hovertemplate": "variable=147<br>index=%{x}<br>value=%{y}<extra></extra>",
         "legendgroup": "147",
         "line": {
          "color": "#ab63fa",
          "dash": "solid"
         },
         "marker": {
          "symbol": "circle"
         },
         "mode": "lines",
         "name": "147",
         "showlegend": true,
         "type": "scattergl",
         "x": [
          "ratio_2002-03",
          "ratio_2003-04",
          "ratio_2004-05",
          "ratio_2005-06",
          "ratio_2006-07",
          "ratio_2007-08",
          "ratio_2008-09"
         ],
         "xaxis": "x",
         "y": [
          512.8181818181819,
          477.6235294117647,
          464.7608695652174,
          515.1647058823529,
          481.01075268817203,
          529.8913043478261,
          539.9239130434783
         ],
         "yaxis": "y"
        },
        {
         "hovertemplate": "variable=148<br>index=%{x}<br>value=%{y}<extra></extra>",
         "legendgroup": "148",
         "line": {
          "color": "#FFA15A",
          "dash": "solid"
         },
         "marker": {
          "symbol": "circle"
         },
         "mode": "lines",
         "name": "148",
         "showlegend": true,
         "type": "scattergl",
         "x": [
          "ratio_2002-03",
          "ratio_2003-04",
          "ratio_2004-05",
          "ratio_2005-06",
          "ratio_2006-07",
          "ratio_2007-08",
          "ratio_2008-09"
         ],
         "xaxis": "x",
         "y": [
          479.325,
          454.88505747126436,
          453.9,
          533.1538461538462,
          496.6279069767442,
          553.6588235294117,
          535.2272727272727
         ],
         "yaxis": "y"
        },
        {
         "hovertemplate": "variable=149<br>index=%{x}<br>value=%{y}<extra></extra>",
         "legendgroup": "149",
         "line": {
          "color": "#19d3f3",
          "dash": "solid"
         },
         "marker": {
          "symbol": "circle"
         },
         "mode": "lines",
         "name": "149",
         "showlegend": true,
         "type": "scattergl",
         "x": [
          "ratio_2002-03",
          "ratio_2003-04",
          "ratio_2004-05",
          "ratio_2005-06",
          "ratio_2006-07",
          "ratio_2007-08",
          "ratio_2008-09"
         ],
         "xaxis": "x",
         "y": [
          510.7857142857143,
          517.2222222222222,
          482.95061728395063,
          578.5857142857143,
          464.4888888888889,
          501.967032967033,
          494.2526315789474
         ],
         "yaxis": "y"
        },
        {
         "hovertemplate": "variable=150<br>index=%{x}<br>value=%{y}<extra></extra>",
         "legendgroup": "150",
         "line": {
          "color": "#FF6692",
          "dash": "solid"
         },
         "marker": {
          "symbol": "circle"
         },
         "mode": "lines",
         "name": "150",
         "showlegend": true,
         "type": "scattergl",
         "x": [
          "ratio_2002-03",
          "ratio_2003-04",
          "ratio_2004-05",
          "ratio_2005-06",
          "ratio_2006-07",
          "ratio_2007-08",
          "ratio_2008-09"
         ],
         "xaxis": "x",
         "y": [
          429.93684210526317,
          437.9166666666667,
          467.9569892473118,
          487.1195652173913,
          504.7173913043478,
          521.4895833333334,
          519.5773195876288
         ],
         "yaxis": "y"
        },
        {
         "hovertemplate": "variable=151<br>index=%{x}<br>value=%{y}<extra></extra>",
         "legendgroup": "151",
         "line": {
          "color": "#B6E880",
          "dash": "solid"
         },
         "marker": {
          "symbol": "circle"
         },
         "mode": "lines",
         "name": "151",
         "showlegend": true,
         "type": "scattergl",
         "x": [
          "ratio_2002-03",
          "ratio_2003-04",
          "ratio_2004-05",
          "ratio_2005-06",
          "ratio_2006-07",
          "ratio_2007-08",
          "ratio_2008-09"
         ],
         "xaxis": "x",
         "y": [
          429.96629213483146,
          481.79761904761904,
          447.1847826086956,
          478.1764705882353,
          455.3370786516854,
          512.9777777777778,
          542.0602409638554
         ],
         "yaxis": "y"
        },
        {
         "hovertemplate": "variable=153<br>index=%{x}<br>value=%{y}<extra></extra>",
         "legendgroup": "153",
         "line": {
          "color": "#FF97FF",
          "dash": "solid"
         },
         "marker": {
          "symbol": "circle"
         },
         "mode": "lines",
         "name": "153",
         "showlegend": true,
         "type": "scattergl",
         "x": [
          "ratio_2002-03",
          "ratio_2003-04",
          "ratio_2004-05",
          "ratio_2005-06",
          "ratio_2006-07",
          "ratio_2007-08",
          "ratio_2008-09"
         ],
         "xaxis": "x",
         "y": [
          516.3116883116883,
          530.8571428571429,
          525.5308641975308,
          541.1358024691358,
          520.4302325581396,
          567.5529411764705,
          588.5060240963855
         ],
         "yaxis": "y"
        },
        {
         "hovertemplate": "variable=154<br>index=%{x}<br>value=%{y}<extra></extra>",
         "legendgroup": "154",
         "line": {
          "color": "#FECB52",
          "dash": "solid"
         },
         "marker": {
          "symbol": "circle"
         },
         "mode": "lines",
         "name": "154",
         "showlegend": true,
         "type": "scattergl",
         "x": [
          "ratio_2002-03",
          "ratio_2003-04",
          "ratio_2004-05",
          "ratio_2005-06",
          "ratio_2006-07",
          "ratio_2007-08",
          "ratio_2008-09"
         ],
         "xaxis": "x",
         "y": [
          522.9358974358975,
          496.63529411764705,
          506.3139534883721,
          513.6744186046511,
          554.9012345679013,
          562.4302325581396,
          563.7727272727273
         ],
         "yaxis": "y"
        },
        {
         "hovertemplate": "variable=155<br>index=%{x}<br>value=%{y}<extra></extra>",
         "legendgroup": "155",
         "line": {
          "color": "#636efa",
          "dash": "solid"
         },
         "marker": {
          "symbol": "circle"
         },
         "mode": "lines",
         "name": "155",
         "showlegend": true,
         "type": "scattergl",
         "x": [
          "ratio_2002-03",
          "ratio_2003-04",
          "ratio_2004-05",
          "ratio_2005-06",
          "ratio_2006-07",
          "ratio_2007-08",
          "ratio_2008-09"
         ],
         "xaxis": "x",
         "y": [
          365.77659574468083,
          355.72,
          425.92045454545456,
          400.6,
          409.13,
          580.1621621621622,
          585.5405405405405
         ],
         "yaxis": "y"
        },
        {
         "hovertemplate": "variable=156<br>index=%{x}<br>value=%{y}<extra></extra>",
         "legendgroup": "156",
         "line": {
          "color": "#EF553B",
          "dash": "solid"
         },
         "marker": {
          "symbol": "circle"
         },
         "mode": "lines",
         "name": "156",
         "showlegend": true,
         "type": "scattergl",
         "x": [
          "ratio_2002-03",
          "ratio_2003-04",
          "ratio_2004-05",
          "ratio_2005-06",
          "ratio_2006-07",
          "ratio_2007-08",
          "ratio_2008-09"
         ],
         "xaxis": "x",
         "y": [
          426.9080459770115,
          473.925,
          487.2625,
          492.3536585365854,
          467.7674418604651,
          511.86046511627904,
          524.297619047619
         ],
         "yaxis": "y"
        },
        {
         "hovertemplate": "variable=157<br>index=%{x}<br>value=%{y}<extra></extra>",
         "legendgroup": "157",
         "line": {
          "color": "#00cc96",
          "dash": "solid"
         },
         "marker": {
          "symbol": "circle"
         },
         "mode": "lines",
         "name": "157",
         "showlegend": true,
         "type": "scattergl",
         "x": [
          "ratio_2002-03",
          "ratio_2003-04",
          "ratio_2004-05",
          "ratio_2005-06",
          "ratio_2006-07",
          "ratio_2007-08",
          "ratio_2008-09"
         ],
         "xaxis": "x",
         "y": [
          457.6823529411765,
          501.625,
          470.5824175824176,
          498.34090909090907,
          509.84090909090907,
          567.6860465116279,
          587.4823529411765
         ],
         "yaxis": "y"
        },
        {
         "hovertemplate": "variable=159<br>index=%{x}<br>value=%{y}<extra></extra>",
         "legendgroup": "159",
         "line": {
          "color": "#ab63fa",
          "dash": "solid"
         },
         "marker": {
          "symbol": "circle"
         },
         "mode": "lines",
         "name": "159",
         "showlegend": true,
         "type": "scattergl",
         "x": [
          "ratio_2002-03",
          "ratio_2003-04",
          "ratio_2004-05",
          "ratio_2005-06",
          "ratio_2006-07",
          "ratio_2007-08",
          "ratio_2008-09"
         ],
         "xaxis": "x",
         "y": [
          441.438202247191,
          470.7241379310345,
          463.5842696629214,
          466.9318181818182,
          444.0851063829787,
          517.2528735632184,
          515.6483516483516
         ],
         "yaxis": "y"
        },
        {
         "hovertemplate": "variable=160<br>index=%{x}<br>value=%{y}<extra></extra>",
         "legendgroup": "160",
         "line": {
          "color": "#FFA15A",
          "dash": "solid"
         },
         "marker": {
          "symbol": "circle"
         },
         "mode": "lines",
         "name": "160",
         "showlegend": true,
         "type": "scattergl",
         "x": [
          "ratio_2002-03",
          "ratio_2003-04",
          "ratio_2004-05",
          "ratio_2005-06",
          "ratio_2006-07",
          "ratio_2007-08",
          "ratio_2008-09"
         ],
         "xaxis": "x",
         "y": [
          416.4,
          439.91011235955057,
          449.2967032967033,
          481.6741573033708,
          479.1630434782609,
          530.3555555555556,
          515.4893617021277
         ],
         "yaxis": "y"
        },
        {
         "hovertemplate": "variable=161<br>index=%{x}<br>value=%{y}<extra></extra>",
         "legendgroup": "161",
         "line": {
          "color": "#19d3f3",
          "dash": "solid"
         },
         "marker": {
          "symbol": "circle"
         },
         "mode": "lines",
         "name": "161",
         "showlegend": true,
         "type": "scattergl",
         "x": [
          "ratio_2002-03",
          "ratio_2003-04",
          "ratio_2004-05",
          "ratio_2005-06",
          "ratio_2006-07",
          "ratio_2007-08",
          "ratio_2008-09"
         ],
         "xaxis": "x",
         "y": [
          430.7176470588235,
          482.746835443038,
          465.2857142857143,
          442.9891304347826,
          500.5975609756098,
          483.2608695652174,
          504.34444444444443
         ],
         "yaxis": "y"
        },
        {
         "hovertemplate": "variable=162<br>index=%{x}<br>value=%{y}<extra></extra>",
         "legendgroup": "162",
         "line": {
          "color": "#FF6692",
          "dash": "solid"
         },
         "marker": {
          "symbol": "circle"
         },
         "mode": "lines",
         "name": "162",
         "showlegend": true,
         "type": "scattergl",
         "x": [
          "ratio_2002-03",
          "ratio_2003-04",
          "ratio_2004-05",
          "ratio_2005-06",
          "ratio_2006-07",
          "ratio_2007-08",
          "ratio_2008-09"
         ],
         "xaxis": "x",
         "y": [
          477.9102564102564,
          445.9418604651163,
          473.74074074074076,
          473.9047619047619,
          498.0240963855422,
          518.4302325581396,
          508.53333333333336
         ],
         "yaxis": "y"
        },
        {
         "hovertemplate": "variable=163<br>index=%{x}<br>value=%{y}<extra></extra>",
         "legendgroup": "163",
         "line": {
          "color": "#B6E880",
          "dash": "solid"
         },
         "marker": {
          "symbol": "circle"
         },
         "mode": "lines",
         "name": "163",
         "showlegend": true,
         "type": "scattergl",
         "x": [
          "ratio_2002-03",
          "ratio_2003-04",
          "ratio_2004-05",
          "ratio_2005-06",
          "ratio_2006-07",
          "ratio_2007-08",
          "ratio_2008-09"
         ],
         "xaxis": "x",
         "y": [
          456.17241379310343,
          457.1363636363636,
          482.90697674418607,
          513.7142857142857,
          490.4719101123595,
          535.2298850574713,
          555.8095238095239
         ],
         "yaxis": "y"
        },
        {
         "hovertemplate": "variable=164<br>index=%{x}<br>value=%{y}<extra></extra>",
         "legendgroup": "164",
         "line": {
          "color": "#FF97FF",
          "dash": "solid"
         },
         "marker": {
          "symbol": "circle"
         },
         "mode": "lines",
         "name": "164",
         "showlegend": true,
         "type": "scattergl",
         "x": [
          "ratio_2002-03",
          "ratio_2003-04",
          "ratio_2004-05",
          "ratio_2005-06",
          "ratio_2006-07",
          "ratio_2007-08",
          "ratio_2008-09"
         ],
         "xaxis": "x",
         "y": [
          476.77777777777777,
          525.1184210526316,
          529.1168831168832,
          499.390243902439,
          508.0853658536585,
          546.6951219512196,
          501.4943820224719
         ],
         "yaxis": "y"
        },
        {
         "hovertemplate": "variable=165<br>index=%{x}<br>value=%{y}<extra></extra>",
         "legendgroup": "165",
         "line": {
          "color": "#FECB52",
          "dash": "solid"
         },
         "marker": {
          "symbol": "circle"
         },
         "mode": "lines",
         "name": "165",
         "showlegend": true,
         "type": "scattergl",
         "x": [
          "ratio_2002-03",
          "ratio_2003-04",
          "ratio_2004-05",
          "ratio_2005-06",
          "ratio_2006-07",
          "ratio_2007-08",
          "ratio_2008-09"
         ],
         "xaxis": "x",
         "y": [
          431.8181818181818,
          434.28,
          451.9072164948454,
          466.55102040816325,
          463.96,
          494.11,
          502.5204081632653
         ],
         "yaxis": "y"
        },
        {
         "hovertemplate": "variable=166<br>index=%{x}<br>value=%{y}<extra></extra>",
         "legendgroup": "166",
         "line": {
          "color": "#636efa",
          "dash": "solid"
         },
         "marker": {
          "symbol": "circle"
         },
         "mode": "lines",
         "name": "166",
         "showlegend": true,
         "type": "scattergl",
         "x": [
          "ratio_2002-03",
          "ratio_2003-04",
          "ratio_2004-05",
          "ratio_2005-06",
          "ratio_2006-07",
          "ratio_2007-08",
          "ratio_2008-09"
         ],
         "xaxis": "x",
         "y": [
          432.8735632183908,
          439.55056179775283,
          438.61538461538464,
          454.2967032967033,
          471.5056179775281,
          497.5274725274725,
          511.1685393258427
         ],
         "yaxis": "y"
        },
        {
         "hovertemplate": "variable=167<br>index=%{x}<br>value=%{y}<extra></extra>",
         "legendgroup": "167",
         "line": {
          "color": "#EF553B",
          "dash": "solid"
         },
         "marker": {
          "symbol": "circle"
         },
         "mode": "lines",
         "name": "167",
         "showlegend": true,
         "type": "scattergl",
         "x": [
          "ratio_2002-03",
          "ratio_2003-04",
          "ratio_2004-05",
          "ratio_2005-06",
          "ratio_2006-07",
          "ratio_2007-08",
          "ratio_2008-09"
         ],
         "xaxis": "x",
         "y": [
          447.5833333333333,
          491.51851851851853,
          449.1363636363636,
          439.9255319148936,
          451.5425531914894,
          510.42045454545456,
          505.86516853932585
         ],
         "yaxis": "y"
        },
        {
         "hovertemplate": "variable=168<br>index=%{x}<br>value=%{y}<extra></extra>",
         "legendgroup": "168",
         "line": {
          "color": "#00cc96",
          "dash": "solid"
         },
         "marker": {
          "symbol": "circle"
         },
         "mode": "lines",
         "name": "168",
         "showlegend": true,
         "type": "scattergl",
         "x": [
          "ratio_2002-03",
          "ratio_2003-04",
          "ratio_2004-05",
          "ratio_2005-06",
          "ratio_2006-07",
          "ratio_2007-08",
          "ratio_2008-09"
         ],
         "xaxis": "x",
         "y": [
          513.5540540540541,
          516.7402597402597,
          486.57142857142856,
          508.1547619047619,
          497.92045454545456,
          533.9659090909091,
          515.7956989247311
         ],
         "yaxis": "y"
        },
        {
         "hovertemplate": "variable=169<br>index=%{x}<br>value=%{y}<extra></extra>",
         "legendgroup": "169",
         "line": {
          "color": "#ab63fa",
          "dash": "solid"
         },
         "marker": {
          "symbol": "circle"
         },
         "mode": "lines",
         "name": "169",
         "showlegend": true,
         "type": "scattergl",
         "x": [
          "ratio_2002-03",
          "ratio_2003-04",
          "ratio_2004-05",
          "ratio_2005-06",
          "ratio_2006-07",
          "ratio_2007-08",
          "ratio_2008-09"
         ],
         "xaxis": "x",
         "y": [
          437.26190476190476,
          425.43023255813955,
          449.95238095238096,
          449.72093023255815,
          473.32142857142856,
          478.82954545454544,
          464.57608695652175
         ],
         "yaxis": "y"
        },
        {
         "hovertemplate": "variable=171<br>index=%{x}<br>value=%{y}<extra></extra>",
         "legendgroup": "171",
         "line": {
          "color": "#FFA15A",
          "dash": "solid"
         },
         "marker": {
          "symbol": "circle"
         },
         "mode": "lines",
         "name": "171",
         "showlegend": true,
         "type": "scattergl",
         "x": [
          "ratio_2002-03",
          "ratio_2003-04",
          "ratio_2004-05",
          "ratio_2005-06",
          "ratio_2006-07",
          "ratio_2007-08",
          "ratio_2008-09"
         ],
         "xaxis": "x",
         "y": [
          483.8101265822785,
          510.8961038961039,
          508.59493670886076,
          478.2298850574713,
          529.7125,
          559.329268292683,
          526.6363636363636
         ],
         "yaxis": "y"
        },
        {
         "hovertemplate": "variable=172<br>index=%{x}<br>value=%{y}<extra></extra>",
         "legendgroup": "172",
         "line": {
          "color": "#19d3f3",
          "dash": "solid"
         },
         "marker": {
          "symbol": "circle"
         },
         "mode": "lines",
         "name": "172",
         "showlegend": true,
         "type": "scattergl",
         "x": [
          "ratio_2002-03",
          "ratio_2003-04",
          "ratio_2004-05",
          "ratio_2005-06",
          "ratio_2006-07",
          "ratio_2007-08",
          "ratio_2008-09"
         ],
         "xaxis": "x",
         "y": [
          438.85714285714283,
          413.8494623655914,
          411.16494845360825,
          437.4731182795699,
          431.2421052631579,
          452.5,
          456.2929292929293
         ],
         "yaxis": "y"
        },
        {
         "hovertemplate": "variable=173<br>index=%{x}<br>value=%{y}<extra></extra>",
         "legendgroup": "173",
         "line": {
          "color": "#FF6692",
          "dash": "solid"
         },
         "marker": {
          "symbol": "circle"
         },
         "mode": "lines",
         "name": "173",
         "showlegend": true,
         "type": "scattergl",
         "x": [
          "ratio_2002-03",
          "ratio_2003-04",
          "ratio_2004-05",
          "ratio_2005-06",
          "ratio_2006-07",
          "ratio_2007-08",
          "ratio_2008-09"
         ],
         "xaxis": "x",
         "y": [
          463.5194805194805,
          430.20238095238096,
          489.84615384615387,
          526.4868421052631,
          452.4673913043478,
          490.0111111111111,
          504.66279069767444
         ],
         "yaxis": "y"
        },
        {
         "hovertemplate": "variable=174<br>index=%{x}<br>value=%{y}<extra></extra>",
         "legendgroup": "174",
         "line": {
          "color": "#B6E880",
          "dash": "solid"
         },
         "marker": {
          "symbol": "circle"
         },
         "mode": "lines",
         "name": "174",
         "showlegend": true,
         "type": "scattergl",
         "x": [
          "ratio_2002-03",
          "ratio_2003-04",
          "ratio_2004-05",
          "ratio_2005-06",
          "ratio_2006-07",
          "ratio_2007-08",
          "ratio_2008-09"
         ],
         "xaxis": "x",
         "y": [
          454.6578947368421,
          468.67088607594934,
          411.5698924731183,
          403.85858585858585,
          428.6161616161616,
          472.6938775510204,
          507.9782608695652
         ],
         "yaxis": "y"
        },
        {
         "hovertemplate": "variable=175<br>index=%{x}<br>value=%{y}<extra></extra>",
         "legendgroup": "175",
         "line": {
          "color": "#FF97FF",
          "dash": "solid"
         },
         "marker": {
          "symbol": "circle"
         },
         "mode": "lines",
         "name": "175",
         "showlegend": true,
         "type": "scattergl",
         "x": [
          "ratio_2002-03",
          "ratio_2003-04",
          "ratio_2004-05",
          "ratio_2005-06",
          "ratio_2006-07",
          "ratio_2007-08",
          "ratio_2008-09"
         ],
         "xaxis": "x",
         "y": [
          441.1511627906977,
          453.85393258426967,
          468.76404494382024,
          460.258064516129,
          482.57142857142856,
          508.4891304347826,
          517.7065217391304
         ],
         "yaxis": "y"
        }
       ],
       "layout": {
        "legend": {
         "title": {
          "text": "variable"
         },
         "tracegroupgap": 0
        },
        "template": {
         "data": {
          "bar": [
           {
            "error_x": {
             "color": "#2a3f5f"
            },
            "error_y": {
             "color": "#2a3f5f"
            },
            "marker": {
             "line": {
              "color": "#E5ECF6",
              "width": 0.5
             },
             "pattern": {
              "fillmode": "overlay",
              "size": 10,
              "solidity": 0.2
             }
            },
            "type": "bar"
           }
          ],
          "barpolar": [
           {
            "marker": {
             "line": {
              "color": "#E5ECF6",
              "width": 0.5
             },
             "pattern": {
              "fillmode": "overlay",
              "size": 10,
              "solidity": 0.2
             }
            },
            "type": "barpolar"
           }
          ],
          "carpet": [
           {
            "aaxis": {
             "endlinecolor": "#2a3f5f",
             "gridcolor": "white",
             "linecolor": "white",
             "minorgridcolor": "white",
             "startlinecolor": "#2a3f5f"
            },
            "baxis": {
             "endlinecolor": "#2a3f5f",
             "gridcolor": "white",
             "linecolor": "white",
             "minorgridcolor": "white",
             "startlinecolor": "#2a3f5f"
            },
            "type": "carpet"
           }
          ],
          "choropleth": [
           {
            "colorbar": {
             "outlinewidth": 0,
             "ticks": ""
            },
            "type": "choropleth"
           }
          ],
          "contour": [
           {
            "colorbar": {
             "outlinewidth": 0,
             "ticks": ""
            },
            "colorscale": [
             [
              0,
              "#0d0887"
             ],
             [
              0.1111111111111111,
              "#46039f"
             ],
             [
              0.2222222222222222,
              "#7201a8"
             ],
             [
              0.3333333333333333,
              "#9c179e"
             ],
             [
              0.4444444444444444,
              "#bd3786"
             ],
             [
              0.5555555555555556,
              "#d8576b"
             ],
             [
              0.6666666666666666,
              "#ed7953"
             ],
             [
              0.7777777777777778,
              "#fb9f3a"
             ],
             [
              0.8888888888888888,
              "#fdca26"
             ],
             [
              1,
              "#f0f921"
             ]
            ],
            "type": "contour"
           }
          ],
          "contourcarpet": [
           {
            "colorbar": {
             "outlinewidth": 0,
             "ticks": ""
            },
            "type": "contourcarpet"
           }
          ],
          "heatmap": [
           {
            "colorbar": {
             "outlinewidth": 0,
             "ticks": ""
            },
            "colorscale": [
             [
              0,
              "#0d0887"
             ],
             [
              0.1111111111111111,
              "#46039f"
             ],
             [
              0.2222222222222222,
              "#7201a8"
             ],
             [
              0.3333333333333333,
              "#9c179e"
             ],
             [
              0.4444444444444444,
              "#bd3786"
             ],
             [
              0.5555555555555556,
              "#d8576b"
             ],
             [
              0.6666666666666666,
              "#ed7953"
             ],
             [
              0.7777777777777778,
              "#fb9f3a"
             ],
             [
              0.8888888888888888,
              "#fdca26"
             ],
             [
              1,
              "#f0f921"
             ]
            ],
            "type": "heatmap"
           }
          ],
          "heatmapgl": [
           {
            "colorbar": {
             "outlinewidth": 0,
             "ticks": ""
            },
            "colorscale": [
             [
              0,
              "#0d0887"
             ],
             [
              0.1111111111111111,
              "#46039f"
             ],
             [
              0.2222222222222222,
              "#7201a8"
             ],
             [
              0.3333333333333333,
              "#9c179e"
             ],
             [
              0.4444444444444444,
              "#bd3786"
             ],
             [
              0.5555555555555556,
              "#d8576b"
             ],
             [
              0.6666666666666666,
              "#ed7953"
             ],
             [
              0.7777777777777778,
              "#fb9f3a"
             ],
             [
              0.8888888888888888,
              "#fdca26"
             ],
             [
              1,
              "#f0f921"
             ]
            ],
            "type": "heatmapgl"
           }
          ],
          "histogram": [
           {
            "marker": {
             "pattern": {
              "fillmode": "overlay",
              "size": 10,
              "solidity": 0.2
             }
            },
            "type": "histogram"
           }
          ],
          "histogram2d": [
           {
            "colorbar": {
             "outlinewidth": 0,
             "ticks": ""
            },
            "colorscale": [
             [
              0,
              "#0d0887"
             ],
             [
              0.1111111111111111,
              "#46039f"
             ],
             [
              0.2222222222222222,
              "#7201a8"
             ],
             [
              0.3333333333333333,
              "#9c179e"
             ],
             [
              0.4444444444444444,
              "#bd3786"
             ],
             [
              0.5555555555555556,
              "#d8576b"
             ],
             [
              0.6666666666666666,
              "#ed7953"
             ],
             [
              0.7777777777777778,
              "#fb9f3a"
             ],
             [
              0.8888888888888888,
              "#fdca26"
             ],
             [
              1,
              "#f0f921"
             ]
            ],
            "type": "histogram2d"
           }
          ],
          "histogram2dcontour": [
           {
            "colorbar": {
             "outlinewidth": 0,
             "ticks": ""
            },
            "colorscale": [
             [
              0,
              "#0d0887"
             ],
             [
              0.1111111111111111,
              "#46039f"
             ],
             [
              0.2222222222222222,
              "#7201a8"
             ],
             [
              0.3333333333333333,
              "#9c179e"
             ],
             [
              0.4444444444444444,
              "#bd3786"
             ],
             [
              0.5555555555555556,
              "#d8576b"
             ],
             [
              0.6666666666666666,
              "#ed7953"
             ],
             [
              0.7777777777777778,
              "#fb9f3a"
             ],
             [
              0.8888888888888888,
              "#fdca26"
             ],
             [
              1,
              "#f0f921"
             ]
            ],
            "type": "histogram2dcontour"
           }
          ],
          "mesh3d": [
           {
            "colorbar": {
             "outlinewidth": 0,
             "ticks": ""
            },
            "type": "mesh3d"
           }
          ],
          "parcoords": [
           {
            "line": {
             "colorbar": {
              "outlinewidth": 0,
              "ticks": ""
             }
            },
            "type": "parcoords"
           }
          ],
          "pie": [
           {
            "automargin": true,
            "type": "pie"
           }
          ],
          "scatter": [
           {
            "fillpattern": {
             "fillmode": "overlay",
             "size": 10,
             "solidity": 0.2
            },
            "type": "scatter"
           }
          ],
          "scatter3d": [
           {
            "line": {
             "colorbar": {
              "outlinewidth": 0,
              "ticks": ""
             }
            },
            "marker": {
             "colorbar": {
              "outlinewidth": 0,
              "ticks": ""
             }
            },
            "type": "scatter3d"
           }
          ],
          "scattercarpet": [
           {
            "marker": {
             "colorbar": {
              "outlinewidth": 0,
              "ticks": ""
             }
            },
            "type": "scattercarpet"
           }
          ],
          "scattergeo": [
           {
            "marker": {
             "colorbar": {
              "outlinewidth": 0,
              "ticks": ""
             }
            },
            "type": "scattergeo"
           }
          ],
          "scattergl": [
           {
            "marker": {
             "colorbar": {
              "outlinewidth": 0,
              "ticks": ""
             }
            },
            "type": "scattergl"
           }
          ],
          "scattermapbox": [
           {
            "marker": {
             "colorbar": {
              "outlinewidth": 0,
              "ticks": ""
             }
            },
            "type": "scattermapbox"
           }
          ],
          "scatterpolar": [
           {
            "marker": {
             "colorbar": {
              "outlinewidth": 0,
              "ticks": ""
             }
            },
            "type": "scatterpolar"
           }
          ],
          "scatterpolargl": [
           {
            "marker": {
             "colorbar": {
              "outlinewidth": 0,
              "ticks": ""
             }
            },
            "type": "scatterpolargl"
           }
          ],
          "scatterternary": [
           {
            "marker": {
             "colorbar": {
              "outlinewidth": 0,
              "ticks": ""
             }
            },
            "type": "scatterternary"
           }
          ],
          "surface": [
           {
            "colorbar": {
             "outlinewidth": 0,
             "ticks": ""
            },
            "colorscale": [
             [
              0,
              "#0d0887"
             ],
             [
              0.1111111111111111,
              "#46039f"
             ],
             [
              0.2222222222222222,
              "#7201a8"
             ],
             [
              0.3333333333333333,
              "#9c179e"
             ],
             [
              0.4444444444444444,
              "#bd3786"
             ],
             [
              0.5555555555555556,
              "#d8576b"
             ],
             [
              0.6666666666666666,
              "#ed7953"
             ],
             [
              0.7777777777777778,
              "#fb9f3a"
             ],
             [
              0.8888888888888888,
              "#fdca26"
             ],
             [
              1,
              "#f0f921"
             ]
            ],
            "type": "surface"
           }
          ],
          "table": [
           {
            "cells": {
             "fill": {
              "color": "#EBF0F8"
             },
             "line": {
              "color": "white"
             }
            },
            "header": {
             "fill": {
              "color": "#C8D4E3"
             },
             "line": {
              "color": "white"
             }
            },
            "type": "table"
           }
          ]
         },
         "layout": {
          "annotationdefaults": {
           "arrowcolor": "#2a3f5f",
           "arrowhead": 0,
           "arrowwidth": 1
          },
          "autotypenumbers": "strict",
          "coloraxis": {
           "colorbar": {
            "outlinewidth": 0,
            "ticks": ""
           }
          },
          "colorscale": {
           "diverging": [
            [
             0,
             "#8e0152"
            ],
            [
             0.1,
             "#c51b7d"
            ],
            [
             0.2,
             "#de77ae"
            ],
            [
             0.3,
             "#f1b6da"
            ],
            [
             0.4,
             "#fde0ef"
            ],
            [
             0.5,
             "#f7f7f7"
            ],
            [
             0.6,
             "#e6f5d0"
            ],
            [
             0.7,
             "#b8e186"
            ],
            [
             0.8,
             "#7fbc41"
            ],
            [
             0.9,
             "#4d9221"
            ],
            [
             1,
             "#276419"
            ]
           ],
           "sequential": [
            [
             0,
             "#0d0887"
            ],
            [
             0.1111111111111111,
             "#46039f"
            ],
            [
             0.2222222222222222,
             "#7201a8"
            ],
            [
             0.3333333333333333,
             "#9c179e"
            ],
            [
             0.4444444444444444,
             "#bd3786"
            ],
            [
             0.5555555555555556,
             "#d8576b"
            ],
            [
             0.6666666666666666,
             "#ed7953"
            ],
            [
             0.7777777777777778,
             "#fb9f3a"
            ],
            [
             0.8888888888888888,
             "#fdca26"
            ],
            [
             1,
             "#f0f921"
            ]
           ],
           "sequentialminus": [
            [
             0,
             "#0d0887"
            ],
            [
             0.1111111111111111,
             "#46039f"
            ],
            [
             0.2222222222222222,
             "#7201a8"
            ],
            [
             0.3333333333333333,
             "#9c179e"
            ],
            [
             0.4444444444444444,
             "#bd3786"
            ],
            [
             0.5555555555555556,
             "#d8576b"
            ],
            [
             0.6666666666666666,
             "#ed7953"
            ],
            [
             0.7777777777777778,
             "#fb9f3a"
            ],
            [
             0.8888888888888888,
             "#fdca26"
            ],
            [
             1,
             "#f0f921"
            ]
           ]
          },
          "colorway": [
           "#636efa",
           "#EF553B",
           "#00cc96",
           "#ab63fa",
           "#FFA15A",
           "#19d3f3",
           "#FF6692",
           "#B6E880",
           "#FF97FF",
           "#FECB52"
          ],
          "font": {
           "color": "#2a3f5f"
          },
          "geo": {
           "bgcolor": "white",
           "lakecolor": "white",
           "landcolor": "#E5ECF6",
           "showlakes": true,
           "showland": true,
           "subunitcolor": "white"
          },
          "hoverlabel": {
           "align": "left"
          },
          "hovermode": "closest",
          "mapbox": {
           "style": "light"
          },
          "paper_bgcolor": "white",
          "plot_bgcolor": "#E5ECF6",
          "polar": {
           "angularaxis": {
            "gridcolor": "white",
            "linecolor": "white",
            "ticks": ""
           },
           "bgcolor": "#E5ECF6",
           "radialaxis": {
            "gridcolor": "white",
            "linecolor": "white",
            "ticks": ""
           }
          },
          "scene": {
           "xaxis": {
            "backgroundcolor": "#E5ECF6",
            "gridcolor": "white",
            "gridwidth": 2,
            "linecolor": "white",
            "showbackground": true,
            "ticks": "",
            "zerolinecolor": "white"
           },
           "yaxis": {
            "backgroundcolor": "#E5ECF6",
            "gridcolor": "white",
            "gridwidth": 2,
            "linecolor": "white",
            "showbackground": true,
            "ticks": "",
            "zerolinecolor": "white"
           },
           "zaxis": {
            "backgroundcolor": "#E5ECF6",
            "gridcolor": "white",
            "gridwidth": 2,
            "linecolor": "white",
            "showbackground": true,
            "ticks": "",
            "zerolinecolor": "white"
           }
          },
          "shapedefaults": {
           "line": {
            "color": "#2a3f5f"
           }
          },
          "ternary": {
           "aaxis": {
            "gridcolor": "white",
            "linecolor": "white",
            "ticks": ""
           },
           "baxis": {
            "gridcolor": "white",
            "linecolor": "white",
            "ticks": ""
           },
           "bgcolor": "#E5ECF6",
           "caxis": {
            "gridcolor": "white",
            "linecolor": "white",
            "ticks": ""
           }
          },
          "title": {
           "x": 0.05
          },
          "xaxis": {
           "automargin": true,
           "gridcolor": "white",
           "linecolor": "white",
           "ticks": "",
           "title": {
            "standoff": 15
           },
           "zerolinecolor": "white",
           "zerolinewidth": 2
          },
          "yaxis": {
           "automargin": true,
           "gridcolor": "white",
           "linecolor": "white",
           "ticks": "",
           "title": {
            "standoff": 15
           },
           "zerolinecolor": "white",
           "zerolinewidth": 2
          }
         }
        },
        "title": {
         "text": "Ratio of Teacher Salary to Graduation Rate Over Time"
        },
        "xaxis": {
         "anchor": "y",
         "domain": [
          0,
          1
         ],
         "title": {
          "text": "Year"
         }
        },
        "yaxis": {
         "anchor": "x",
         "domain": [
          0,
          1
         ],
         "title": {
          "text": "Ratio"
         }
        }
       }
      }
     },
     "metadata": {},
     "output_type": "display_data"
    }
   ],
   "source": [
    "# Create a new DataFrame with only the ratio columns\n",
    "ratio_df = merged_df[[col for col in merged_df.columns if 'ratio_' in col]]\n",
    "\n",
    "# Transpose the DataFrame for easier plotting\n",
    "ratio_df = ratio_df.transpose()\n",
    "\n",
    "# Plot the chart using Plotly Express\n",
    "fig = px.line(ratio_df, title='Ratio of Teacher Salary to Graduation Rate Over Time')\n",
    "fig.update_layout(xaxis_title='Year', yaxis_title='Ratio')\n",
    "fig.show() \n"
   ]
  },
  {
   "cell_type": "code",
   "execution_count": null,
   "metadata": {},
   "outputs": [],
   "source": [
    "# Created Data Dictionary  \n",
    "merged_df.to_csv('merged_data.csv', index=False)"
   ]
  }
 ],
 "metadata": {
  "kernelspec": {
   "display_name": "venv",
   "language": "python",
   "name": "python3"
  },
  "language_info": {
   "codemirror_mode": {
    "name": "ipython",
    "version": 3
   },
   "file_extension": ".py",
   "mimetype": "text/x-python",
   "name": "python",
   "nbconvert_exporter": "python",
   "pygments_lexer": "ipython3",
   "version": "3.13.1"
  }
 },
 "nbformat": 4,
 "nbformat_minor": 2
}
